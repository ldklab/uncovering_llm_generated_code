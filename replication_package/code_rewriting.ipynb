{
 "cells": [
  {
   "cell_type": "code",
   "execution_count": 5,
   "metadata": {},
   "outputs": [
    {
     "name": "stderr",
     "output_type": "stream",
     "text": [
      "/Users/sina/Documents/GitHub_Local/uncovering_llm_generated_code/.venv/lib/python3.9/site-packages/tqdm/auto.py:21: TqdmWarning: IProgress not found. Please update jupyter and ipywidgets. See https://ipywidgets.readthedocs.io/en/stable/user_install.html\n",
      "  from .autonotebook import tqdm as notebook_tqdm\n"
     ]
    }
   ],
   "source": [
    "import json \n",
    "from api.openai_api import OPENAI_API\n",
    "from api.google_api import GOOGLE_API\n",
    "from api.anthropic_api import ANTHROPIC_API\n",
    "from concurrent.futures import ThreadPoolExecutor, as_completed\n",
    "import sys\n",
    "import os"
   ]
  },
  {
   "cell_type": "code",
   "execution_count": 14,
   "metadata": {},
   "outputs": [],
   "source": [
    "dataset = 'ibm_claude-3-5-sonnet-20240620'\n",
    "rewrite_model = 'gpt40_mini'"
   ]
  },
  {
   "cell_type": "code",
   "execution_count": 15,
   "metadata": {},
   "outputs": [],
   "source": [
    "samples = {}"
   ]
  },
  {
   "cell_type": "code",
   "execution_count": 19,
   "metadata": {},
   "outputs": [],
   "source": [
    "with open(f\"data/{dataset}.json\") as file:\n",
    "    data = json.load(file)"
   ]
  },
  {
   "cell_type": "code",
   "execution_count": 20,
   "metadata": {},
   "outputs": [
    {
     "data": {
      "text/plain": [
       "2984"
      ]
     },
     "execution_count": 20,
     "metadata": {},
     "output_type": "execute_result"
    }
   ],
   "source": [
    "len(data)"
   ]
  },
  {
   "cell_type": "code",
   "execution_count": 17,
   "metadata": {},
   "outputs": [],
   "source": [
    "data = data[:-1] # Just pick 50 samples"
   ]
  },
  {
   "cell_type": "code",
   "execution_count": 10,
   "metadata": {},
   "outputs": [],
   "source": [
    "# Expanding data by duplicating each sample, one with 'human_code' and one with 'machine_code'\n",
    "splitted_data = []\n",
    "\n",
    "for sample in data:\n",
    "    # Sample with human_code\n",
    "    human_sample = {key: sample[key] for key in sample if key not in ['machine_code', 'human_code']}\n",
    "    human_sample[\"code\"] = sample[\"human_code\"]\n",
    "    human_sample[\"writer\"] = \"human\"\n",
    "    \n",
    "    # Sample with machine_code\n",
    "    machine_sample = {key: sample[key] for key in sample if key not in ['machine_code', 'human_code']}\n",
    "    machine_sample[\"code\"] = sample[\"machine_code\"]\n",
    "    machine_sample[\"writer\"] = \"machine\"\n",
    "    \n",
    "    # Add both samples to the expanded_data list\n",
    "    splitted_data.extend([human_sample, machine_sample])"
   ]
  },
  {
   "cell_type": "code",
   "execution_count": 11,
   "metadata": {},
   "outputs": [
    {
     "data": {
      "text/plain": [
       "5968"
      ]
     },
     "execution_count": 11,
     "metadata": {},
     "output_type": "execute_result"
    }
   ],
   "source": [
    "len(splitted_data)"
   ]
  },
  {
   "cell_type": "code",
   "execution_count": 12,
   "metadata": {},
   "outputs": [],
   "source": [
    "# data_h = [{key: sample[key] for key in sample if key != \"machine_code\"} for sample in data]\n",
    "# data_m = [{key: sample[key] for key in sample if key != \"human_code\"} for sample in data]"
   ]
  },
  {
   "cell_type": "code",
   "execution_count": null,
   "metadata": {},
   "outputs": [],
   "source": [
    "os.environ[\"OPENAI_API_KEY\"] = ''\n",
    "# os.environ[\"GOOGLE_API_KEY\"] = ''\n",
    "# os.environ[\"ANTHROPIC_API_KEY\"] = ''"
   ]
  },
  {
   "cell_type": "code",
   "execution_count": null,
   "metadata": {},
   "outputs": [],
   "source": [
    "apio = OPENAI_API(model='gpt-4o-mini', temperature=1)\n",
    "# apig = GOOGLE_API(model='gemini-1.5-flash', temperture=1)\n",
    "# apia = ANTHROPIC_API(model='claude-3-5-sonnet-20240620', temperature=1)"
   ]
  },
  {
   "cell_type": "code",
   "execution_count": null,
   "metadata": {},
   "outputs": [],
   "source": [
    "def process_item_anthropic(item, idx):\n",
    "    \n",
    "    # pcode = \"```python def main(): for a in range(1, 10):)```\"\n",
    "    code = item['code']\n",
    "    rewrite_prompt = f\"Please first explain the functionality of the Python code below. Then generate a possible rewrite for this Python code function according to your explanation. Please just give me a pure code in reponse, not any explanation or text. Please do not add any clarifications after the rewritten code. JUST PURE CODE, DONT SAY ANY WORD, OTHER THAN CODE. ANSOLUTLY NOTHING.\\n CODE: \\n {code}\"\n",
    "\n",
    "    # Generating the rewrite codes\n",
    "    rewrite_codes = apia.communication_regen(prompt=rewrite_prompt, n=3)\n",
    "    # CleanUp the generated codes\n",
    "    rewrite_codes = [apia.codeSnippetCleanup(item) for item in rewrite_codes]\n",
    "    item[\"rewrite\"] = rewrite_codes\n",
    "    return item"
   ]
  },
  {
   "cell_type": "code",
   "execution_count": null,
   "metadata": {},
   "outputs": [],
   "source": [
    "def process_item_openai(item, idx):\n",
    "    \n",
    "    # pcode = \"```python def main(): for a in range(1, 10):)```\"\n",
    "    code = item['code']\n",
    "    rewrite_prompt = f\"Please first explain the functionality of the Python code below. Then generate a possible rewrite for this Python code function according to your explanation. Please just give me a pure code in reponse, not any explanation or text. Please do not add any clarifications after the rewritten code. JUST PURE CODE, DONT SAY ANY WORD, OTHER THAN CODE. ANSOLUTLY NOTHING.\\n CODE: \\n {code}\"\n",
    "\n",
    "    # Generating the rewrite codes\n",
    "    rewrite_codes = apio.communication_regen(prompt=rewrite_prompt, n=3)\n",
    "    # CleanUp the generated codes\n",
    "    rewrite_codes = [apio.codeSnippetCleanup(item) for item in rewrite_codes]\n",
    "    item[\"rewrite\"] = rewrite_codes\n",
    "    return item\n"
   ]
  },
  {
   "cell_type": "code",
   "execution_count": null,
   "metadata": {},
   "outputs": [],
   "source": [
    "def process_item_gemini(item, idx):\n",
    "    \n",
    "    # pcode = \"```python def main(): for a in range(1, 10):)```\"\n",
    "    code = item['code']\n",
    "    rewrite_prompt = f\"Please first explain the functionality of the Python code below. Then generate a possible rewrite for this Python code function according to your explanation. Please just give me a pure code in reponse, not any explanation or text. Please do not add any clarifications after the rewritten code. JUST PURE CODE, DONT SAY ANY WORD, OTHER THAN CODE. ANSOLUTLY NOTHING.\\n CODE: \\n {code}\"\n",
    "\n",
    "    # Generating the rewrite codes\n",
    "    rewrite_codes = apig.communication_regen(prompt=rewrite_prompt, n=3)\n",
    "    # CleanUp the generated codes\n",
    "    rewrite_codes = [apig.codeSnippetCleanup(item) for item in rewrite_codes]\n",
    "    item[\"rewrite\"] = rewrite_codes\n",
    "    return item"
   ]
  },
  {
   "cell_type": "code",
   "execution_count": null,
   "metadata": {},
   "outputs": [],
   "source": [
    "rewrtied_data = []\n",
    "with ThreadPoolExecutor(max_workers=8) as executer:\n",
    "    \n",
    "    futures_to_items = {executer.submit(process_item_openai, item, idx): item for idx, item in enumerate(splitted_data) if idx < 5000}\n",
    "    \n",
    "    for i, future in enumerate(as_completed(futures_to_items)):\n",
    "        try:\n",
    "            result = future.result()\n",
    "            if result is not None: rewrtied_data.append(result)\n",
    "            sys.stdout.write(f\"\\rProcessed {i + 1} of {len(splitted_data)} prompts...\")\n",
    "            sys.stdout.flush()\n",
    "        except Exception as e:\n",
    "            print(f\"\\nError processing prompt {i + 1}: {e}\")\n",
    "        # if i == 1 : break"
   ]
  },
  {
   "cell_type": "code",
   "execution_count": null,
   "metadata": {},
   "outputs": [],
   "source": [
    "rewrtied_data"
   ]
  },
  {
   "cell_type": "code",
   "execution_count": null,
   "metadata": {},
   "outputs": [],
   "source": [
    "with open(f\"output/rewrite/{dataset}_rewrtie_{rewrite_model}_50.json\", 'w') as file:\n",
    "    json.dump(rewrtied_data, file, indent=4)"
   ]
  },
  {
   "cell_type": "code",
   "execution_count": null,
   "metadata": {},
   "outputs": [],
   "source": []
  }
 ],
 "metadata": {
  "kernelspec": {
   "display_name": ".venv",
   "language": "python",
   "name": "python3"
  },
  "language_info": {
   "codemirror_mode": {
    "name": "ipython",
    "version": 3
   },
   "file_extension": ".py",
   "mimetype": "text/x-python",
   "name": "python",
   "nbconvert_exporter": "python",
   "pygments_lexer": "ipython3",
   "version": "3.9.7"
  }
 },
 "nbformat": 4,
 "nbformat_minor": 2
}
