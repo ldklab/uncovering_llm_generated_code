{
 "cells": [
  {
   "cell_type": "code",
   "execution_count": 1,
   "metadata": {},
   "outputs": [],
   "source": [
    "import json \n",
    "from openai_api import OPENAI_API\n",
    "from concurrent.futures import ThreadPoolExecutor, as_completed\n",
    "import sys\n",
    "import os"
   ]
  },
  {
   "cell_type": "code",
   "execution_count": 2,
   "metadata": {},
   "outputs": [],
   "source": [
    "samples = {}"
   ]
  },
  {
   "cell_type": "code",
   "execution_count": 3,
   "metadata": {},
   "outputs": [],
   "source": [
    "with open(\"data/ibm_gpt-4o.json\") as file:\n",
    "    data = json.load(file)"
   ]
  },
  {
   "cell_type": "code",
   "execution_count": 4,
   "metadata": {},
   "outputs": [],
   "source": [
    "data = data[:50] # Just pick 50 samples"
   ]
  },
  {
   "cell_type": "code",
   "execution_count": 5,
   "metadata": {},
   "outputs": [],
   "source": [
    "# Expanding data by duplicating each sample, one with 'human_code' and one with 'machine_code'\n",
    "splitted_data = []\n",
    "\n",
    "for sample in data:\n",
    "    # Sample with human_code\n",
    "    human_sample = {key: sample[key] for key in sample if key not in ['machine_code', 'human_code']}\n",
    "    human_sample[\"code\"] = sample[\"human_code\"]\n",
    "    human_sample[\"writer\"] = \"human\"\n",
    "    \n",
    "    # Sample with machine_code\n",
    "    machine_sample = {key: sample[key] for key in sample if key not in ['machine_code', 'human_code']}\n",
    "    machine_sample[\"code\"] = sample[\"machine_code\"]\n",
    "    machine_sample[\"writer\"] = \"machine\"\n",
    "    \n",
    "    # Add both samples to the expanded_data list\n",
    "    splitted_data.extend([human_sample, machine_sample])"
   ]
  },
  {
   "cell_type": "code",
   "execution_count": 6,
   "metadata": {},
   "outputs": [],
   "source": [
    "# data_h = [{key: sample[key] for key in sample if key != \"machine_code\"} for sample in data]\n",
    "# data_m = [{key: sample[key] for key in sample if key != \"human_code\"} for sample in data]"
   ]
  },
  {
   "cell_type": "code",
   "execution_count": null,
   "metadata": {},
   "outputs": [],
   "source": [
    "os.environ[\"OPENAI_API_KEY\"]"
   ]
  },
  {
   "cell_type": "code",
   "execution_count": 8,
   "metadata": {},
   "outputs": [],
   "source": [
    "api = OPENAI_API(model='gpt-4o', temperature=1)"
   ]
  },
  {
   "cell_type": "code",
   "execution_count": 9,
   "metadata": {},
   "outputs": [],
   "source": [
    "rewrtied_data = []"
   ]
  },
  {
   "cell_type": "code",
   "execution_count": 10,
   "metadata": {},
   "outputs": [],
   "source": [
    "def process_item(item, idx):\n",
    "    \n",
    "    # pcode = \"```python def main(): for a in range(1, 10):)```\"\n",
    "    code = item['code']\n",
    "    rewrite_prompt = f\"Please first explain the functionality of the Python code below. Then generate a possible rewrite for this Python code according to your explanation. Please just give me a pure code in reponse, not any explanation or text. Please do not add any clarifications after the rewritten code.\\n CODE: \\n {code}\"\n",
    "\n",
    "    # Generating the rewrite codes\n",
    "    rewrite_codes = api.communication(prompt=rewrite_prompt, n=3)\n",
    "    # CleanUp the generated codes\n",
    "    rewrite_codes = [api.codeSnippetCleanup(item) for item in rewrite_codes]\n",
    "    item[\"rewrite\"] = rewrite_codes\n",
    "    return item\n"
   ]
  },
  {
   "cell_type": "code",
   "execution_count": null,
   "metadata": {},
   "outputs": [
    {
     "name": "stdout",
     "output_type": "stream",
     "text": [
      "Processed 71 of 100 prompts..."
     ]
    }
   ],
   "source": [
    "with ThreadPoolExecutor(max_workers=8) as executer:\n",
    "    \n",
    "    futures_to_items = {executer.submit(process_item, item, idx): item for idx, item in enumerate(splitted_data)}\n",
    "    \n",
    "    for i, future in enumerate(as_completed(futures_to_items)):\n",
    "        try:\n",
    "            result = future.result()\n",
    "            if result is not None: rewrtied_data.append(result)\n",
    "            sys.stdout.write(f\"\\rProcessed {i + 1} of {len(splitted_data)} prompts...\")\n",
    "            sys.stdout.flush()\n",
    "        except Exception as e:\n",
    "            print(f\"\\nError processing prompt {i + 1}: {e}\")\n",
    "        # if i == 1 : break"
   ]
  },
  {
   "cell_type": "code",
   "execution_count": null,
   "metadata": {},
   "outputs": [],
   "source": [
    "with open(\"data/ibm_gpt-4o_rewrtie.json\", 'w') as file:\n",
    "    json.dump(rewrtied_data, file, indent=4)"
   ]
  },
  {
   "cell_type": "code",
   "execution_count": null,
   "metadata": {},
   "outputs": [],
   "source": []
  }
 ],
 "metadata": {
  "kernelspec": {
   "display_name": ".venv",
   "language": "python",
   "name": "python3"
  },
  "language_info": {
   "codemirror_mode": {
    "name": "ipython",
    "version": 3
   },
   "file_extension": ".py",
   "mimetype": "text/x-python",
   "name": "python",
   "nbconvert_exporter": "python",
   "pygments_lexer": "ipython3",
   "version": "3.9.7"
  }
 },
 "nbformat": 4,
 "nbformat_minor": 2
}
