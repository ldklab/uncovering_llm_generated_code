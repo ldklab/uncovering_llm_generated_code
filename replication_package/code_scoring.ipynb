{
 "cells": [
  {
   "cell_type": "code",
   "execution_count": 1,
   "metadata": {},
   "outputs": [
    {
     "name": "stderr",
     "output_type": "stream",
     "text": [
      "/Users/sina/Documents/GitHub_Local/uncovering_llm_generated_code/.venv/lib/python3.9/site-packages/tqdm/auto.py:21: TqdmWarning: IProgress not found. Please update jupyter and ipywidgets. See https://ipywidgets.readthedocs.io/en/stable/user_install.html\n",
      "  from .autonotebook import tqdm as notebook_tqdm\n",
      "/Users/sina/Documents/GitHub_Local/uncovering_llm_generated_code/.venv/lib/python3.9/site-packages/transformers/tokenization_utils_base.py:1617: FutureWarning: `clean_up_tokenization_spaces` was not set. It will be set to `True` by default. This behavior will be deprecated in transformers v4.45, and will be then set to `False` by default. For more details check this issue: https://github.com/huggingface/transformers/issues/31884\n",
      "  warnings.warn(\n"
     ]
    }
   ],
   "source": [
    "import subprocess\n",
    "import os\n",
    "import TSED\n",
    "import torch\n",
    "from scipy.spatial.distance import cosine\n",
    "import tiktoken\n",
    "enc = tiktoken.encoding_for_model(\"gpt-4\")\n",
    "import os\n",
    "from openai import OpenAI\n",
    "import json\n",
    "\n",
    "from transformers import AutoModel, AutoTokenizer\n",
    "# Import our models. The package will take care of downloading the models automatically\n",
    "tokenizer = AutoTokenizer.from_pretrained(\"princeton-nlp/sup-simcse-roberta-large\")\n",
    "model = AutoModel.from_pretrained(\"princeton-nlp/sup-simcse-roberta-large\")"
   ]
  },
  {
   "cell_type": "code",
   "execution_count": 2,
   "metadata": {},
   "outputs": [],
   "source": [
    "# with open('output/rewrite/gemini_flash/rewrite_csn_gpt-4o_gemini-1.5-flash_50.json', 'r') as file:\n",
    "#     data = json.load(file)"
   ]
  },
  {
   "cell_type": "code",
   "execution_count": 3,
   "metadata": {},
   "outputs": [],
   "source": [
    "# Directory containing the JSON files\n",
    "directory_path = 'output/rewrite/gpt_mini_12t'\n",
    "\n",
    "# Initialize an empty list to store the combined data\n",
    "data = []\n",
    "\n",
    "# Iterate over all JSON files in the directory\n",
    "for filename in os.listdir(directory_path):\n",
    "    if filename.endswith('.json'):  # Process only JSON files\n",
    "        file_path = os.path.join(directory_path, filename)\n",
    "        # print(file_path)\n",
    "        with open(file_path, 'r') as file:\n",
    "            file_data = json.load(file)  # Load JSON content\n",
    "            data.extend(file_data)  # Add content to "
   ]
  },
  {
   "cell_type": "code",
   "execution_count": 23,
   "metadata": {},
   "outputs": [],
   "source": [
    "data1 = []\n",
    "# Iterate over all JSON files in the directory\n",
    "for filename in os.listdir(directory_path):\n",
    "    if filename.endswith('.json'):  # Process only JSON files\n",
    "        file_path = os.path.join(directory_path, filename)\n",
    "        # print(file_path)\n",
    "        with open(file_path, 'r') as file:\n",
    "            file_data = json.load(file)  # Load JSON content\n",
    "            data1.append({'data': file_data, \n",
    "                         'dataset': file_path.split('/')[-1].split('.')[0]})  # Add content to \n"
   ]
  },
  {
   "cell_type": "code",
   "execution_count": 28,
   "metadata": {},
   "outputs": [],
   "source": [
    "detector_llm = directory_path.split('/')[-1]"
   ]
  },
  {
   "cell_type": "code",
   "execution_count": 34,
   "metadata": {},
   "outputs": [],
   "source": [
    "import pandas as pd"
   ]
  },
  {
   "cell_type": "code",
   "execution_count": 29,
   "metadata": {},
   "outputs": [
    {
     "data": {
      "text/plain": [
       "'gpt_mini_12t'"
      ]
     },
     "execution_count": 29,
     "metadata": {},
     "output_type": "execute_result"
    }
   ],
   "source": [
    "detector_llm"
   ]
  },
  {
   "cell_type": "code",
   "execution_count": null,
   "metadata": {},
   "outputs": [
    {
     "name": "stdout",
     "output_type": "stream",
     "text": [
      "                          dataset  auc_gpt_mini_12t\n",
      "0                      csn_gpt-4o                 1\n",
      "1  ibm_claude-3-5-sonnet-20240620                 1\n",
      "2                    ibm_gemini-1                 1\n",
      "3                    csn_gemini-1                 1\n",
      "4                      ibm_gpt-4o                 1\n",
      "5  csn_claude-3-5-sonnet-20240620                 1\n"
     ]
    }
   ],
   "source": [
    "detector_llm = directory_path.split('/')[-1]\n",
    "\n",
    "rows = []\n",
    "for item in data1:\n",
    "    auc_score = 1\n",
    "    row = {\"dataset\": '_'.join(item['dataset'].split('_')[1:3]), \n",
    "         f\"AUC_{detector_llm}\": auc_score}\n",
    "    rows.append(row)\n",
    "\n",
    "df = pd.DataFrame(rows)\n",
    "print(df)\n",
    "df.to_csv(\"output.csv\", index=False)\n",
    "    "
   ]
  },
  {
   "cell_type": "code",
   "execution_count": 6,
   "metadata": {},
   "outputs": [],
   "source": [
    "def string_similarity(first, second):\n",
    "\toutput = subprocess.check_output([\"node\", \"string-similarity-wrapper.js\", first, second], universal_newlines=True)\n",
    "\t\n",
    "\tscore = float(output.split(\" \")[-1])\n",
    "\treturn score"
   ]
  },
  {
   "cell_type": "code",
   "execution_count": 7,
   "metadata": {},
   "outputs": [],
   "source": [
    "def classify_package(item, num_rewrites, strategy):\n",
    "\ttexts = [item['code']]\n",
    "\ttexts.extend(item['rewrite'])\n",
    "\n",
    "\tsim_scores = []\n",
    "\n",
    "\tif strategy == 'simcse':\n",
    "\t\tinputs = tokenizer(texts, padding=True, truncation=True, return_tensors=\"pt\")\n",
    "\t\twith torch.no_grad():\n",
    "\t\t\tembeddings = model(**inputs, output_hidden_states=True, return_dict=True).pooler_output\n",
    "\n",
    "\t\tfor i in range(num_rewrites):\n",
    "\t\t\tsim = 1 - cosine(embeddings[0], embeddings[i+1])\n",
    "\t\t\tsim_scores.append(sim)\n",
    "\n",
    "\telif strategy == 'string':\n",
    "\t\tfor i in range(num_rewrites):\n",
    "\t\t\tsim = string_similarity(texts[0], texts[i+1])\n",
    "\t\t\tsim_scores.append(sim)\n",
    "\n",
    "\telif strategy == 'tsed':\n",
    "\t\tfor i in range(num_rewrites):\n",
    "\t\t\tsim = TSED.Calculate(\"python\", texts[0], texts[i+1], 1.0, 0.8, 1.0)\n",
    "\t\t\tsim_scores.append(sim)\n",
    "\telse:\n",
    "\t\tprint('ERROR. Invalid Strategy: \"' + strategy + '\"')\n",
    "\t\treturn []\n",
    "\n",
    "\treturn sim_scores"
   ]
  },
  {
   "cell_type": "code",
   "execution_count": 8,
   "metadata": {},
   "outputs": [],
   "source": [
    "# print(f\"Machine sample scores (simcse): {classify_package(data[0], 3, 'simcse')}\") \n",
    "# print(f\"Human sample scores(simcse): {classify_package(data[1], 3, 'simcse')}\")\n"
   ]
  },
  {
   "cell_type": "code",
   "execution_count": 9,
   "metadata": {},
   "outputs": [],
   "source": [
    "# print(f\"Machine sample scores (tsed): {classify_package(data[0], 3, 'tsed')}\")\n",
    "# print(f\"Machine sample scores (tsed): {classify_package(data[2], 3, 'tsed')}\") \n",
    "# print(f\"Machine sample scores (tsed): {classify_package(data[5], 3, 'tsed')}\") \n",
    "# print(f\"Machine sample scores (tsed): {classify_package(data[6], 3, 'tsed')}\")\n",
    "# print(f\"Machine sample scores (tsed): {classify_package(data[9], 3, 'tsed')}\") \n",
    " \n",
    "\n",
    "# print(f\"Human sample scores(tsed): {classify_package(data[1], 3, 'tsed')}\")\n",
    "# print(f\"Human sample scores(tsed): {classify_package(data[3], 3, 'tsed')}\")\n",
    "# print(f\"Human sample scores(tsed): {classify_package(data[4], 3, 'tsed')}\")\n",
    "# print(f\"Human sample scores(tsed): {classify_package(data[7], 3, 'tsed')}\")\n",
    "# print(f\"Human sample scores(tsed): {classify_package(data[8], 3, 'tsed')}\")"
   ]
  },
  {
   "cell_type": "markdown",
   "metadata": {},
   "source": [
    "## Scoring the entire samples"
   ]
  },
  {
   "cell_type": "code",
   "execution_count": 10,
   "metadata": {},
   "outputs": [],
   "source": [
    "import numpy as np\n",
    "from sklearn.metrics import roc_curve, auc\n",
    "import matplotlib.pyplot as plt\n",
    "from tqdm import tqdm  # Import tqdm for the progress bar"
   ]
  },
  {
   "cell_type": "code",
   "execution_count": 11,
   "metadata": {},
   "outputs": [],
   "source": [
    "def scoring_process(strategy='simcse'):\n",
    "    # Initialize lists to collect labels and scores\n",
    "    labels = []\n",
    "    scores = []\n",
    "\n",
    "    # Choose the strategy for similarity computation\n",
    "    strategy = strategy  # You can also use 'string' or 'tsed'\n",
    "\n",
    "    # Iterate over the dataset with a progress bar\n",
    "    for item in tqdm(data, desc=\"Processing items\"):\n",
    "        # Get the label (1 for machine, 0 for human)\n",
    "        label = 1 if item['writer'] == 'machine' else 0\n",
    "        labels.append(label)\n",
    "        \n",
    "        # Compute similarity scores using classify_package\n",
    "        num_rewrites = len(item['rewrite'])\n",
    "        sim_scores = classify_package(item, num_rewrites, strategy)\n",
    "        \n",
    "        # Average the similarity scores as per the formula\n",
    "        avg_score = np.mean(sim_scores)\n",
    "        scores.append(avg_score)\n",
    "\n",
    "    # Convert lists to numpy arrays for compatibility\n",
    "    labels = np.array(labels)\n",
    "    scores = np.array(scores)\n",
    "\n",
    "    # Compute ROC curve and AUC\n",
    "    fpr, tpr, thresholds = roc_curve(labels, scores)\n",
    "    roc_auc = auc(fpr, tpr)\n",
    "\n",
    "    # Print AUC value\n",
    "    print(f'AUC for strategy \"{strategy}\": {roc_auc:.4f}')\n",
    "\n",
    "    # Plot ROC curve\n",
    "    plt.figure()\n",
    "    plt.plot(fpr, tpr, color='darkorange', lw=2, label=f'ROC curve (AUC = {roc_auc:.4f})')\n",
    "    plt.plot([0, 1], [0, 1], color='navy', lw=2, linestyle='--')  # Diagonal line\n",
    "    plt.xlim([0.0, 1.0])\n",
    "    plt.ylim([0.0, 1.05])\n",
    "    plt.xlabel('False Positive Rate')\n",
    "    plt.ylabel('True Positive Rate')\n",
    "    plt.title(f'Receiver Operating Characteristic - {strategy}')\n",
    "    plt.legend(loc=\"lower right\")\n",
    "    plt.show()"
   ]
  },
  {
   "cell_type": "code",
   "execution_count": 12,
   "metadata": {},
   "outputs": [
    {
     "name": "stderr",
     "output_type": "stream",
     "text": [
      "Processing items: 100%|██████████| 600/600 [19:14<00:00,  1.92s/it]"
     ]
    },
    {
     "name": "stdout",
     "output_type": "stream",
     "text": [
      "AUC for strategy \"simcse\": 0.6751\n"
     ]
    },
    {
     "name": "stderr",
     "output_type": "stream",
     "text": [
      "\n"
     ]
    },
    {
     "data": {
      "image/png": "[encoded data removed]",
      "text/plain": [
       "<Figure size 640x480 with 1 Axes>"
      ]
     },
     "metadata": {},
     "output_type": "display_data"
    }
   ],
   "source": [
    "scoring_process(strategy='simcse')"
   ]
  },
  {
   "cell_type": "code",
   "execution_count": 13,
   "metadata": {},
   "outputs": [],
   "source": [
    "# scoring_process(strategy='string')"
   ]
  },
  {
   "cell_type": "code",
   "execution_count": 14,
   "metadata": {},
   "outputs": [],
   "source": [
    "# scoring_process(strategy='tsed')"
   ]
  },
  {
   "cell_type": "code",
   "execution_count": null,
   "metadata": {},
   "outputs": [],
   "source": []
  }
 ],
 "metadata": {
  "kernelspec": {
   "display_name": ".venv",
   "language": "python",
   "name": "python3"
  },
  "language_info": {
   "codemirror_mode": {
    "name": "ipython",
    "version": 3
   },
   "file_extension": ".py",
   "mimetype": "text/x-python",
   "name": "python",
   "nbconvert_exporter": "python",
   "pygments_lexer": "ipython3",
   "version": "3.9.7"
  }
 },
 "nbformat": 4,
 "nbformat_minor": 2
}
