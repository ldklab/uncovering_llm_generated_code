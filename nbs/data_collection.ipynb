{
 "cells": [
  {
   "cell_type": "code",
   "execution_count": 61,
   "metadata": {
    "collapsed": true
   },
   "outputs": [],
   "source": [
    "import pandas as pd\n",
    "import os\n",
    "os.chdir(\"/home/yangkai/codegen-detection/\")\n",
    "# hum_data = pd.read_pickle(\"dataset/mbpp_hum_test.pkl\")\n",
    "gen_data = pd.read_pickle(\"dataset/apps_gen_test100_gpt4.pkl\")"
   ]
  },
  {
   "cell_type": "code",
   "execution_count": 70,
   "metadata": {},
   "outputs": [
    {
     "data": {
      "text/plain": [
       "99"
      ]
     },
     "execution_count": 70,
     "metadata": {},
     "output_type": "execute_result"
    }
   ],
   "source": [
    "import re\n",
    "from prepro.code_prepro import CommentsRemover,PygmentsTokenizer,EmptyLinesRemover\n",
    "\n",
    "def extract_code(resp,id=0):\n",
    "    try:\n",
    "        text = resp['choices'][id]['message']['content']\n",
    "        # text = resp[1][0]['generated_text']\n",
    "    except KeyError:\n",
    "        return ''\n",
    "    pattern = r'```python\\n(.+?)\\n```'\n",
    "    code_blocks = re.findall(pattern, text, re.DOTALL)\n",
    "    if len(code_blocks) > 0:\n",
    "        return code_blocks[0]\n",
    "\n",
    "    if resp['choices'][id]['finish_reason'] == 'length':\n",
    "        pattern2 = r'```python\\n(.+?)'\n",
    "    else:\n",
    "        pattern2 = r'``` python\\n(.+?)\\n```'\n",
    "\n",
    "    # pattern2 = r'```python\\n(.+?)'\n",
    "    code_blocks = re.findall(pattern2, text, re.DOTALL)\n",
    "    if len(code_blocks) > 0:\n",
    "        return code_blocks[0]\n",
    "\n",
    "    pattern3 = r\"```\\n(.+?)\\n```\"\n",
    "    code_blocks = re.findall(pattern3, text, re.DOTALL)\n",
    "    if len(code_blocks) > 0:\n",
    "        return code_blocks[0]\n",
    "\n",
    "    if resp['choices'][id]['finish_reason'] == 'length':\n",
    "        pattern4 = r\"```\\n(.+?)\"\n",
    "        code_blocks = re.findall(pattern4, text, re.DOTALL)\n",
    "        if len(code_blocks) > 0:\n",
    "            return code_blocks[0]\n",
    "\n",
    "    # pattern4 = r\"```\\n(.+?)\"\n",
    "    # code_blocks = re.findall(pattern4, text, re.DOTALL)\n",
    "    # if len(code_blocks) > 0:\n",
    "    #     return code_blocks[0]\n",
    "\n",
    "    return \"\"\n",
    "\n",
    "import json\n",
    "def load_json_dataset(pth):\n",
    "    dataset = []\n",
    "    cnt = 0\n",
    "    with open(pth,\"r\") as f:\n",
    "        for line in f:\n",
    "            try:\n",
    "                dataset.append(json.loads(line.strip()))\n",
    "                cnt += 1\n",
    "            except:\n",
    "                dataset.append([{},{}])\n",
    "\n",
    "    return dataset\n",
    "\n",
    "idx = 3\n",
    "gen_resp = load_json_dataset(\"prompt_gpt/apps_gen_test100_gpt35_temp20_gpt35_resample.jsonl\")\n",
    "extract_gen = [extract_code(resp,id=idx) for resp in gen_resp]\n",
    "\n",
    "tokenizer = PygmentsTokenizer('Python')\n",
    "comment_remover = CommentsRemover(tokenizer)\n",
    "emptyline_remover = EmptyLinesRemover()\n",
    "\n",
    "def prepro_pipeline(x):\n",
    "    return emptyline_remover.filter(comment_remover.filter(x))\n",
    "\n",
    "extract_gen = [prepro_pipeline(x) for x in extract_gen]\n",
    "len(list(filter(lambda x:len(x)>0,extract_gen)))"
   ]
  },
  {
   "cell_type": "code",
   "execution_count": 71,
   "metadata": {},
   "outputs": [
    {
     "name": "stderr",
     "output_type": "stream",
     "text": [
      "/tmp/ipykernel_2396855/1903384213.py:1: PerformanceWarning: DataFrame is highly fragmented.  This is usually the result of calling `frame.insert` many times, which has poor performance.  Consider joining all columns at once using pd.concat(axis=1) instead. To get a de-fragmented frame, use `newframe = frame.copy()`\n",
      "  gen_data[f\"gpt_resample_code_cleaned{idx+1}\"] = extract_gen\n"
     ]
    }
   ],
   "source": [
    "gen_data[f\"gpt_resample_code_cleaned{idx+1}\"] = extract_gen\n",
    "# hum_data['extracted_full_func'] = hum_data['solution']"
   ]
  },
  {
   "cell_type": "code",
   "execution_count": 48,
   "metadata": {},
   "outputs": [],
   "source": [
    "# gen_data['extracted_full_func'] = gen_data['extracted_full_func'].apply(prepro_pipeline)\n",
    "# hum_data['extracted_full_func'] = hum_data['extracted_full_func'].apply(prepro_pipeline)\n",
    "gen_data['extracted_full_func'] = extract_gen"
   ]
  },
  {
   "cell_type": "code",
   "execution_count": 72,
   "metadata": {},
   "outputs": [],
   "source": [
    "gen_data.to_pickle(\"dataset/apps_gen_test100_gpt35_temp20.pkl\")\n",
    "# hum_data.to_pickle(\"dataset/mbpp_hum_test.pkl\")"
   ]
  },
  {
   "cell_type": "code",
   "execution_count": 11,
   "metadata": {},
   "outputs": [
    {
     "data": {
      "text/plain": [
       "[\"def encode(message, key, initShift):\\n    unique_key = ''.join(sorted(set(key), key=key.index))\\n    rest_of_alpha = ''.join(sorted(set('abcdefghijklmnopqrstuvwxyz') - set(unique_key)))\\n    key_alphabet = unique_key + rest_of_alpha\\n    result = ''\\n    for char in message:\\n        if char.isalpha():\\n            index = (key_alphabet.index(char) + initShift) % 26\\n            result += key_alphabet[index]\\n            initShift = key_alphabet.index(char) + 1\\n        else:\\n            result += char\\n    return result\\ndef decode(message, key, initShift):\\n    unique_key = ''.join(sorted(set(key), key=key.index))\\n    rest_of_alpha = ''.join(sorted(set('abcdefghijklmnopqrstuvwxyz') - set(unique_key)))\\n    key_alphabet = unique_key + rest_of_alpha\\n    result = ''\\n    for char in message:\\n        if char.isalpha():\\n            index = (key_alphabet.index(char) - initShift) % 26\\n            result += key_alphabet[index]\\n            initShift = key_alphabet.index(result[-1]) + 1\\n        else:\\n            result += char\\n    return result\",\n",
       " 'def count_pairs(n, k, a):\\n    count = [0]*k\\n    ten = [0]*k\\n    ten[0] = 1\\n    result = 0\\n    for i in range(1, k):\\n        ten[i] = ten[i-1]*10%k\\n    for x in a:\\n        for i in range(len(str(x))):\\n            result += count[(k - x * ten[i] % k) % k]\\n        for i in range(len(str(x)) - 1, -1, -1):\\n            count[(x * ten[i]) % k] += 1\\n    return result\\nn, k = map(int, input().split())\\na = list(map(int, input().split()))\\nprint(count_pairs(n, k, a))',\n",
       " \"import sys\\nfrom heapq import *\\nINF = float('inf')\\ndef read_data():\\n    a, n, m = map(int, input().split())\\n    rain = [0] * (a + 1)\\n    for _ in range(n):\\n        l, r = map(int, input().split())\\n        for i in range(l, r):\\n            rain[i] = 1\\n    umbrellas = [INF] * (a + 1)\\n    for _ in range(m):\\n        x, p = map(int, input().split())\\n        umbrellas[x] = min(umbrellas[x], p)\\n    return a, rain, umbrellas\\ndef solve(a, rain, umbrellas):\\n    dp = [INF] * (a + 1)\\n    heap = []\\n    for i in range(a + 1):\\n        while heap and heap[0][1] <= i:\\n            heappop(heap)\\n        if rain[i]:\\n            if dp[i] != INF:\\n                heappush(heap, (dp[i] - umbrellas[i], i))\\n            if heap:\\n                dp[i] = heap[0][0] + umbrellas[i]\\n        else:\\n            if heap:\\n                dp[i] = heap[0][0]\\n            if dp[i] != INF:\\n                dp[i] += umbrellas[i]\\n    return dp[a]\\na, rain, umbrellas = read_data()\\nanswer = solve(a, rain, umbrellas)\\nprint(answer if answer != INF else -1)\",\n",
       " 'def flowers(s):\\n    for i in range(len(s) - 2):\\n        if \\'A\\' in s[i:i+3] and \\'B\\' in s[i:i+3] and \\'C\\' in s[i:i+3]:\\n            return \"Yes\"\\n    return \"No\"\\ns = input().strip()\\nprint(flowers(s))',\n",
       " \"n, m = map(int, input().split())\\na = [list(input()) for _ in range(n)]\\nX = [i for i in range(n) for j in range(m) if a[i][j] == 'w']\\nY = [j for i in range(n) for j in range(m) if a[i][j] == 'w']\\nx1, x2, y1, y2 = min(X), max(X), min(Y), max(Y)\\nd = max(x2-x1+1, y2-y1+1)\\nif y1+d-1 < m:\\n    for i in range(d):\\n        if x1+i < n:\\n            if a[x1+i][y1] == '.': a[x1+i][y1] = '+'\\n            if a[x1+i][y1+d-1] == '.': a[x1+i][y1+d-1] = '+'\\n        else:\\n            print(-1)\\n            exit(0)\\n    for j in range(d):\\n        if a[x1][y1+j] == '.': a[x1][y1+j] = '+'\\n        if a[x2][y1+j] == '.': a[x2][y1+j] = '+'\\nelif x1+d-1 < n:\\n    for i in range(d):\\n        if a[x1+i][y1] == '.': a[x1+i][y1] = '+'\\n        if a[x1+i][y2] == '.': a[x1+i][y2] = '+'\\n    for j in range(d):\\n        if a[x1][y1+j] == '.': a[x1][y1+j] = '+'\\n        if a[x1+d-1][y1+j] == '.': a[x1+d-1][y1+j] = '+'\\nelse:\\n    print(-1)\\n    exit(0)\\nfor i in a:\\n    print(''.join(i))\",\n",
       " \"def check_string(s):\\n    if len(s) >= 4 and len(s) <= 10:\\n        if s[0] == 'A' and s[2:-1].count('C') == 1 and s.replace('A','').replace('C','').islower():\\n            return 'AC'\\n    return 'WA'\\ns = input().strip()\\nprint(check_string(s))\",\n",
       " 'def diff_between_collections(A, B):\\n    A_set = set(A)\\n    B_set = set(B)\\n    diff = A_set.symmetric_difference(B_set)\\n    return sorted(list(diff))',\n",
       " 'T = int(input())\\nfor _ in range(T):\\n    N = int(input())\\n    if N%4 == 0 and N%7 == 0:\\n        print(N//2)\\n    elif N%4 == 0:\\n        print(N//2)\\n    elif N%7 == 0:\\n        print(0)\\n    elif N >= 28 and (N-28)%4 == 0:\\n        print((N-28)//2 + 4)\\n    else:\\n        print(\"-1\")',\n",
       " 'from heapq import *\\nfrom collections import deque\\nt = int(input())\\nfor _ in range(t):\\n    n = int(input())\\n    a = list(map(int, input().split()))\\n    b = [0]*n\\n    p = [0]*(n+2)\\n    q = deque()\\n    for i in range(1, n+1):\\n        if i == n or a[i] != a[i-1]:\\n            q.append((a[i-1], i))\\n    if len(q) == 0 or q[0][0] != n+1:\\n        print(-1)\\n        continue\\n    cur = 1\\n    while len(q):\\n        x, i = q.pop()\\n        b[i-1] = cur\\n        while len(q) and q[-1][0] == x:\\n            _, i = q.pop()\\n            b[i-1] = cur\\n        cur += 1\\n    q = []\\n    for i in range(n-1, -1, -1):\\n        if i == n-1 or a[i] != a[i+1]:\\n            heappush(q, -b[i])\\n        p[i+1] = -q[0]\\n    if p[1:n+1] == a:\\n        print(*b)\\n    else:\\n        print(-1)',\n",
       " 'def pasha_contest(n, problems, m, periods):\\n    problems.sort()\\n    total_time = sum(problems)\\n    if m == 0 or total_time < periods[0][0]:\\n        return -1\\n    for period in periods:\\n        if total_time <= period[1]:\\n            return max(total_time, period[0])\\n    return -1\\nprint(pasha_contest(2, [3, 4], 2, [(1, 4), (7, 9)])) \\nprint(pasha_contest(1, [5], 1, [(1, 4)])) \\nprint(pasha_contest(1, [5], 1, [(1, 5)])) # Output: 5']"
      ]
     },
     "execution_count": 11,
     "metadata": {},
     "output_type": "execute_result"
    }
   ],
   "source": [
    "gen_data['extracted_full_func'].tolist()[:10]"
   ]
  }
 ],
 "metadata": {
  "kernelspec": {
   "display_name": "Python 3",
   "language": "python",
   "name": "python3"
  },
  "language_info": {
   "codemirror_mode": {
    "name": "ipython",
    "version": 3
   },
   "file_extension": ".py",
   "mimetype": "text/x-python",
   "name": "python",
   "nbconvert_exporter": "python",
   "pygments_lexer": "ipython3",
   "version": "3.9.16"
  }
 },
 "nbformat": 4,
 "nbformat_minor": 0
}
