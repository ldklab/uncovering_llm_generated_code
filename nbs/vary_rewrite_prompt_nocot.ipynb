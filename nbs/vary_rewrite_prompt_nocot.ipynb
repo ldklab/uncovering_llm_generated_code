{
 "cells": [
  {
   "cell_type": "code",
   "execution_count": 1,
   "metadata": {},
   "outputs": [],
   "source": [
    "import pandas as pd\n",
    "import os\n",
    "os.chdir(\"/home/yangkai/codegen-detection/\")\n",
    "hum_data = pd.read_pickle(\"dataset/apps_hum_test.pkl\")\n",
    "gen_data = pd.read_pickle(\"dataset/apps_gen_test.pkl\")"
   ]
  },
  {
   "cell_type": "code",
   "execution_count": 11,
   "metadata": {},
   "outputs": [],
   "source": [
    "import json\n",
    "def load_json_dataset(pth):\n",
    "    dataset = []\n",
    "    cnt = 0\n",
    "    with open(pth,\"r\") as f:\n",
    "        for line in f:\n",
    "            try:\n",
    "                dataset.append(json.loads(line.strip()))\n",
    "                cnt += 1\n",
    "            except:\n",
    "                dataset.append([{},{}])\n",
    "\n",
    "    return dataset\n",
    "\n",
    "gen_nocot_rewrite = load_json_dataset(\"prompt_gpt/mbpp_gen_test_gpt_resample2.jsonl\")\n",
    "hum_nocot_rewrite = load_json_dataset(\"prompt_gpt/mbpp_hum_test_gpt_resample2.jsonl\")"
   ]
  },
  {
   "cell_type": "code",
   "execution_count": 12,
   "metadata": {},
   "outputs": [
    {
     "data": {
      "text/plain": [
       "0"
      ]
     },
     "execution_count": 12,
     "metadata": {},
     "output_type": "execute_result"
    }
   ],
   "source": [
    "import re\n",
    "def extract_gpt_code(resp,id=0):\n",
    "    try:\n",
    "        text = resp['choices'][id]['message']['content']\n",
    "        # text = resp[1][0]['generated_text']\n",
    "    except KeyError:\n",
    "        return ''\n",
    "    pattern = r'```python\\n(.+?)\\n```'\n",
    "    code_blocks = re.findall(pattern, text, re.DOTALL)\n",
    "    if len(code_blocks) > 0:\n",
    "        return code_blocks[0]\n",
    "\n",
    "    if resp['choices'][id]['finish_reason'] == 'length':\n",
    "        pattern2 = r'```python\\n(.+?)'\n",
    "    else:\n",
    "        pattern2 = r'``` python\\n(.+?)\\n```'\n",
    "\n",
    "    # pattern2 = r'```python\\n(.+?)'\n",
    "    code_blocks = re.findall(pattern2, text, re.DOTALL)\n",
    "    if len(code_blocks) > 0:\n",
    "        return code_blocks[0]\n",
    "\n",
    "    pattern3 = r\"```\\n(.+?)\\n```\"\n",
    "    code_blocks = re.findall(pattern3, text, re.DOTALL)\n",
    "    if len(code_blocks) > 0:\n",
    "        return code_blocks[0]\n",
    "\n",
    "    if resp['choices'][id]['finish_reason'] == 'length':\n",
    "        pattern4 = r\"```\\n(.+?)\"\n",
    "        code_blocks = re.findall(pattern4, text, re.DOTALL)\n",
    "        if len(code_blocks) > 0:\n",
    "            return code_blocks[0]\n",
    "    \n",
    "    pattern5 = r\"Python\\n(.+?)\"\n",
    "    code_blocks = re.findall(pattern5, text, re.DOTALL)\n",
    "    if len(code_blocks) > 0:\n",
    "        return code_blocks[0]\n",
    "\n",
    "    return \"\"\n",
    "\n",
    "failed_case = 0\n",
    "for resp in gen_nocot_rewrite:\n",
    "    out = extract_gpt_code(resp,id=0)\n",
    "    if len(out) == 0:\n",
    "        failed_case += 1\n",
    "        # print(resp)\n",
    "failed_case"
   ]
  },
  {
   "cell_type": "code",
   "execution_count": 13,
   "metadata": {},
   "outputs": [],
   "source": [
    "for idx in [2,3,4,5,6,7,8]:\n",
    "    key_name = f'gpt_resample_code{idx}'\n",
    "    hum_data[key_name] = hum_nocot_rewrite\n",
    "    hum_data[key_name] = hum_data[key_name].apply(lambda x: extract_gpt_code(x,idx-2))\n",
    "\n",
    "    gen_data[key_name] = gen_nocot_rewrite\n",
    "    gen_data[key_name] = gen_data[key_name].apply(lambda x: extract_gpt_code(x,idx-2))\n",
    "\n",
    "    from prepro.code_prepro import CommentsRemover,PygmentsTokenizer,EmptyLinesRemover\n",
    "    tokenizer = PygmentsTokenizer('Python')\n",
    "    comment_remover = CommentsRemover(tokenizer)\n",
    "    emptyline_remover = EmptyLinesRemover()\n",
    "\n",
    "    def pipeline(x):\n",
    "        return emptyline_remover.filter(comment_remover.filter(x))\n",
    "\n",
    "    cleaned_name = f'gpt_resample_code_cleaned{idx}'\n",
    "    gen_data[cleaned_name] = gen_data[key_name].apply(pipeline)\n",
    "    hum_data[cleaned_name] = hum_data[key_name].apply(pipeline)"
   ]
  },
  {
   "cell_type": "code",
   "execution_count": 3,
   "metadata": {},
   "outputs": [
    {
     "name": "stdout",
     "output_type": "stream",
     "text": [
      "23\n",
      "8\n",
      "23\n",
      "6\n",
      "20\n",
      "6\n",
      "21\n",
      "8\n",
      "22\n",
      "10\n",
      "21\n",
      "8\n"
     ]
    }
   ],
   "source": [
    "# check empty\n",
    "for idx in [3,4,5,6,7,8]:\n",
    "    cleaned_name = f'gpt_resample_code_cleaned{idx}'\n",
    "    print((gen_data[cleaned_name].apply(len) == 0).sum())\n",
    "    print((hum_data[cleaned_name].apply(len) == 0).sum())\n"
   ]
  },
  {
   "cell_type": "code",
   "execution_count": 9,
   "metadata": {},
   "outputs": [],
   "source": [
    "hum_data.to_pickle(\"dataset/mbpp_hum_test.pkl\")\n",
    "gen_data.to_pickle(\"dataset/mbpp_gen_test.pkl\")"
   ]
  },
  {
   "cell_type": "code",
   "execution_count": 4,
   "metadata": {},
   "outputs": [],
   "source": [
    "sampled_hum_data = pd.read_pickle(\"dataset/apps_hum_test100.pkl\")\n",
    "sampled_gen_data = pd.read_pickle(\"dataset/apps_gen_test100.pkl\")"
   ]
  },
  {
   "cell_type": "code",
   "execution_count": 6,
   "metadata": {},
   "outputs": [],
   "source": [
    "sampled_gen_data['gpt_resample_code_cleand3'] = gen_data['gpt_resample_code_cleaned3'][gen_data['problem_id'].isin(sampled_gen_data.problem_id)]\n",
    "\n",
    "sampled_gen_data['gpt_resample_code_cleand4'] = gen_data['gpt_resample_code_cleaned4'][gen_data['problem_id'].isin(sampled_gen_data.problem_id)]\n",
    "\n",
    "sampled_gen_data['gpt_resample_code_cleand5'] = gen_data['gpt_resample_code_cleaned5'][gen_data['problem_id'].isin(sampled_gen_data.problem_id)]\n",
    "\n",
    "sampled_gen_data['gpt_resample_code_cleand6'] = gen_data['gpt_resample_code_cleaned6'][gen_data['problem_id'].isin(sampled_gen_data.problem_id)]\n",
    "\n",
    "sampled_gen_data['gpt_resample_code_cleand7'] = gen_data['gpt_resample_code_cleaned7'][gen_data['problem_id'].isin(sampled_gen_data.problem_id)]\n",
    "\n",
    "sampled_gen_data['gpt_resample_code_cleand8'] = gen_data['gpt_resample_code_cleaned8'][gen_data['problem_id'].isin(sampled_gen_data.problem_id)]"
   ]
  },
  {
   "cell_type": "code",
   "execution_count": 7,
   "metadata": {},
   "outputs": [
    {
     "ename": "KeyError",
     "evalue": "'gpt_resample_code_cleand5'",
     "output_type": "error",
     "traceback": [
      "\u001b[0;31m---------------------------------------------------------------------------\u001b[0m",
      "\u001b[0;31mKeyError\u001b[0m                                  Traceback (most recent call last)",
      "File \u001b[0;32m~/anaconda3/envs/torch20-cu117/lib/python3.9/site-packages/pandas/core/indexes/base.py:3652\u001b[0m, in \u001b[0;36mIndex.get_loc\u001b[0;34m(self, key)\u001b[0m\n\u001b[1;32m   3651\u001b[0m \u001b[39mtry\u001b[39;00m:\n\u001b[0;32m-> 3652\u001b[0m     \u001b[39mreturn\u001b[39;00m \u001b[39mself\u001b[39;49m\u001b[39m.\u001b[39;49m_engine\u001b[39m.\u001b[39;49mget_loc(casted_key)\n\u001b[1;32m   3653\u001b[0m \u001b[39mexcept\u001b[39;00m \u001b[39mKeyError\u001b[39;00m \u001b[39mas\u001b[39;00m err:\n",
      "File \u001b[0;32m~/anaconda3/envs/torch20-cu117/lib/python3.9/site-packages/pandas/_libs/index.pyx:147\u001b[0m, in \u001b[0;36mpandas._libs.index.IndexEngine.get_loc\u001b[0;34m()\u001b[0m\n",
      "File \u001b[0;32m~/anaconda3/envs/torch20-cu117/lib/python3.9/site-packages/pandas/_libs/index.pyx:176\u001b[0m, in \u001b[0;36mpandas._libs.index.IndexEngine.get_loc\u001b[0;34m()\u001b[0m\n",
      "File \u001b[0;32mpandas/_libs/hashtable_class_helper.pxi:7080\u001b[0m, in \u001b[0;36mpandas._libs.hashtable.PyObjectHashTable.get_item\u001b[0;34m()\u001b[0m\n",
      "File \u001b[0;32mpandas/_libs/hashtable_class_helper.pxi:7088\u001b[0m, in \u001b[0;36mpandas._libs.hashtable.PyObjectHashTable.get_item\u001b[0;34m()\u001b[0m\n",
      "\u001b[0;31mKeyError\u001b[0m: 'gpt_resample_code_cleand5'",
      "\nThe above exception was the direct cause of the following exception:\n",
      "\u001b[0;31mKeyError\u001b[0m                                  Traceback (most recent call last)",
      "\u001b[1;32m/home/yangkai/codegen-detection/nbs/vary_rewrite_prompt_nocot.ipynb 单元格 9\u001b[0m in \u001b[0;36m<cell line: 5>\u001b[0;34m()\u001b[0m\n\u001b[1;32m      <a href='vscode-notebook-cell://ssh-remote%2Bg9/home/yangkai/codegen-detection/nbs/vary_rewrite_prompt_nocot.ipynb#X11sdnNjb2RlLXJlbW90ZQ%3D%3D?line=0'>1</a>\u001b[0m sampled_hum_data[\u001b[39m'\u001b[39m\u001b[39mgpt_resample_code_cleand3\u001b[39m\u001b[39m'\u001b[39m] \u001b[39m=\u001b[39m hum_data[\u001b[39m'\u001b[39m\u001b[39mgpt_resample_code_cleaned3\u001b[39m\u001b[39m'\u001b[39m][hum_data[\u001b[39m'\u001b[39m\u001b[39mproblem_id\u001b[39m\u001b[39m'\u001b[39m]\u001b[39m.\u001b[39misin(sampled_hum_data\u001b[39m.\u001b[39mproblem_id)]\n\u001b[1;32m      <a href='vscode-notebook-cell://ssh-remote%2Bg9/home/yangkai/codegen-detection/nbs/vary_rewrite_prompt_nocot.ipynb#X11sdnNjb2RlLXJlbW90ZQ%3D%3D?line=2'>3</a>\u001b[0m sampled_hum_data[\u001b[39m'\u001b[39m\u001b[39mgpt_resample_code_cleand4\u001b[39m\u001b[39m'\u001b[39m] \u001b[39m=\u001b[39m hum_data[\u001b[39m'\u001b[39m\u001b[39mgpt_resample_code_cleaned4\u001b[39m\u001b[39m'\u001b[39m][hum_data[\u001b[39m'\u001b[39m\u001b[39mproblem_id\u001b[39m\u001b[39m'\u001b[39m]\u001b[39m.\u001b[39misin(sampled_hum_data\u001b[39m.\u001b[39mproblem_id)]\n\u001b[0;32m----> <a href='vscode-notebook-cell://ssh-remote%2Bg9/home/yangkai/codegen-detection/nbs/vary_rewrite_prompt_nocot.ipynb#X11sdnNjb2RlLXJlbW90ZQ%3D%3D?line=4'>5</a>\u001b[0m sampled_hum_data[\u001b[39m'\u001b[39m\u001b[39mgpt_resample_code_cleand5\u001b[39m\u001b[39m'\u001b[39m] \u001b[39m=\u001b[39m hum_data[\u001b[39m'\u001b[39;49m\u001b[39mgpt_resample_code_cleand5\u001b[39;49m\u001b[39m'\u001b[39;49m][hum_data[\u001b[39m'\u001b[39m\u001b[39mproblem_id\u001b[39m\u001b[39m'\u001b[39m]\u001b[39m.\u001b[39misin(sampled_hum_data\u001b[39m.\u001b[39mproblem_id)]\n\u001b[1;32m      <a href='vscode-notebook-cell://ssh-remote%2Bg9/home/yangkai/codegen-detection/nbs/vary_rewrite_prompt_nocot.ipynb#X11sdnNjb2RlLXJlbW90ZQ%3D%3D?line=6'>7</a>\u001b[0m sampled_hum_data[\u001b[39m'\u001b[39m\u001b[39mgpt_resample_code_cleand6\u001b[39m\u001b[39m'\u001b[39m] \u001b[39m=\u001b[39m hum_data[\u001b[39m'\u001b[39m\u001b[39mgpt_resample_code_cleand6\u001b[39m\u001b[39m'\u001b[39m][hum_data[\u001b[39m'\u001b[39m\u001b[39mproblem_id\u001b[39m\u001b[39m'\u001b[39m]\u001b[39m.\u001b[39misin(sampled_hum_data\u001b[39m.\u001b[39mproblem_id)]\n\u001b[1;32m      <a href='vscode-notebook-cell://ssh-remote%2Bg9/home/yangkai/codegen-detection/nbs/vary_rewrite_prompt_nocot.ipynb#X11sdnNjb2RlLXJlbW90ZQ%3D%3D?line=8'>9</a>\u001b[0m sampled_hum_data[\u001b[39m'\u001b[39m\u001b[39mgpt_resample_code_cleand7\u001b[39m\u001b[39m'\u001b[39m] \u001b[39m=\u001b[39m hum_data[\u001b[39m'\u001b[39m\u001b[39mgpt_resample_code_cleand7\u001b[39m\u001b[39m'\u001b[39m][hum_data[\u001b[39m'\u001b[39m\u001b[39mproblem_id\u001b[39m\u001b[39m'\u001b[39m]\u001b[39m.\u001b[39misin(sampled_hum_data\u001b[39m.\u001b[39mproblem_id)]\n",
      "File \u001b[0;32m~/anaconda3/envs/torch20-cu117/lib/python3.9/site-packages/pandas/core/frame.py:3761\u001b[0m, in \u001b[0;36mDataFrame.__getitem__\u001b[0;34m(self, key)\u001b[0m\n\u001b[1;32m   3759\u001b[0m \u001b[39mif\u001b[39;00m \u001b[39mself\u001b[39m\u001b[39m.\u001b[39mcolumns\u001b[39m.\u001b[39mnlevels \u001b[39m>\u001b[39m \u001b[39m1\u001b[39m:\n\u001b[1;32m   3760\u001b[0m     \u001b[39mreturn\u001b[39;00m \u001b[39mself\u001b[39m\u001b[39m.\u001b[39m_getitem_multilevel(key)\n\u001b[0;32m-> 3761\u001b[0m indexer \u001b[39m=\u001b[39m \u001b[39mself\u001b[39;49m\u001b[39m.\u001b[39;49mcolumns\u001b[39m.\u001b[39;49mget_loc(key)\n\u001b[1;32m   3762\u001b[0m \u001b[39mif\u001b[39;00m is_integer(indexer):\n\u001b[1;32m   3763\u001b[0m     indexer \u001b[39m=\u001b[39m [indexer]\n",
      "File \u001b[0;32m~/anaconda3/envs/torch20-cu117/lib/python3.9/site-packages/pandas/core/indexes/base.py:3654\u001b[0m, in \u001b[0;36mIndex.get_loc\u001b[0;34m(self, key)\u001b[0m\n\u001b[1;32m   3652\u001b[0m     \u001b[39mreturn\u001b[39;00m \u001b[39mself\u001b[39m\u001b[39m.\u001b[39m_engine\u001b[39m.\u001b[39mget_loc(casted_key)\n\u001b[1;32m   3653\u001b[0m \u001b[39mexcept\u001b[39;00m \u001b[39mKeyError\u001b[39;00m \u001b[39mas\u001b[39;00m err:\n\u001b[0;32m-> 3654\u001b[0m     \u001b[39mraise\u001b[39;00m \u001b[39mKeyError\u001b[39;00m(key) \u001b[39mfrom\u001b[39;00m \u001b[39merr\u001b[39;00m\n\u001b[1;32m   3655\u001b[0m \u001b[39mexcept\u001b[39;00m \u001b[39mTypeError\u001b[39;00m:\n\u001b[1;32m   3656\u001b[0m     \u001b[39m# If we have a listlike key, _check_indexing_error will raise\u001b[39;00m\n\u001b[1;32m   3657\u001b[0m     \u001b[39m#  InvalidIndexError. Otherwise we fall through and re-raise\u001b[39;00m\n\u001b[1;32m   3658\u001b[0m     \u001b[39m#  the TypeError.\u001b[39;00m\n\u001b[1;32m   3659\u001b[0m     \u001b[39mself\u001b[39m\u001b[39m.\u001b[39m_check_indexing_error(key)\n",
      "\u001b[0;31mKeyError\u001b[0m: 'gpt_resample_code_cleand5'"
     ]
    }
   ],
   "source": [
    "sampled_hum_data['gpt_resample_code_cleand3'] = hum_data['gpt_resample_code_cleaned3'][hum_data['problem_id'].isin(sampled_hum_data.problem_id)]\n",
    "\n",
    "sampled_hum_data['gpt_resample_code_cleand4'] = hum_data['gpt_resample_code_cleaned4'][hum_data['problem_id'].isin(sampled_hum_data.problem_id)]\n",
    "\n",
    "sampled_hum_data['gpt_resample_code_cleand5'] = hum_data['gpt_resample_code_cleaned5'][hum_data['problem_id'].isin(sampled_hum_data.problem_id)]\n",
    "\n",
    "sampled_hum_data['gpt_resample_code_cleand6'] = hum_data['gpt_resample_code_cleaned6'][hum_data['problem_id'].isin(sampled_hum_data.problem_id)]\n",
    "\n",
    "sampled_hum_data['gpt_resample_code_cleand7'] = hum_data['gpt_resample_code_cleaned7'][hum_data['problem_id'].isin(sampled_hum_data.problem_id)]\n",
    "\n",
    "sampled_hum_data['gpt_resample_code_cleand8'] = hum_data['gpt_resample_code_cleaned8'][hum_data['problem_id'].isin(sampled_hum_data.problem_id)]"
   ]
  },
  {
   "cell_type": "code",
   "execution_count": 42,
   "metadata": {},
   "outputs": [],
   "source": [
    "sampled_hum_data.to_pickle(\"dataset/apps_hum_test100.pkl\")\n",
    "sampled_gen_data.to_pickle(\"dataset/apps_gen_test100.pkl\")"
   ]
  }
 ],
 "metadata": {
  "kernelspec": {
   "display_name": "torch20-cu117",
   "language": "python",
   "name": "python3"
  },
  "language_info": {
   "codemirror_mode": {
    "name": "ipython",
    "version": 3
   },
   "file_extension": ".py",
   "mimetype": "text/x-python",
   "name": "python",
   "nbconvert_exporter": "python",
   "pygments_lexer": "ipython3",
   "version": "3.9.16"
  },
  "orig_nbformat": 4
 },
 "nbformat": 4,
 "nbformat_minor": 2
}
