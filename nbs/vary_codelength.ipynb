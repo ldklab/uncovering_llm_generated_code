{
 "cells": [
  {
   "cell_type": "code",
   "execution_count": 1,
   "metadata": {},
   "outputs": [],
   "source": [
    "import pandas as pd\n",
    "import os\n",
    "os.chdir(\"/home/yangkai/codegen-detection\")"
   ]
  },
  {
   "cell_type": "code",
   "execution_count": 2,
   "metadata": {},
   "outputs": [],
   "source": [
    "hum_data = pd.read_pickle(\"dataset/apps_hum_test.pkl\")\n",
    "gen_data = pd.read_pickle(\"dataset/apps_gen_test.pkl\")\n",
    "\n",
    "# hum_data = pd.read_pickle(\"dataset/csn_1k_hum_test.pkl\")\n",
    "# gen_data = pd.read_pickle(\"dataset/csn_gpt_gen_test.pkl\")\n",
    "hum_data['label'] = 0\n",
    "gen_data['label'] = 1"
   ]
  },
  {
   "cell_type": "code",
   "execution_count": 3,
   "metadata": {},
   "outputs": [],
   "source": [
    "hum_len = hum_data['extracted_full_func'].apply(len)\n",
    "gen_len = gen_data['extracted_full_func'].apply(len)"
   ]
  },
  {
   "cell_type": "code",
   "execution_count": 10,
   "metadata": {},
   "outputs": [],
   "source": [
    "def get_data_range(s,e,df1,df2):\n",
    "    lens = df1['extracted_full_func'].apply(len)\n",
    "    selected1 = df1[(lens >=s) & (lens < e)]\n",
    "    \n",
    "    lens = df2['extracted_full_func'].apply(len)\n",
    "    selected2 = df2[(lens >=s) & (lens < e)]\n",
    "\n",
    "    min_len = min(len(selected1),len(selected2))\n",
    "    \n",
    "\n",
    "    return selected1.sample(min_len,random_state=42),selected2.sample(min_len,random_state=42)\n",
    "\n",
    "sampled_gen,sampled_hum = get_data_range(0,100,gen_data,hum_data)"
   ]
  },
  {
   "cell_type": "code",
   "execution_count": 22,
   "metadata": {},
   "outputs": [],
   "source": [
    "from sklearn.metrics import roc_auc_score,average_precision_score\n",
    "import numpy as np\n",
    "\n",
    "def word_prob_gather_fn(word_prob):\n",
    "    try:\n",
    "        assert len(word_prob) > 0\n",
    "    except:\n",
    "        return 0\n",
    "    if model != 'code-cushman-001':\n",
    "        log_prob = np.log(np.array(word_prob) + 1e-6)\n",
    "    else:\n",
    "        log_prob = np.array(word_prob)\n",
    "    avg_log_prob = log_prob.sum() / (len(log_prob) + 1e-6)\n",
    "    return avg_log_prob\n",
    "\n",
    "def entropy_gather_fn(entropy):\n",
    "    try:\n",
    "        assert len(entropy) > 0\n",
    "    except:\n",
    "        return 0\n",
    "    entropy = np.array(entropy)\n",
    "    \n",
    "    avg_entropy = entropy.sum() / (len(entropy) + 1e-6)\n",
    "    return -avg_entropy\n",
    "\n",
    "def log_rank_gather_fn(word_rank):\n",
    "    try:\n",
    "        assert len(word_rank) > 0\n",
    "    except:\n",
    "        return 0\n",
    "    log_rank = np.log(np.array(word_rank) + 1)\n",
    "    avg_log_rank = log_rank.sum() / (len(log_rank) + 1e-6)\n",
    "    return -avg_log_rank\n",
    "\n",
    "def rank_gather_fn(word_rank):\n",
    "    try:\n",
    "        assert len(word_rank) > 0\n",
    "    except:\n",
    "        return 0\n",
    "    log_rank = np.array(word_rank) + 1\n",
    "    avg_log_rank = log_rank.sum() / (len(log_rank) + 1e-6)\n",
    "    return -avg_log_rank"
   ]
  },
  {
   "cell_type": "code",
   "execution_count": 30,
   "metadata": {},
   "outputs": [
    {
     "name": "stdout",
     "output_type": "stream",
     "text": [
      "0 200 193\n",
      "         codegen-2B-mono incoder-6B llama-13b starcoder     avg\n",
      "log_prob            0.57       0.51      0.56      0.53  0.5425\n",
      "rank                0.49       0.51      0.45      0.47    0.48\n",
      "log_rank            0.55        0.5      0.53      0.52   0.525\n",
      "entropy              0.5       0.56      0.53      0.48  0.5175\n",
      "200 400 219\n",
      "         codegen-2B-mono incoder-6B llama-13b starcoder     avg\n",
      "log_prob            0.72       0.66      0.73       0.7  0.7025\n",
      "rank                0.55       0.52      0.51      0.49  0.5175\n",
      "log_rank            0.68       0.65      0.69      0.67  0.6725\n",
      "entropy             0.66       0.62      0.68       0.6    0.64\n",
      "400 600 121\n",
      "         codegen-2B-mono incoder-6B llama-13b starcoder     avg\n",
      "log_prob             0.7       0.65      0.71      0.68   0.685\n",
      "rank                0.52       0.51      0.36      0.46  0.4625\n",
      "log_rank            0.66       0.63      0.64      0.64  0.6425\n",
      "entropy             0.65        0.6      0.66      0.58  0.6225\n",
      "600 1000 99\n",
      "         codegen-2B-mono incoder-6B llama-13b starcoder     avg\n",
      "log_prob            0.79       0.75      0.79      0.77   0.775\n",
      "rank                0.64       0.47      0.34      0.43    0.47\n",
      "log_rank            0.77       0.73      0.75      0.73   0.745\n",
      "entropy             0.74       0.71      0.75      0.63  0.7075\n",
      "1000 1000000000 43\n",
      "         codegen-2B-mono incoder-6B llama-13b starcoder     avg\n",
      "log_prob            0.68       0.68       0.7      0.65  0.6775\n",
      "rank                0.71       0.46      0.18      0.45    0.45\n",
      "log_rank            0.67       0.69      0.68      0.63  0.6675\n",
      "entropy             0.64       0.64      0.68      0.47  0.6075\n"
     ]
    }
   ],
   "source": [
    "ranges = [(0,200),(200,400),(400,600),(600,1000),(1000,1000000000)]\n",
    "hum_column_prefix = 'extracted_full_func_'\n",
    "gen_column_prefix = 'extracted_full_func_'\n",
    "for s,e in ranges:\n",
    "    sampled_gen,sampled_hum = get_data_range(s,e,gen_data,hum_data)\n",
    "    \n",
    "    models = ['codegen-2B-mono','incoder-6B','llama-13b','starcoder']\n",
    "    score_names = ['log_prob','rank','log_rank','entropy']\n",
    "    feat_name_dict = {'log_prob':\"word_prob\",\"rank\":\"word_rank\",\"log_rank\":\"word_rank\",\"entropy\":\"entropy\"}\n",
    "    name2gatherfn = {\"log_prob\":word_prob_gather_fn,\"rank\":rank_gather_fn,\"log_rank\":log_rank_gather_fn,\"entropy\":entropy_gather_fn}\n",
    "    result_df = pd.DataFrame(index=score_names,columns=models)\n",
    "    all_data = pd.concat([sampled_gen,sampled_hum])\n",
    "    for model in models:\n",
    "        for score in score_names:\n",
    "            # print(model,score)\n",
    "            hum_column_name = hum_column_prefix + f\"{feat_name_dict[score]}_{model}\"\n",
    "            gen_column_name = gen_column_prefix + f\"{feat_name_dict[score]}_{model}\"\n",
    "            \n",
    "            all_feat = pd.concat([sampled_gen[gen_column_name],sampled_hum[hum_column_name]])\n",
    "\n",
    "            all_score = all_feat.apply(name2gatherfn[score]).tolist()\n",
    "            all_label = all_data['label']\n",
    "            roc = roc_auc_score(all_label,all_score)\n",
    "            result_df[model][score] = round(roc,2)\n",
    "    result_df['avg'] = result_df.mean(axis=1)\n",
    "    print(s,e,len(sampled_gen))\n",
    "    print(result_df)"
   ]
  },
  {
   "cell_type": "code",
   "execution_count": 32,
   "metadata": {},
   "outputs": [
    {
     "name": "stdout",
     "output_type": "stream",
     "text": [
      "0 200 193\n",
      "          codegen-2B-mono incoder-6B llama-13b starcoder     avg\n",
      "DetectGPT            0.47       0.52      0.49      0.49  0.4925\n",
      "200 400 219\n",
      "          codegen-2B-mono incoder-6B llama-13b starcoder     avg\n",
      "DetectGPT            0.62       0.66      0.66      0.62  0.6105\n",
      "400 600 121\n",
      "          codegen-2B-mono incoder-6B llama-13b starcoder     avg\n",
      "DetectGPT            0.71       0.73      0.74      0.73  0.7041\n",
      "600 1000 99\n",
      "          codegen-2B-mono incoder-6B llama-13b starcoder      avg\n",
      "DetectGPT             0.8       0.79      0.84       0.8  0.78682\n",
      "1000 1000000000 43\n",
      "          codegen-2B-mono incoder-6B llama-13b starcoder       avg\n",
      "DetectGPT             0.9       0.92      0.94      0.92  0.893364\n"
     ]
    }
   ],
   "source": [
    "hum_perturb = pd.read_pickle(\"dataset/apps_hum_test_perturb_ident_10.pkl\")\n",
    "gen_perturb = pd.read_pickle(\"dataset/apps_gen_test_perturb_ident_10.pkl\")\n",
    "df = pd.DataFrame(index=['DetectGPT'],columns=models)\n",
    "for s,e in ranges:\n",
    "    sampled_gen,sampled_hum = get_data_range(s,e,gen_data,hum_data)\n",
    "    for model in models:\n",
    "        column_name = f\"extracted_full_func_word_prob_{model}\"\n",
    "        hum_score = []\n",
    "        for pid,orig_prob in zip(sampled_hum['problem_id'],sampled_hum[column_name]):\n",
    "            orig_prob = word_prob_gather_fn(orig_prob)\n",
    "            perturb_probs = hum_perturb[hum_perturb.problem_id == pid][column_name].apply(word_prob_gather_fn)\n",
    "            if len(perturb_probs) == 0:\n",
    "                hum_score.append(0)\n",
    "                continue\n",
    "            perturb_prob = perturb_probs.mean()\n",
    "            prob_diff = orig_prob - perturb_prob\n",
    "            hum_score.append(prob_diff)\n",
    "        \n",
    "        gen_score = []\n",
    "        for pid,orig_prob in zip(sampled_gen['problem_id'],sampled_gen[column_name]):\n",
    "            orig_prob = word_prob_gather_fn(orig_prob)\n",
    "            perturb_probs = gen_perturb[gen_perturb.problem_id == pid][column_name].apply(word_prob_gather_fn)\n",
    "            if len(perturb_probs) == 0:\n",
    "                gen_score.append(0)\n",
    "                continue\n",
    "            perturb_prob = perturb_probs.mean()\n",
    "            prob_diff = orig_prob - perturb_prob\n",
    "            gen_score.append(prob_diff)\n",
    "        \n",
    "        scores = gen_score + hum_score\n",
    "        labels = [1] * len(gen_score) + [0] * len(hum_score)\n",
    "        roc = roc_auc_score(labels,scores)\n",
    "        df[model]['DetectGPT'] = round(roc,2)\n",
    "\n",
    "    df['avg'] = df.mean(axis=1)\n",
    "    print(s,e,len(sampled_gen))\n",
    "    print(df)\n",
    "        "
   ]
  },
  {
   "cell_type": "code",
   "execution_count": 33,
   "metadata": {},
   "outputs": [
    {
     "name": "stderr",
     "output_type": "stream",
     "text": [
      "/home/yangkai/anaconda3/envs/torch20-cu117/lib/python3.9/site-packages/tqdm/auto.py:21: TqdmWarning: IProgress not found. Please update jupyter and ipywidgets. See https://ipywidgets.readthedocs.io/en/stable/user_install.html\n",
      "  from .autonotebook import tqdm as notebook_tqdm\n"
     ]
    },
    {
     "name": "stdout",
     "output_type": "stream",
     "text": [
      "{'pooler_type': 'cls', 'temp': 0.1, 'mlp_only_train': True}\n"
     ]
    }
   ],
   "source": [
    "from simcse.simcse import RobertaForCL\n",
    "from transformers import AutoTokenizer\n",
    "device = 5\n",
    "model_args = {'pooler_type':'cls','temp':0.1,'mlp_only_train':True}\n",
    "model = RobertaForCL.from_pretrained(\"simcse/ckpt_gcb4_full/best_model\",**model_args)\n",
    "\n",
    "# model_args = {'pooler_type':'cls','temp':0.1,'mlp_only_train':True}\n",
    "# model = RobertaForCL.from_pretrained(\"microsoft/graphcodebert-base\",**model_args)\n",
    "\n",
    "tokenizer = AutoTokenizer.from_pretrained(\"microsoft/graphcodebert-base\")\n",
    "model = model.to(device)"
   ]
  },
  {
   "cell_type": "code",
   "execution_count": 34,
   "metadata": {},
   "outputs": [],
   "source": [
    "import torch\n",
    "from tqdm import tqdm\n",
    "bsz = 32\n",
    "\n",
    "@torch.inference_mode()\n",
    "def pipeline(texts):\n",
    "    inputs = tokenizer(texts,return_tensors='pt',padding=True,add_special_tokens=True,truncation=True)\n",
    "    inputs = {k:v.to(device) for k,v in inputs.items()}\n",
    "    sent_embed = model(**inputs,sent_emb=True).pooler_output\n",
    "\n",
    "    return sent_embed\n",
    "\n",
    "@torch.inference_mode()\n",
    "def batch_encode(texts):\n",
    "    embeds = []\n",
    "    for i in tqdm(range(0,len(texts),bsz)):\n",
    "        chunk = texts[i:i+bsz]\n",
    "        embeds.append(pipeline(chunk))\n",
    "    \n",
    "    return torch.cat(embeds,dim=0)"
   ]
  },
  {
   "cell_type": "code",
   "execution_count": 38,
   "metadata": {},
   "outputs": [],
   "source": [
    "# gen_resample_keys = ['gpt_resample-nocot_code_cleaned1','gpt_resample-nocot_code_cleaned2']\n",
    "gen_resample_keys = ['starcoder_resample_code_cleaned'] + [f'starcoder_resample_code_cleaned{i}' for i in range(2,9)]\n",
    "gen_orig_key = 'extracted_full_func'\n",
    "\n",
    "hum_resample_keys = ['starcoder_resample_code_cleaned'] + [f'starcoder_resample_code_cleaned{i}' for i in range(2,9)]\n",
    "hum_orig_key = 'extracted_full_func'"
   ]
  },
  {
   "cell_type": "code",
   "execution_count": 39,
   "metadata": {},
   "outputs": [
    {
     "name": "stderr",
     "output_type": "stream",
     "text": [
      "100%|██████████| 25/25 [00:05<00:00,  4.80it/s]\n",
      "100%|██████████| 25/25 [00:05<00:00,  4.84it/s]\n",
      "100%|██████████| 25/25 [00:05<00:00,  4.79it/s]\n",
      "100%|██████████| 25/25 [00:05<00:00,  4.79it/s]\n",
      "100%|██████████| 25/25 [00:05<00:00,  4.76it/s]\n",
      "100%|██████████| 25/25 [00:05<00:00,  4.75it/s]\n",
      "100%|██████████| 25/25 [00:05<00:00,  4.75it/s]\n",
      "100%|██████████| 25/25 [00:05<00:00,  4.74it/s]\n",
      "100%|██████████| 25/25 [00:05<00:00,  4.76it/s]\n",
      "100%|██████████| 25/25 [00:05<00:00,  4.78it/s]\n",
      "100%|██████████| 25/25 [00:05<00:00,  4.74it/s]\n",
      "100%|██████████| 25/25 [00:05<00:00,  4.74it/s]\n",
      "100%|██████████| 25/25 [00:05<00:00,  4.74it/s]\n",
      "100%|██████████| 25/25 [00:05<00:00,  4.77it/s]\n",
      "100%|██████████| 25/25 [00:05<00:00,  4.78it/s]\n",
      "100%|██████████| 25/25 [00:05<00:00,  4.73it/s]\n",
      "100%|██████████| 25/25 [00:05<00:00,  4.79it/s]\n",
      "100%|██████████| 25/25 [00:05<00:00,  4.81it/s]\n"
     ]
    }
   ],
   "source": [
    "def get_sim(data,resample_keys,orig_key):\n",
    "    orig_embed = batch_encode(data[orig_key].tolist())\n",
    "    resample_embeds = []\n",
    "    for key in resample_keys:\n",
    "        resample_embeds.append(batch_encode(data[key].tolist()))\n",
    "    \n",
    "    all_sim = []\n",
    "    normed_orig_embed = torch.nn.functional.normalize(orig_embed,p=2,dim=-1)\n",
    "    for embed in resample_embeds:\n",
    "        normed_embed = torch.nn.functional.normalize(embed,p=2,dim=-1)\n",
    "        sim = (normed_orig_embed * normed_embed).sum(-1)\n",
    "        all_sim.append(sim)\n",
    "    \n",
    "    return all_sim\n",
    "\n",
    "gen_sim = get_sim(gen_data,gen_resample_keys,gen_orig_key)\n",
    "hum_sim = get_sim(hum_data,hum_resample_keys,hum_orig_key)"
   ]
  },
  {
   "cell_type": "code",
   "execution_count": 42,
   "metadata": {},
   "outputs": [],
   "source": [
    "m = 8\n",
    "\n",
    "gen_score = sum([gen_sim[i] for i in range(m)]) / m\n",
    "hum_score = sum([hum_sim[i] for i in range(m)]) / m"
   ]
  },
  {
   "cell_type": "code",
   "execution_count": 45,
   "metadata": {},
   "outputs": [],
   "source": [
    "gen_data['avg_sim_score'] = gen_score.tolist()\n",
    "hum_data['avg_sim_score'] = hum_score.tolist()"
   ]
  },
  {
   "cell_type": "code",
   "execution_count": 46,
   "metadata": {},
   "outputs": [
    {
     "name": "stdout",
     "output_type": "stream",
     "text": [
      "0 200 0.6506483395527397\n",
      "200 400 0.7685619565897291\n",
      "400 600 0.8139471347585547\n",
      "600 1000 0.8143046627895114\n",
      "1000 1000000000 0.8404542996214169\n"
     ]
    }
   ],
   "source": [
    "for s,e in ranges:\n",
    "    sampled_gen,sampled_hum = get_data_range(s,e,gen_data,hum_data)\n",
    "    all_sampled = pd.concat([sampled_gen,sampled_hum])\n",
    "    sim_score = all_sampled['avg_sim_score']\n",
    "    label = all_sampled['label']\n",
    "    score = roc_auc_score(label,sim_score)\n",
    "    print(s,e,score)"
   ]
  },
  {
   "cell_type": "code",
   "execution_count": 49,
   "metadata": {},
   "outputs": [
    {
     "data": {
      "text/plain": [
       "Text(0.5, 0, 'Code Length')"
      ]
     },
     "execution_count": 49,
     "metadata": {},
     "output_type": "execute_result"
    },
    {
     "data": {
      "image/png": "[encoded data removed]",
      "text/plain": [
       "<Figure size 800x400 with 1 Axes>"
      ]
     },
     "metadata": {},
     "output_type": "display_data"
    }
   ],
   "source": [
    "import pandas as pd\n",
    "import os\n",
    "import matplotlib.pyplot as plt\n",
    "os.chdir(\"/home/yangkai/codegen-detection\")\n",
    "plt.rc('font', family='Noto Mono', size=10, weight='bold')\n",
    "plt.figure(figsize=(8,4),dpi=100)\n",
    "plt.subplot(1,1,1)\n",
    "names = ['logProb','Rank','LogRank','Entropy','DetectGPT','Ours']\n",
    "xticks = ['< 200','200-400','400-600','600-1000','> 1000']\n",
    "scores1 = [0.543,0.480,0.525,0.517,0.492,0.651]\n",
    "scores2 = [0.702,0.517,0.672,0.640,0.610,0.768]\n",
    "scores3 = [0.685,0.462,0.642,0.622,0.610,0.814]\n",
    "scores4 = [0.775,0.470,0.745,0.707,0.787,0.814]\n",
    "socres5 = [0.677,0.450,0.667,0.607,0.893,0.840]\n",
    "\n",
    "\n",
    "for i,name in enumerate(names):\n",
    "    scores = [scores1[i],scores2[i],scores3[i],scores4[i],socres5[i]]\n",
    "    plt.plot(xticks,scores,label=name,marker=\"o\",fillstyle='none',ms=6,linewidth=2)\n",
    "\n",
    "ax=plt.gca()\n",
    "ax.set_title(\"Detection On APPS\",font='Noto Mono',size=16,fontweight='heavy')\n",
    "ax.spines['right'].set_color('none')\n",
    "ax.spines['top'].set_color('none')\n",
    "plt.legend()\n",
    "plt.xlabel('Code Length')\n",
    "plt.savefig(\"visuals/vary_codelength.pdf\",format=\"pdf\",bbox_inches=\"tight\")"
   ]
  }
 ],
 "metadata": {
  "kernelspec": {
   "display_name": "torch20-cu117",
   "language": "python",
   "name": "python3"
  },
  "language_info": {
   "codemirror_mode": {
    "name": "ipython",
    "version": 3
   },
   "file_extension": ".py",
   "mimetype": "text/x-python",
   "name": "python",
   "nbconvert_exporter": "python",
   "pygments_lexer": "ipython3",
   "version": "3.9.16"
  },
  "orig_nbformat": 4
 },
 "nbformat": 4,
 "nbformat_minor": 2
}
