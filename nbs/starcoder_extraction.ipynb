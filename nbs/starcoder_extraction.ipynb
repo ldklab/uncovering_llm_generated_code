{
 "cells": [
  {
   "cell_type": "code",
   "execution_count": 1,
   "metadata": {},
   "outputs": [],
   "source": [
    "import pandas as pd\n",
    "import os\n",
    "os.chdir(\"/home/yangkai/codegen-detection/\")\n",
    "hum_data = pd.read_pickle(\"dataset/mbpp_hum_test.pkl\")\n",
    "gen_data = pd.read_pickle(\"dataset/mbpp_gen_test.pkl\")"
   ]
  },
  {
   "cell_type": "code",
   "execution_count": 51,
   "metadata": {},
   "outputs": [
    {
     "data": {
      "text/plain": [
       "233"
      ]
     },
     "execution_count": 51,
     "metadata": {},
     "output_type": "execute_result"
    }
   ],
   "source": [
    "import json\n",
    "def load_json_dataset(pth):\n",
    "    dataset = []\n",
    "    cnt = 0\n",
    "    with open(pth,\"r\") as f:\n",
    "        for line in f:\n",
    "            try:\n",
    "                dataset.append(json.loads(line.strip()))\n",
    "                cnt += 1\n",
    "            except:\n",
    "                dataset.append([{},{}])\n",
    "\n",
    "    return dataset\n",
    "\n",
    "\n",
    "idx = 8\n",
    "\n",
    "hum_expl = load_json_dataset(f'prompt_gpt/mbpp_hum_test_vicuna13b_rewrite{idx}.jsonl')\n",
    "gen_expl = load_json_dataset(f'prompt_gpt/mbpp_gen_test_vicuna13b_rewrite{idx}.jsonl')\n",
    "len(gen_expl)"
   ]
  },
  {
   "cell_type": "code",
   "execution_count": 52,
   "metadata": {},
   "outputs": [
    {
     "data": {
      "text/plain": [
       "1"
      ]
     },
     "execution_count": 52,
     "metadata": {},
     "output_type": "execute_result"
    }
   ],
   "source": [
    "import re\n",
    "def extract_starcoder_code(resp):\n",
    "    try:\n",
    "        text = resp[1][0]['content']\n",
    "    except KeyError:\n",
    "        return ''\n",
    "    \n",
    "    pattern = r'```\\n*python\\n(.+?)\\n```'\n",
    "    code_blocks = re.findall(pattern, text, re.DOTALL)\n",
    "    if len(code_blocks) > 0:\n",
    "        return code_blocks[0]\n",
    "    \n",
    "    pattern2 = r\"```\\n*(.+?)\\n*```\"\n",
    "    code_blocks = re.findall(pattern2, text, re.DOTALL)\n",
    "    if len(code_blocks) > 0:\n",
    "        return code_blocks[0]\n",
    "    \n",
    "    pattern3 = r\"\\n+(def|import|from)(.+)\"\n",
    "    code_blocks = re.findall(pattern3, text, re.DOTALL)\n",
    "    if len(code_blocks) > 0:\n",
    "        # print(code_blocks[0][0] + code_blocks[0][1])\n",
    "        # print(\"=============\")\n",
    "        text = code_blocks[0][0] + code_blocks[0][1]\n",
    "        code_pattern = r\"(.+)\\n+(This|In this|Here's).*\"\n",
    "        blocks = re.findall(code_pattern,text, re.DOTALL)\n",
    "        if len(blocks) > 0:\n",
    "            # print(blocks[0][0]+\"\\n=========\")\n",
    "            return blocks[0][0]\n",
    "        else:\n",
    "            return text\n",
    "\n",
    "    return \"\"\n",
    "\n",
    "\n",
    "import re\n",
    "def extract_gpt_code(resp):\n",
    "    try:\n",
    "        text = resp['choices'][0]['message']['content']\n",
    "        # text = resp[1][0]['generated_text']\n",
    "    except KeyError:\n",
    "        return ''\n",
    "    pattern = r'```python\\n(.+?)\\n```'\n",
    "    code_blocks = re.findall(pattern, text, re.DOTALL)\n",
    "    if len(code_blocks) > 0:\n",
    "        return code_blocks[0]\n",
    "\n",
    "    if resp['choices'][0]['finish_reason'] == 'length':\n",
    "        pattern2 = r'```python\\n(.+?)'\n",
    "    else:\n",
    "        pattern2 = r'``` python\\n(.+?)\\n```'\n",
    "\n",
    "    # pattern2 = r'```python\\n(.+?)'\n",
    "    code_blocks = re.findall(pattern2, text, re.DOTALL)\n",
    "    if len(code_blocks) > 0:\n",
    "        return code_blocks[0]\n",
    "\n",
    "    pattern3 = r\"```\\n(.+?)\\n```\"\n",
    "    code_blocks = re.findall(pattern3, text, re.DOTALL)\n",
    "    if len(code_blocks) > 0:\n",
    "        return code_blocks[0]\n",
    "\n",
    "    if resp['choices'][0]['finish_reason'] == 'length':\n",
    "        pattern4 = r\"```\\n(.+?)\"\n",
    "        code_blocks = re.findall(pattern4, text, re.DOTALL)\n",
    "        if len(code_blocks) > 0:\n",
    "            return code_blocks[0]\n",
    "\n",
    "\n",
    "\n",
    "\n",
    "\n",
    "failed_cases = []\n",
    "for resp in hum_expl:\n",
    "    func = extract_starcoder_code(resp)\n",
    "    if len(func) == 0 and len(resp[1]) > 0:\n",
    "        failed_cases.append(resp[1][0]['content'])\n",
    "\n",
    "    # if case == 0:\n",
    "    #     case_1.append(func)\n",
    "    # elif case == 1:\n",
    "    #     case_2.append(func)\n",
    "    # elif case == 2:\n",
    "    #     case_3.append(func)\n",
    "    \n",
    "\n",
    "len(failed_cases)"
   ]
  },
  {
   "cell_type": "code",
   "execution_count": 53,
   "metadata": {},
   "outputs": [],
   "source": [
    "key_name = f'vicuna13b_resample_code{idx}'\n",
    "hum_data[key_name] = hum_expl\n",
    "hum_data[key_name] = hum_data[key_name].apply(extract_starcoder_code)\n",
    "\n",
    "gen_data[key_name] = gen_expl\n",
    "gen_data[key_name] = gen_data[key_name].apply(extract_starcoder_code)"
   ]
  },
  {
   "cell_type": "code",
   "execution_count": 54,
   "metadata": {},
   "outputs": [],
   "source": [
    "from prepro.code_prepro import CommentsRemover,PygmentsTokenizer,EmptyLinesRemover\n",
    "tokenizer = PygmentsTokenizer('Python')\n",
    "comment_remover = CommentsRemover(tokenizer)\n",
    "emptyline_remover = EmptyLinesRemover()"
   ]
  },
  {
   "cell_type": "code",
   "execution_count": 55,
   "metadata": {},
   "outputs": [],
   "source": [
    "cleaned_name = f'vicuna13b_resample_code_cleaned{idx}'\n",
    "temp = gen_data[key_name].apply(comment_remover.filter)\n",
    "gen_data[cleaned_name] = temp.apply(emptyline_remover.filter)\n",
    "\n",
    "temp = hum_data[key_name].apply(comment_remover.filter)\n",
    "hum_data[cleaned_name] = temp.apply(emptyline_remover.filter)"
   ]
  },
  {
   "cell_type": "code",
   "execution_count": 56,
   "metadata": {},
   "outputs": [
    {
     "data": {
      "text/plain": [
       "6      def check_min_heap(arr, i):\\n    if i >= len(a...\n",
       "7      def pass_validity(p):\\n    x = True\\n    while...\n",
       "8      def multiply_int(x, y):\\n    return x * y if y...\n",
       "13     def solve(a, n):\\n    mx = max(a[:-1]) if a el...\n",
       "14     def get_odd_occurence(arr, arr_size):\\n    cou...\n",
       "                             ...                        \n",
       "952    def sort_tuple(tup):\\n    n = len(tup)\\n    fo...\n",
       "957    def is_sublist(l, s):\\n    sub_set = False\\n  ...\n",
       "960    def first(arr, x, n):\\n    low = 0\\n    high =...\n",
       "961    def find_max(arr, low, high):\\n    if high < l...\n",
       "970    import re\\nregex = r'^[a-z]$|^([a-z]).*\\1$'\\nd...\n",
       "Name: vicuna13b_resample_code_cleaned8, Length: 233, dtype: object"
      ]
     },
     "execution_count": 56,
     "metadata": {},
     "output_type": "execute_result"
    }
   ],
   "source": [
    "hum_data[cleaned_name]"
   ]
  },
  {
   "cell_type": "code",
   "execution_count": 58,
   "metadata": {},
   "outputs": [],
   "source": [
    "gen_data.to_pickle(\"dataset/mbpp_gen_test.pkl\")\n",
    "hum_data.to_pickle(\"dataset/mbpp_hum_test.pkl\")"
   ]
  }
 ],
 "metadata": {
  "kernelspec": {
   "display_name": "py38-torch113",
   "language": "python",
   "name": "python3"
  },
  "language_info": {
   "codemirror_mode": {
    "name": "ipython",
    "version": 3
   },
   "file_extension": ".py",
   "mimetype": "text/x-python",
   "name": "python",
   "nbconvert_exporter": "python",
   "pygments_lexer": "ipython3",
   "version": "3.9.16"
  },
  "orig_nbformat": 4
 },
 "nbformat": 4,
 "nbformat_minor": 2
}
