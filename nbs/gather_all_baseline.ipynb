{
 "cells": [
  {
   "cell_type": "code",
   "execution_count": 4,
   "metadata": {},
   "outputs": [],
   "source": [
    "import pandas as pd\n",
    "import os\n",
    "os.chdir(\"/home/yangkai/codegen-detection\")"
   ]
  },
  {
   "cell_type": "code",
   "execution_count": 2,
   "metadata": {},
   "outputs": [],
   "source": [
    "hum_data = pd.read_pickle(\"dataset/apps_hum_test.pkl\")\n",
    "gen_data = pd.read_pickle(\"dataset/apps_gen_test_wizard.pkl\")"
   ]
  },
  {
   "cell_type": "code",
   "execution_count": 20,
   "metadata": {},
   "outputs": [],
   "source": [
    "hum_data100 = hum_data.sample(n=100,random_state=42)\n",
    "gen_data100 = gen_data.sample(n=100,random_state=42)\n",
    "\n",
    "hum_data100.to_pickle(\"dataset/mbpp_hum_test100.pkl\")\n",
    "gen_data100.to_pickle(\"dataset/mbpp_gen_test100.pkl\")\n"
   ]
  },
  {
   "cell_type": "code",
   "execution_count": 20,
   "metadata": {},
   "outputs": [
    {
     "name": "stdout",
     "output_type": "stream",
     "text": [
      "extracted_full_func-nocot\n",
      "extracted_full_func-nocot_word_prob_starcoder\n",
      "extracted_full_func-nocot_word_rank_starcoder\n",
      "extracted_full_func-nocot_entropy_starcoder\n",
      "extracted_full_func-nocot_word_prob_llama-13b\n",
      "extracted_full_func-nocot_word_rank_llama-13b\n",
      "extracted_full_func-nocot_entropy_llama-13b\n",
      "extracted_full_func-nocot_word_prob_incoder-6B\n",
      "extracted_full_func-nocot_word_rank_incoder-6B\n",
      "extracted_full_func-nocot_entropy_incoder-6B\n",
      "extracted_full_func-nocot_word_prob_codegen-2B-mono\n",
      "extracted_full_func-nocot_word_rank_codegen-2B-mono\n",
      "extracted_full_func-nocot_entropy_codegen-2B-mono\n"
     ]
    }
   ],
   "source": [
    "for key in gen_data.keys():\n",
    "    if \"extracted_full_func-nocot\" in key:\n",
    "        print(key)"
   ]
  },
  {
   "cell_type": "code",
   "execution_count": 9,
   "metadata": {},
   "outputs": [
    {
     "name": "stderr",
     "output_type": "stream",
     "text": [
      "/tmp/ipykernel_1190269/541142133.py:5: PerformanceWarning: DataFrame is highly fragmented.  This is usually the result of calling `frame.insert` many times, which has poor performance.  Consider joining all columns at once using pd.concat(axis=1) instead. To get a de-fragmented frame, use `newframe = frame.copy()`\n",
      "  hum_data['label'] = 0\n"
     ]
    }
   ],
   "source": [
    "h_dset = \"mbpp_hum_test\"\n",
    "g_dset = \"mbpp_gen_test_wizard\"\n",
    "hum_data = pd.read_pickle(f\"dataset/{h_dset}.pkl\")\n",
    "gen_data = pd.read_pickle(f\"dataset/{g_dset}.pkl\")\n",
    "hum_data['label'] = 0\n",
    "gen_data['label'] = 1"
   ]
  },
  {
   "cell_type": "code",
   "execution_count": 11,
   "metadata": {},
   "outputs": [
    {
     "data": {
      "text/plain": [
       "(77000, 23300)"
      ]
     },
     "execution_count": 11,
     "metadata": {},
     "output_type": "execute_result"
    }
   ],
   "source": [
    "import json\n",
    "# hum_perturb = json.load(open(f\"dataset/{h_dset}_perturb_100.json\",'r'))\n",
    "gen_perturb = json.load(open(f\"dataset/{g_dset}_perturb_100.json\",'r'))\n",
    "len(hum_perturb),len(gen_perturb)"
   ]
  },
  {
   "cell_type": "code",
   "execution_count": 13,
   "metadata": {},
   "outputs": [],
   "source": [
    "# pids = []\n",
    "# for id in hum_data.problem_id:\n",
    "#     pids += [id] * 100\n",
    "# hum_perturb_df = {\"extracted_full_func\":hum_perturb,\"pid\":pids}\n",
    "# hum_perturb_df = pd.DataFrame(hum_perturb_df)"
   ]
  },
  {
   "cell_type": "code",
   "execution_count": 14,
   "metadata": {},
   "outputs": [],
   "source": [
    "pids = []\n",
    "for id in gen_data.problem_id:\n",
    "    pids += [id] * 100\n",
    "gen_perturb_df = {\"extracted_full_func\":gen_perturb,\"pid\":pids}\n",
    "gen_perturb_df = pd.DataFrame(gen_perturb_df)"
   ]
  },
  {
   "cell_type": "code",
   "execution_count": 15,
   "metadata": {},
   "outputs": [
    {
     "data": {
      "text/plain": [
       "(2, 23200)"
      ]
     },
     "execution_count": 15,
     "metadata": {},
     "output_type": "execute_result"
    }
   ],
   "source": [
    "# hum_perturb_df = hum_perturb_df[hum_perturb_df.extracted_full_func.apply(len) > 0]\n",
    "gen_perturb_df = gen_perturb_df[gen_perturb_df.extracted_full_func.apply(len) > 0]\n",
    "len(hum_perturb_df),len(gen_perturb_df)"
   ]
  },
  {
   "cell_type": "code",
   "execution_count": 16,
   "metadata": {},
   "outputs": [],
   "source": [
    "gen_perturb_df.to_pickle(f\"dataset/{g_dset}_perturb_100.pkl\")\n",
    "# hum_perturb_df.to_pickle(f\"dataset/{h_dset}_perturb_100.pkl\")"
   ]
  },
  {
   "attachments": {},
   "cell_type": "markdown",
   "metadata": {},
   "source": [
    "### Gather Baselines"
   ]
  },
  {
   "cell_type": "code",
   "execution_count": 4,
   "metadata": {},
   "outputs": [],
   "source": [
    "from sklearn.metrics import roc_auc_score,average_precision_score\n",
    "import numpy as np\n",
    "\n",
    "def word_prob_gather_fn(word_prob):\n",
    "    try:\n",
    "        assert len(word_prob) > 0\n",
    "    except:\n",
    "        return 0\n",
    "    if model != 'code-cushman-001':\n",
    "        log_prob = np.log(np.array(word_prob) + 1e-6)\n",
    "    else:\n",
    "        log_prob = np.array(word_prob)\n",
    "    avg_log_prob = log_prob.sum() / (len(log_prob) + 1e-6)\n",
    "    # print(avg_log_prob)\n",
    "    return avg_log_prob\n",
    "\n",
    "def entropy_gather_fn(entropy):\n",
    "    try:\n",
    "        assert len(entropy) > 0\n",
    "    except:\n",
    "        return 0\n",
    "    entropy = np.array(entropy)\n",
    "    \n",
    "    avg_entropy = entropy.sum() / (len(entropy) + 1e-6)\n",
    "    return -avg_entropy\n",
    "\n",
    "def log_rank_gather_fn(word_rank):\n",
    "    try:\n",
    "        assert len(word_rank) > 0\n",
    "    except:\n",
    "        return 0\n",
    "    log_rank = np.log(np.array(word_rank) + 1)\n",
    "    avg_log_rank = log_rank.sum() / (len(log_rank) + 1e-6)\n",
    "    return -avg_log_rank\n",
    "\n",
    "def rank_gather_fn(word_rank):\n",
    "    try:\n",
    "        assert len(word_rank) > 0\n",
    "    except:\n",
    "        return 0\n",
    "    log_rank = np.array(word_rank) + 1\n",
    "    avg_log_rank = log_rank.sum() / (len(log_rank) + 1e-6)\n",
    "    return -avg_log_rank\n",
    "\n",
    "def lpr_gather_fn(row,word_rank_name,word_prob_name):\n",
    "    word_rank = row[word_rank_name]\n",
    "    word_prob = row[word_prob_name]\n",
    "    assert(len(word_prob) == len(word_rank))\n",
    "    try:\n",
    "        assert len(word_rank) > 0\n",
    "    except:\n",
    "        return 0\n",
    "    log_rank = np.log(np.array(word_rank) + 1e-6)\n",
    "\n",
    "    try:\n",
    "        assert len(word_prob) > 0\n",
    "    except:\n",
    "        return 0\n",
    "    if model != 'code-cushman-001':\n",
    "        log_prob = np.log(np.array(word_prob) + 1e-6)\n",
    "    else:\n",
    "        log_prob = np.array(word_prob)\n",
    "\n",
    "    return - log_prob.sum() / (log_rank.sum() + 1e-6)\n",
    "    \n",
    "\n",
    "\n",
    "dset = \"apps\"\n",
    "generator = '_codellama'\n",
    "gen_data = pd.read_pickle(f\"dataset/{dset}_gen_test{generator}.pkl\")\n",
    "# correct_ids = pd.read_pickle(\"dataset/mbpp_gen_test_correct.pkl\")['problem_id'].tolist()\n",
    "# gen_data = gen_data[~gen_data.problem_id.isin(correct_ids)]\n",
    "# hum_data = pd.read_pickle(\"dataset/mbpp_hum_test.pkl\").sample(n=len(gen_data),random_state=42)\n",
    "hum_data = pd.read_pickle(f\"dataset/{dset}_hum_test.pkl\")\n",
    "\n",
    "hum_data['label'] = 0\n",
    "gen_data['label'] = 1\n",
    "\n",
    "hum_column_prefix = 'extracted_full_func_'\n",
    "gen_column_prefix = 'extracted_full_func_'\n",
    "\n",
    "all_data = pd.concat([gen_data,hum_data])\n",
    "# models = ['codegen-2B-mono','incoder-6B','llama-13b','starcoder','vicuna-7b','vicuna-13b']\n",
    "# models = ['starchat-alpha','CodeLlama-13b-Instruct-hf']\n",
    "models = ['CodeLlama-13b-Instruct-hf','starchat-alpha']\n",
    "\n",
    "# models = ['PolyCoder-160M']\n",
    "\n",
    "score_names = ['log_prob','log_rank','rank','entropy']\n",
    "# score_names = []\n",
    "\n",
    "# score_names = ['rank']\n",
    "feat_name_dict = {'log_prob':\"word_prob\",\"rank\":\"word_rank\",\"log_rank\":\"word_rank\",\"entropy\":\"entropy\"}\n",
    "name2gatherfn = {\"log_prob\":word_prob_gather_fn,\"rank\":rank_gather_fn,\"log_rank\":log_rank_gather_fn,\"entropy\":entropy_gather_fn}\n",
    "result_df = pd.DataFrame(index=score_names+['lpr'],columns=models)\n",
    "for model in models:\n",
    "    for score in score_names:\n",
    "        # print(model,score)\n",
    "        hum_column_name = hum_column_prefix + f\"{feat_name_dict[score]}_{model}\"\n",
    "        gen_column_name = gen_column_prefix + f\"{feat_name_dict[score]}_{model}\"\n",
    "        \n",
    "        all_feat = pd.concat([gen_data[gen_column_name],hum_data[hum_column_name]])\n",
    "\n",
    "        all_score = all_feat.apply(name2gatherfn[score]).tolist()\n",
    "        all_label = all_data['label']\n",
    "        roc = roc_auc_score(all_label,all_score)\n",
    "        result_df[model][score] = roc\n",
    "    \n",
    "    # Add LPR score\n",
    "    hum_wordrank_column_name = hum_column_prefix + f\"word_rank_{model}\"\n",
    "    hum_wordprob_column_name = hum_column_prefix + f\"word_prob_{model}\"\n",
    "    gen_wordrank_column_name = gen_column_prefix + f\"word_rank_{model}\"\n",
    "    gen_wordprob_column_name = gen_column_prefix + f\"word_prob_{model}\"\n",
    "    hum_lpr = hum_data.apply(lambda row: lpr_gather_fn(row,hum_wordrank_column_name,hum_wordprob_column_name),axis=1)\n",
    "    gen_lpr = gen_data.apply(lambda row: lpr_gather_fn(row,gen_wordrank_column_name,gen_wordprob_column_name),axis=1)\n",
    "    # hum_lpr = hum_data[hum_wordprob_column_name].apply(word_prob_gather_fn) / hum_data[hum_wordrank_column_name].apply(log_rank_gather_fn)\n",
    "    # gen_lpr = gen_data[gen_wordrank_column_name].apply(word_prob_gather_fn) / gen_data[gen_wordprob_column_name].apply(log_rank_gather_fn)\n",
    "\n",
    "    all_score = pd.concat([gen_lpr,hum_lpr])\n",
    "    # print(all_score)\n",
    "    all_label = all_data['label']\n",
    "    roc = roc_auc_score(all_label,all_score)\n",
    "    result_df[model]['lpr'] = roc\n",
    "\n",
    "result_df['avg'] = result_df.mean(axis=1)"
   ]
  },
  {
   "cell_type": "code",
   "execution_count": 5,
   "metadata": {},
   "outputs": [
    {
     "data": {
      "text/html": [
       "<div>\n",
       "<style scoped>\n",
       "    .dataframe tbody tr th:only-of-type {\n",
       "        vertical-align: middle;\n",
       "    }\n",
       "\n",
       "    .dataframe tbody tr th {\n",
       "        vertical-align: top;\n",
       "    }\n",
       "\n",
       "    .dataframe thead th {\n",
       "        text-align: right;\n",
       "    }\n",
       "</style>\n",
       "<table border=\"1\" class=\"dataframe\">\n",
       "  <thead>\n",
       "    <tr style=\"text-align: right;\">\n",
       "      <th></th>\n",
       "      <th>CodeLlama-13b-Instruct-hf</th>\n",
       "      <th>starchat-alpha</th>\n",
       "      <th>avg</th>\n",
       "    </tr>\n",
       "  </thead>\n",
       "  <tbody>\n",
       "    <tr>\n",
       "      <th>log_prob</th>\n",
       "      <td>0.66141</td>\n",
       "      <td>0.664088</td>\n",
       "      <td>0.662749</td>\n",
       "    </tr>\n",
       "    <tr>\n",
       "      <th>log_rank</th>\n",
       "      <td>0.627148</td>\n",
       "      <td>0.612746</td>\n",
       "      <td>0.619947</td>\n",
       "    </tr>\n",
       "    <tr>\n",
       "      <th>rank</th>\n",
       "      <td>0.521736</td>\n",
       "      <td>0.538533</td>\n",
       "      <td>0.530135</td>\n",
       "    </tr>\n",
       "    <tr>\n",
       "      <th>entropy</th>\n",
       "      <td>0.58913</td>\n",
       "      <td>0.565493</td>\n",
       "      <td>0.577312</td>\n",
       "    </tr>\n",
       "    <tr>\n",
       "      <th>lpr</th>\n",
       "      <td>0.671564</td>\n",
       "      <td>0.665537</td>\n",
       "      <td>0.66855</td>\n",
       "    </tr>\n",
       "  </tbody>\n",
       "</table>\n",
       "</div>"
      ],
      "text/plain": [
       "         CodeLlama-13b-Instruct-hf starchat-alpha       avg\n",
       "log_prob                   0.66141       0.664088  0.662749\n",
       "log_rank                  0.627148       0.612746  0.619947\n",
       "rank                      0.521736       0.538533  0.530135\n",
       "entropy                    0.58913       0.565493  0.577312\n",
       "lpr                       0.671564       0.665537   0.66855"
      ]
     },
     "execution_count": 5,
     "metadata": {},
     "output_type": "execute_result"
    }
   ],
   "source": [
    "result_df"
   ]
  },
  {
   "cell_type": "code",
   "execution_count": 11,
   "metadata": {},
   "outputs": [
    {
     "data": {
      "text/plain": [
       "1.2726708342586461"
      ]
     },
     "execution_count": 11,
     "metadata": {},
     "output_type": "execute_result"
    }
   ],
   "source": [
    "\n",
    "gen_data['extracted_full_func_entropy_starcoder'].apply(np.mean).mean()"
   ]
  },
  {
   "cell_type": "code",
   "execution_count": 46,
   "metadata": {},
   "outputs": [],
   "source": [
    "hum_perturb = pd.read_pickle(\"dataset/apps_hum_test_perturb_100.pkl\")"
   ]
  },
  {
   "cell_type": "code",
   "execution_count": 49,
   "metadata": {},
   "outputs": [
    {
     "name": "stdout",
     "output_type": "stream",
     "text": [
      "extracted_full_func\n",
      "pid\n",
      "extracted_full_func_word_prob_starcoder\n",
      "extracted_full_func_word_rank_starcoder\n",
      "extracted_full_func_entropy_starcoder\n",
      "extracted_full_func_word_prob_llama-13b\n",
      "extracted_full_func_word_rank_llama-13b\n",
      "extracted_full_func_entropy_llama-13b\n",
      "extracted_full_func_word_prob_incoder-6B\n",
      "extracted_full_func_word_rank_incoder-6B\n",
      "extracted_full_func_entropy_incoder-6B\n",
      "extracted_full_func_word_prob_codegen-2B-mono\n",
      "extracted_full_func_word_rank_codegen-2B-mono\n",
      "extracted_full_func_entropy_codegen-2B-mono\n",
      "extracted_full_func_word_prob_vicuna-7b\n",
      "extracted_full_func_word_rank_vicuna-7b\n",
      "extracted_full_func_entropy_vicuna-7b\n",
      "extracted_full_func_word_prob_vicuna-13b\n",
      "extracted_full_func_word_rank_vicuna-13b\n",
      "extracted_full_func_entropy_vicuna-13b\n"
     ]
    }
   ],
   "source": [
    "for key in hum_perturb.columns:\n",
    "    print(key)"
   ]
  },
  {
   "attachments": {},
   "cell_type": "markdown",
   "metadata": {},
   "source": [
    "### Gather DetectGPT"
   ]
  },
  {
   "cell_type": "code",
   "execution_count": 16,
   "metadata": {},
   "outputs": [
    {
     "name": "stderr",
     "output_type": "stream",
     "text": [
      "/tmp/ipykernel_256332/3962615434.py:40: PerformanceWarning: DataFrame is highly fragmented.  This is usually the result of calling `frame.insert` many times, which has poor performance.  Consider joining all columns at once using pd.concat(axis=1) instead. To get a de-fragmented frame, use `newframe = frame.copy()`\n",
      "  hum_data['label'] = 0\n",
      "/tmp/ipykernel_256332/3962615434.py:41: PerformanceWarning: DataFrame is highly fragmented.  This is usually the result of calling `frame.insert` many times, which has poor performance.  Consider joining all columns at once using pd.concat(axis=1) instead. To get a de-fragmented frame, use `newframe = frame.copy()`\n",
      "  gen_data['label'] = 1\n"
     ]
    },
    {
     "data": {
      "text/html": [
       "<div>\n",
       "<style scoped>\n",
       "    .dataframe tbody tr th:only-of-type {\n",
       "        vertical-align: middle;\n",
       "    }\n",
       "\n",
       "    .dataframe tbody tr th {\n",
       "        vertical-align: top;\n",
       "    }\n",
       "\n",
       "    .dataframe thead th {\n",
       "        text-align: right;\n",
       "    }\n",
       "</style>\n",
       "<table border=\"1\" class=\"dataframe\">\n",
       "  <thead>\n",
       "    <tr style=\"text-align: right;\">\n",
       "      <th></th>\n",
       "      <th>CodeLlama-13b-Instruct-hf</th>\n",
       "      <th>starchat-alpha</th>\n",
       "      <th>avg</th>\n",
       "    </tr>\n",
       "  </thead>\n",
       "  <tbody>\n",
       "    <tr>\n",
       "      <th>DetectGPT</th>\n",
       "      <td>0.60236</td>\n",
       "      <td>0.657693</td>\n",
       "      <td>0.630026</td>\n",
       "    </tr>\n",
       "    <tr>\n",
       "      <th>NPR</th>\n",
       "      <td>0.688546</td>\n",
       "      <td>0.704268</td>\n",
       "      <td>0.696407</td>\n",
       "    </tr>\n",
       "  </tbody>\n",
       "</table>\n",
       "</div>"
      ],
      "text/plain": [
       "          CodeLlama-13b-Instruct-hf starchat-alpha       avg\n",
       "DetectGPT                   0.60236       0.657693  0.630026\n",
       "NPR                        0.688546       0.704268  0.696407"
      ]
     },
     "execution_count": 16,
     "metadata": {},
     "output_type": "execute_result"
    }
   ],
   "source": [
    "import pandas as pd\n",
    "import numpy as np\n",
    "import math\n",
    "from sklearn.metrics import roc_auc_score,average_precision_score\n",
    "\n",
    "def word_prob_gather_fn_with_trunc(word_prob,ratio=0):\n",
    "    try:\n",
    "        assert len(word_prob) > 0\n",
    "    except:\n",
    "        return 0\n",
    "    if model != 'code-cushman-001':\n",
    "        log_prob = np.log(np.array(word_prob) + 1e-6)\n",
    "    else:\n",
    "        log_prob = np.array(word_prob)\n",
    "    \n",
    "    # log_prob = np.array(word_prob)\n",
    "\n",
    "    log_prob = log_prob[int(len(log_prob) * ratio):]\n",
    "    avg_log_prob = log_prob.sum() / (len(log_prob) + 1e-6)\n",
    "    # print(avg_log_prob)\n",
    "    return avg_log_prob\n",
    "\n",
    "# models = ['starchat-alpha','CodeLlama-13b-Instruct-hf']\n",
    "models = ['CodeLlama-13b-Instruct-hf','starchat-alpha']\n",
    "\n",
    "# models = ['PolyCoder-160M']\n",
    "\n",
    "dset = 'mbpp'\n",
    "generator = ''\n",
    "\n",
    "gen_data = pd.read_pickle(f\"dataset/{dset}_gen_test{generator}.pkl\")\n",
    "# correct_ids = pd.read_pickle(\"dataset/mbpp_gen_test_correct.pkl\")['problem_id'].tolist()\n",
    "# gen_data = gen_data[gen_data.problem_id.isin(correct_ids)]\n",
    "\n",
    "hum_data = pd.read_pickle(f\"dataset/{dset}_hum_test.pkl\")\n",
    "# hum_data = pd.read_pickle(\"dataset/mbpp_hum_test.pkl\").sample(n=len(gen_data),random_state=42)\n",
    "# subset = pd.read_pickle(\"dataset/apps_hum_test.pkl\")\n",
    "# hum_data = hum_data[hum_data.problem_id.isin(subset.problem_id.tolist())]\n",
    "\n",
    "hum_data['label'] = 0\n",
    "gen_data['label'] = 1\n",
    "\n",
    "hum_perturb = pd.read_pickle(f\"dataset/{dset}_hum_test_perturb_100.pkl\")\n",
    "gen_perturb = pd.read_pickle(f\"dataset/{dset}_gen_test{generator}_perturb_100.pkl\")\n",
    "df = pd.DataFrame(index=['DetectGPT','NPR'],columns=models)\n",
    "for model in models:\n",
    "    column_name = f\"extracted_full_func_word_prob_{model}\"\n",
    "    hum_score = []\n",
    "    hum_npr = []\n",
    "    for _,row in hum_data.iterrows():\n",
    "        pid,orig_prob,orig_rank = row['problem_id'],row[f\"extracted_full_func_word_prob_{model}\"],row[f\"extracted_full_func_word_rank_{model}\"]\n",
    "        perturb_rows = hum_perturb[hum_perturb.pid == pid]\n",
    "\n",
    "        orig_prob = word_prob_gather_fn_with_trunc(orig_prob)\n",
    "        perturb_probs = perturb_rows[f\"extracted_full_func_word_prob_{model}\"].apply(word_prob_gather_fn_with_trunc)\n",
    "        orig_rank = - log_rank_gather_fn(orig_rank)\n",
    "        perturb_ranks = perturb_rows[f\"extracted_full_func_word_rank_{model}\"].apply(log_rank_gather_fn)\n",
    "\n",
    "        if len(perturb_probs) == 0:\n",
    "            hum_score.append(0)\n",
    "            hum_npr.append(0)\n",
    "            continue\n",
    "        perturb_prob = perturb_probs.mean()\n",
    "        perturb_prob_std = np.std([i for i in perturb_probs if not math.isnan(i)]) if len([i for i in perturb_probs if not math.isnan(i)]) > 1 else 1\n",
    "        prob_diff = orig_prob - perturb_prob\n",
    "        if perturb_prob_std == 0:\n",
    "            perturb_prob_std = 1\n",
    "        # ADD std\n",
    "        hum_score.append(prob_diff/perturb_prob_std)\n",
    "\n",
    "        perturb_rank = - perturb_ranks.mean()\n",
    "        npr = perturb_rank / orig_rank\n",
    "        hum_npr.append(npr)\n",
    "\n",
    "\n",
    "    \n",
    "    gen_score = []\n",
    "    gen_npr = []\n",
    "    for _,row in gen_data.iterrows():\n",
    "        pid,orig_prob,orig_rank = row['problem_id'],row[f\"extracted_full_func_word_prob_{model}\"],row[f\"extracted_full_func_word_rank_{model}\"]\n",
    "        perturb_rows = gen_perturb[gen_perturb.pid == pid]\n",
    "\n",
    "\n",
    "        orig_prob = word_prob_gather_fn_with_trunc(orig_prob)\n",
    "        perturb_probs = perturb_rows[f\"extracted_full_func_word_prob_{model}\"].apply(word_prob_gather_fn_with_trunc)\n",
    "        orig_rank = - log_rank_gather_fn(orig_rank)\n",
    "        perturb_ranks = perturb_rows[f\"extracted_full_func_word_rank_{model}\"].apply(log_rank_gather_fn)\n",
    "        if len(perturb_probs) == 0:\n",
    "            gen_score.append(0)\n",
    "            gen_npr.append(0)\n",
    "            continue\n",
    "        perturb_prob = perturb_probs.mean()\n",
    "        perturb_prob_std = np.std([i for i in perturb_probs if not math.isnan(i)]) if len([i for i in perturb_probs if not math.isnan(i)]) > 1 else 1\n",
    "        if perturb_prob_std == 0:\n",
    "            perturb_prob_std = 1\n",
    "        prob_diff = orig_prob - perturb_prob\n",
    "        # ADD std\n",
    "        gen_score.append(prob_diff/perturb_prob_std)\n",
    "\n",
    "        perturb_rank = - perturb_ranks.mean()\n",
    "        npr = perturb_rank / orig_rank\n",
    "        gen_npr.append(npr)\n",
    "    \n",
    "    scores = gen_score + hum_score\n",
    "    nprs = gen_npr + hum_npr\n",
    "    labels = [1] * len(gen_score) + [0] * len(hum_score)\n",
    "    roc = roc_auc_score(labels,scores)\n",
    "    roc_npr = roc_auc_score(labels,nprs)\n",
    "    df[model]['DetectGPT'] = roc\n",
    "    df[model]['NPR'] = roc_npr\n",
    "\n",
    "df['avg'] = df.mean(axis=1)\n",
    "df"
   ]
  },
  {
   "attachments": {},
   "cell_type": "markdown",
   "metadata": {},
   "source": [
    "# CodeSearchNet"
   ]
  },
  {
   "cell_type": "code",
   "execution_count": 71,
   "metadata": {},
   "outputs": [],
   "source": [
    "hum_data = pd.read_pickle(\"dataset/csn_1k_hum_test.pkl\")\n",
    "hum_data['label'] = 0\n",
    "gen_data = pd.read_pickle(\"dataset/csn_gpt_gen_test.pkl\")\n",
    "gen_data['label'] = 1"
   ]
  },
  {
   "cell_type": "code",
   "execution_count": 3,
   "metadata": {},
   "outputs": [
    {
     "ename": "FileNotFoundError",
     "evalue": "[Errno 2] No such file or directory: 'dataset/mbpp_hum_test_perturb_100.jsonl'",
     "output_type": "error",
     "traceback": [
      "\u001b[0;31m---------------------------------------------------------------------------\u001b[0m",
      "\u001b[0;31mFileNotFoundError\u001b[0m                         Traceback (most recent call last)",
      "\u001b[1;32m/home/yangkai/codegen-detection/nbs/gather_all_baseline.ipynb 单元格 20\u001b[0m in \u001b[0;36m<cell line: 2>\u001b[0;34m()\u001b[0m\n\u001b[1;32m      <a href='vscode-notebook-cell://ssh-remote%2Bg9/home/yangkai/codegen-detection/nbs/gather_all_baseline.ipynb#X25sdnNjb2RlLXJlbW90ZQ%3D%3D?line=0'>1</a>\u001b[0m \u001b[39mimport\u001b[39;00m \u001b[39mjson\u001b[39;00m\n\u001b[0;32m----> <a href='vscode-notebook-cell://ssh-remote%2Bg9/home/yangkai/codegen-detection/nbs/gather_all_baseline.ipynb#X25sdnNjb2RlLXJlbW90ZQ%3D%3D?line=1'>2</a>\u001b[0m hum_perturb \u001b[39m=\u001b[39m json\u001b[39m.\u001b[39mload(\u001b[39mopen\u001b[39;49m(\u001b[39m\"\u001b[39;49m\u001b[39mdataset/mbpp_hum_test_perturb_100.jsonl\u001b[39;49m\u001b[39m\"\u001b[39;49m,\u001b[39m'\u001b[39;49m\u001b[39mr\u001b[39;49m\u001b[39m'\u001b[39;49m))\n\u001b[1;32m      <a href='vscode-notebook-cell://ssh-remote%2Bg9/home/yangkai/codegen-detection/nbs/gather_all_baseline.ipynb#X25sdnNjb2RlLXJlbW90ZQ%3D%3D?line=2'>3</a>\u001b[0m gen_perturb \u001b[39m=\u001b[39m json\u001b[39m.\u001b[39mload(\u001b[39mopen\u001b[39m(\u001b[39m\"\u001b[39m\u001b[39mdataset/mbpp_gen_test_perturb_100.jsonl\u001b[39m\u001b[39m\"\u001b[39m,\u001b[39m'\u001b[39m\u001b[39mr\u001b[39m\u001b[39m'\u001b[39m))\n\u001b[1;32m      <a href='vscode-notebook-cell://ssh-remote%2Bg9/home/yangkai/codegen-detection/nbs/gather_all_baseline.ipynb#X25sdnNjb2RlLXJlbW90ZQ%3D%3D?line=3'>4</a>\u001b[0m \u001b[39mlen\u001b[39m(hum_perturb),\u001b[39mlen\u001b[39m(gen_perturb)\n",
      "\u001b[0;31mFileNotFoundError\u001b[0m: [Errno 2] No such file or directory: 'dataset/mbpp_hum_test_perturb_100.jsonl'"
     ]
    }
   ],
   "source": [
    "import json\n",
    "hum_perturb = json.load(open(\"dataset/mbpp_hum_test_perturb_100.jsonl\",'r'))\n",
    "gen_perturb = json.load(open(\"dataset/mbpp_gen_test_perturb_100.jsonl\",'r'))\n",
    "len(hum_perturb),len(gen_perturb)"
   ]
  },
  {
   "cell_type": "code",
   "execution_count": 7,
   "metadata": {},
   "outputs": [],
   "source": [
    "pids = []\n",
    "for id in range(1,len(hum_data)+1):\n",
    "    pids += [id] * 100\n",
    "hum_perturb_df = {\"extracted_full_func\":hum_perturb,\"pid\":pids}\n",
    "hum_perturb_df = pd.DataFrame(hum_perturb_df)"
   ]
  },
  {
   "cell_type": "code",
   "execution_count": 8,
   "metadata": {},
   "outputs": [],
   "source": [
    "pids = []\n",
    "for id in range(1,len(gen_data)+1):\n",
    "    pids += [id] * 100\n",
    "gen_perturb_df = {\"extracted_full_func\":gen_perturb,\"pid\":pids}\n",
    "gen_perturb_df = pd.DataFrame(gen_perturb_df)"
   ]
  },
  {
   "cell_type": "code",
   "execution_count": 9,
   "metadata": {},
   "outputs": [],
   "source": [
    "hum_perturb_df = hum_perturb_df[hum_perturb_df.extracted_full_func.apply(len) > 0]\n",
    "gen_perturb_df = gen_perturb_df[gen_perturb_df.extracted_full_func.apply(len) > 0]"
   ]
  },
  {
   "cell_type": "code",
   "execution_count": 10,
   "metadata": {},
   "outputs": [
    {
     "data": {
      "text/plain": [
       "(49712, 25299)"
      ]
     },
     "execution_count": 10,
     "metadata": {},
     "output_type": "execute_result"
    }
   ],
   "source": [
    "len(hum_perturb_df),len(gen_perturb_df)"
   ]
  },
  {
   "cell_type": "code",
   "execution_count": 11,
   "metadata": {},
   "outputs": [],
   "source": [
    "gen_perturb_df.to_pickle(\"dataset/csn_gpt_gen_test_perturb_100.pkl\")\n",
    "hum_perturb_df.to_pickle(\"dataset/csn_1k_hum_test_perturb_100.pkl\")"
   ]
  },
  {
   "attachments": {},
   "cell_type": "markdown",
   "metadata": {},
   "source": [
    "### Gather DetectGPT"
   ]
  },
  {
   "cell_type": "code",
   "execution_count": 113,
   "metadata": {},
   "outputs": [
    {
     "data": {
      "text/html": [
       "<div>\n",
       "<style scoped>\n",
       "    .dataframe tbody tr th:only-of-type {\n",
       "        vertical-align: middle;\n",
       "    }\n",
       "\n",
       "    .dataframe tbody tr th {\n",
       "        vertical-align: top;\n",
       "    }\n",
       "\n",
       "    .dataframe thead th {\n",
       "        text-align: right;\n",
       "    }\n",
       "</style>\n",
       "<table border=\"1\" class=\"dataframe\">\n",
       "  <thead>\n",
       "    <tr style=\"text-align: right;\">\n",
       "      <th></th>\n",
       "      <th>codegen-2B-mono</th>\n",
       "      <th>incoder-6B</th>\n",
       "      <th>llama-13b</th>\n",
       "      <th>starchat-alpha</th>\n",
       "      <th>avg</th>\n",
       "    </tr>\n",
       "  </thead>\n",
       "  <tbody>\n",
       "    <tr>\n",
       "      <th>DetectGPT</th>\n",
       "      <td>0.22</td>\n",
       "      <td>0.21</td>\n",
       "      <td>0.27</td>\n",
       "      <td>0.24</td>\n",
       "      <td>0.235</td>\n",
       "    </tr>\n",
       "  </tbody>\n",
       "</table>\n",
       "</div>"
      ],
      "text/plain": [
       "          codegen-2B-mono incoder-6B llama-13b starchat-alpha    avg\n",
       "DetectGPT            0.22       0.21      0.27           0.24  0.235"
      ]
     },
     "execution_count": 113,
     "metadata": {},
     "output_type": "execute_result"
    }
   ],
   "source": [
    "hum_perturb = pd.read_pickle(\"dataset/csn_1k_hum_test_perturb_10.pkl\")\n",
    "gen_perturb = pd.read_pickle(\"dataset/csn_gpt_gen_test_perturb_10.pkl\")\n",
    "df = pd.DataFrame(index=['DetectGPT'],columns=models)\n",
    "for model in models:\n",
    "    column_name = f\"extracted_full_func_word_prob_{model}\"\n",
    "    hum_score = []\n",
    "    for pid,orig_prob in zip(list(range(1,len(hum_data)+1)),hum_data[column_name]):\n",
    "        orig_prob = word_prob_gather_fn(orig_prob)\n",
    "        perturb_probs = hum_perturb[hum_perturb.pid == pid][column_name].apply(word_prob_gather_fn)\n",
    "        if len(perturb_probs) == 0:\n",
    "            # hum_score.append(0)\n",
    "            continue\n",
    "        perturb_prob = perturb_probs.mean()\n",
    "        prob_diff = orig_prob - perturb_prob\n",
    "        hum_score.append(prob_diff)\n",
    "    \n",
    "    gen_score = []\n",
    "    for pid,orig_prob in zip(list(range(1,len(gen_data)+1)),gen_data[column_name]):\n",
    "        orig_prob = word_prob_gather_fn(orig_prob)\n",
    "        perturb_probs = gen_perturb[gen_perturb.pid == pid][column_name].apply(word_prob_gather_fn)\n",
    "        if len(perturb_probs) == 0:\n",
    "            # gen_score.append(0)\n",
    "            continue\n",
    "        perturb_prob = perturb_probs.mean()\n",
    "        prob_diff = orig_prob - perturb_prob\n",
    "        gen_score.append(prob_diff)\n",
    "    \n",
    "    scores = gen_score + hum_score\n",
    "    labels = [1] * len(gen_score) + [0] * len(hum_score)\n",
    "    roc = roc_auc_score(labels,scores)\n",
    "    df[model]['DetectGPT'] = round(roc,2)\n",
    "\n",
    "df['avg'] = df.mean(axis=1)\n",
    "df\n",
    "        "
   ]
  },
  {
   "attachments": {},
   "cell_type": "markdown",
   "metadata": {},
   "source": [
    "## Entropy Histogram"
   ]
  },
  {
   "cell_type": "code",
   "execution_count": 5,
   "metadata": {},
   "outputs": [],
   "source": [
    "import pandas as pd\n",
    "os.environ['CUDA_VISIBLE_DEVICES'] = '2,3'\n",
    "df = pd.read_pickle(\"dataset/apps_hum_test.pkl\")\n",
    "text_df = pd.read_pickle(\"dataset/xsum_hum_llama.pkl\")"
   ]
  },
  {
   "cell_type": "code",
   "execution_count": 3,
   "metadata": {},
   "outputs": [
    {
     "name": "stderr",
     "output_type": "stream",
     "text": [
      "/home/yangkai/anaconda3/envs/vllm/lib/python3.8/site-packages/tqdm/auto.py:21: TqdmWarning: IProgress not found. Please update jupyter and ipywidgets. See https://ipywidgets.readthedocs.io/en/stable/user_install.html\n",
      "  from .autonotebook import tqdm as notebook_tqdm\n",
      "You are using the default legacy behaviour of the <class 'transformers.models.llama.tokenization_llama.LlamaTokenizer'>. This is expected, and simply means that the `legacy` (previous) behavior will be used so nothing changes for you. If you want to use the new behaviour, set `legacy=False`. This should only be set if you understand what it means, and thouroughly read the reason why this was added as explained in https://github.com/huggingface/transformers/pull/24565\n",
      "Loading checkpoint shards: 100%|██████████| 3/3 [00:44<00:00, 14.83s/it]\n"
     ]
    }
   ],
   "source": [
    "import torch\n",
    "from transformers import AutoModelForCausalLM, AutoTokenizer\n",
    "tokenizer = AutoTokenizer.from_pretrained('../llm_checkpoints/llama-13b/',use_fast=False)\n",
    "model = AutoModelForCausalLM.from_pretrained('../llm_checkpoints/llama-13b/',\n",
    "                                             torch_dtype=torch.float16,\n",
    "                                             low_cpu_mem_usage=True,\n",
    "                                             device_map='auto',\n",
    "                                             use_safetensors=False,\n",
    "                                             max_memory={i:\"14GiB\" for i in range(2)})\n",
    "@torch.inference_mode()\n",
    "def get_entropy(logits,input_ids):\n",
    "  shift_logits = logits[0, :-1, :].contiguous()\n",
    "  shift_labels = input_ids[0, 1:].contiguous()\n",
    "\n",
    "  probs = torch.softmax(shift_logits, dim=-1)\n",
    "  log_probs = torch.nn.functional.log_softmax(shift_logits, dim=-1)\n",
    "  entropy = (-probs * log_probs).sum(dim=-1).cpu().tolist()\n",
    "  return entropy\n",
    "\n",
    "@torch.inference_mode()\n",
    "def pipeline(x):\n",
    "  x = tokenizer.bos_token + x + tokenizer.eos_token\n",
    "  inputs = tokenizer(x,truncation=True,return_tensors='pt')\n",
    "  inputs = {k:v.cuda() for k,v in inputs.items()}\n",
    "\n",
    "  entropy = get_entropy(model(**inputs).logits, inputs['input_ids'])\n",
    "\n",
    "  return entropy"
   ]
  },
  {
   "cell_type": "code",
   "execution_count": 4,
   "metadata": {},
   "outputs": [
    {
     "name": "stderr",
     "output_type": "stream",
     "text": [
      "100%|██████████| 500/500 [04:03<00:00,  2.05it/s]\n"
     ]
    }
   ],
   "source": [
    "import tqdm\n",
    "\n",
    "all_entropy = []\n",
    "for doc in tqdm.tqdm(text_df['text']):\n",
    "  all_entropy.append(pipeline(doc))"
   ]
  },
  {
   "cell_type": "code",
   "execution_count": 7,
   "metadata": {},
   "outputs": [],
   "source": [
    "text_df['entropy'] = all_entropy\n",
    "text_df.to_pickle(\"dataset/xsum_hum_llama.pkl\")"
   ]
  },
  {
   "cell_type": "code",
   "execution_count": 4,
   "metadata": {},
   "outputs": [],
   "source": [
    "import numpy as np\n",
    "all_entropy = df['extracted_full_func_entropy_CodeLlama-13b-Instruct-hf'].tolist()\n",
    "all_text_entropy = text_df['entropy'].tolist()"
   ]
  },
  {
   "cell_type": "code",
   "execution_count": 5,
   "metadata": {},
   "outputs": [],
   "source": [
    "import numpy as np\n",
    "num_bins = 8\n",
    "avg_frac_hist = np.zeros(num_bins)\n",
    "for entropy in all_entropy:\n",
    "  hist, bins = np.histogram(entropy,bins=num_bins,range=[0,8])\n",
    "  # frac_hist = hist / hist.sum()\n",
    "  avg_frac_hist += hist\n",
    "\n",
    "dist = avg_frac_hist / avg_frac_hist.sum()"
   ]
  },
  {
   "cell_type": "code",
   "execution_count": 6,
   "metadata": {},
   "outputs": [],
   "source": [
    "import numpy as np\n",
    "num_bins = 8\n",
    "avg_text_frac_hist = np.zeros(num_bins)\n",
    "for entropy in all_text_entropy:\n",
    "  hist, bins = np.histogram(entropy,bins=num_bins,range=[0,8])\n",
    "  # frac_hist = hist / hist.sum()\n",
    "  avg_text_frac_hist += hist\n",
    "\n",
    "text_dist = avg_text_frac_hist / avg_text_frac_hist.sum()"
   ]
  },
  {
   "cell_type": "code",
   "execution_count": 6,
   "metadata": {},
   "outputs": [
    {
     "data": {
      "text/plain": [
       "<matplotlib.legend.Legend at 0x7fd6c8fb45b0>"
      ]
     },
     "execution_count": 6,
     "metadata": {},
     "output_type": "execute_result"
    },
    {
     "data": {
      "image/png": "[encoded data removed]",
      "text/plain": [
       "<Figure size 1000x400 with 1 Axes>"
      ]
     },
     "metadata": {},
     "output_type": "display_data"
    }
   ],
   "source": [
    "import matplotlib.pyplot as plt\n",
    "fig = plt.figure(figsize=(10, 4))\n",
    "plt.plot(bins[:-1],dist,label='Code')\n",
    "plt.plot(bins[:-1],text_dist,label='Human')\n",
    "plt.legend()"
   ]
  },
  {
   "cell_type": "code",
   "execution_count": 7,
   "metadata": {},
   "outputs": [
    {
     "data": {
      "text/plain": [
       "<Figure size 1000x300 with 0 Axes>"
      ]
     },
     "metadata": {},
     "output_type": "display_data"
    },
    {
     "data": {
      "image/png": "[encoded data removed]",
      "text/plain": [
       "<Figure size 1000x400 with 1 Axes>"
      ]
     },
     "metadata": {},
     "output_type": "display_data"
    }
   ],
   "source": [
    "import matplotlib.pyplot as plt\n",
    "fig = plt.figure(figsize=(10, 3))\n",
    "entropy_ranges = ['0.0-1.0', '1.0-2.0', '2.0-3.0', '3.0-4.0', '4.0-5.0', '5.0-6.0', '6.0-7.0', '7.0-8.0']\n",
    "code_freqs = dist\n",
    "general_texts_freqs = text_dist\n",
    "\n",
    "# Total width for all bars at one x location\n",
    "total_width = 0.8\n",
    "# Width of each individual bar\n",
    "ind_width = total_width / 2\n",
    "\n",
    "# Calculating the x locations for the groups\n",
    "x_locs = np.arange(len(entropy_ranges))\n",
    "\n",
    "# Defining the colors\n",
    "colors = {'code': '#C82423', 'general_texts': '#82B0D2'}\n",
    "\n",
    "# Creating the bar plot\n",
    "plt.figure(figsize=(10, 4))  # Adjust the figure size as needed\n",
    "plt.bar(x_locs, code_freqs, width=ind_width, color=colors['code'], label='Code')\n",
    "plt.bar(x_locs + ind_width, general_texts_freqs, width=ind_width, color=colors['general_texts'], label='General Texts')\n",
    "\n",
    "plt.legend()\n",
    "# plt.ylabel('Frequency', fontsize=14)\n",
    "plt.xlabel('Predictive Entropy', fontsize=14)\n",
    "plt.title('Predictive Entropy Distribution', fontsize=18)\n",
    "plt.xticks(x_locs + ind_width / 2, entropy_ranges, fontsize=14)\n",
    "plt.yticks(fontsize=12)\n",
    "plt.legend(fontsize=12)\n",
    "\n",
    "# Setting the font style\n",
    "plt.rc('font', family='serif')\n",
    "\n",
    "# Setting the style for the plot to match the uploaded image\n",
    "# plt.style.use('classic')  # 'classic' style has a similar font and background to the image\n",
    "plt.style.use('bmh')\n",
    "# Show plot\n",
    "plt.tight_layout()  # Adjusts the plot to ensure everything fits without overlapping\n",
    "ax = plt.gca()  # Get current axis\n",
    "ax.spines['top'].set_visible(False)\n",
    "ax.spines['right'].set_visible(False)\n",
    "ax.xaxis.label.set_fontweight('bold')\n",
    "ax.yaxis.label.set_fontweight('bold')\n",
    "\n",
    "plt.savefig(\"visuals/entropy_dist.pdf\",dpi=300,format='pdf')\n",
    "plt.show()"
   ]
  }
 ],
 "metadata": {
  "kernelspec": {
   "display_name": "torch20-cu117",
   "language": "python",
   "name": "python3"
  },
  "language_info": {
   "codemirror_mode": {
    "name": "ipython",
    "version": 3
   },
   "file_extension": ".py",
   "mimetype": "text/x-python",
   "name": "python",
   "nbconvert_exporter": "python",
   "pygments_lexer": "ipython3",
   "version": "3.10.12"
  },
  "orig_nbformat": 4
 },
 "nbformat": 4,
 "nbformat_minor": 2
}
