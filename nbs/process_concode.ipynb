{
 "cells": [
  {
   "cell_type": "code",
   "execution_count": 2,
   "metadata": {},
   "outputs": [],
   "source": [
    "import os\n",
    "os.chdir(\"/home/yangkai/codegen-detection/\")"
   ]
  },
  {
   "cell_type": "code",
   "execution_count": 2,
   "metadata": {},
   "outputs": [],
   "source": [
    "import json\n",
    "import pandas as pd\n",
    "\n",
    "df = pd.read_json(\"dataset/code_contest_cpp.json\")\n",
    "# gpt35_gen_resp = [json.loads(line)['choices'][0]['message']['content'] for line in open(\"prompt_gpt/code_contest_cpp_gen_gpt35_resp.jsonl\")]\n",
    "gpt4_gen_resp = [json.loads(line)['choices'][0]['message']['content'] for line in open(\"prompt_gpt/code_contest_cpp_gpt4_direct_resp.jsonl\")]\n"
   ]
  },
  {
   "cell_type": "code",
   "execution_count": 4,
   "metadata": {},
   "outputs": [],
   "source": [
    "from response_extraction import CodeExtractor\n",
    "extracor = CodeExtractor(\"C++\")\n",
    "gen_df = df[['pid','question']]\n",
    "gen_df['raw_code'] = gpt4_gen_resp\n",
    "gen_df['extracted_full_func'] = \"#include <bits/stdc++.h>\\n\" + gen_df['raw_code'].apply(extracor.extract)\n",
    "# gen_df['extracted_full_func'].apply(lambda x: print(x+\"\\n===========\\n\"))\n",
    "gen_df.to_pickle(\"dataset/code_contest_cpp_gen_gpt4_test.pkl\")"
   ]
  },
  {
   "cell_type": "code",
   "execution_count": 26,
   "metadata": {},
   "outputs": [
    {
     "name": "stderr",
     "output_type": "stream",
     "text": [
      "/tmp/ipykernel_803226/2528393602.py:2: SettingWithCopyWarning: \n",
      "A value is trying to be set on a copy of a slice from a DataFrame.\n",
      "Try using .loc[row_indexer,col_indexer] = value instead\n",
      "\n",
      "See the caveats in the documentation: https://pandas.pydata.org/pandas-docs/stable/user_guide/indexing.html#returning-a-view-versus-a-copy\n",
      "  hum_df['extracted_full_func'] = \"#include <bits/stdc++.h>\\n\" + hum_df['solution'].apply(extracor._step2_code_filter)\n"
     ]
    }
   ],
   "source": [
    "hum_df = df[['pid','question','solution']]\n",
    "hum_df['extracted_full_func'] = \"#include <bits/stdc++.h>\\n\" + hum_df['solution'].apply(extracor._step2_code_filter)\n",
    "# hum_df['extracted_full_func'].apply(lambda x: print(x+\"\\n===========\\n\"))\n",
    "hum_df.to_pickle(\"dataset/code_contest_cpp_hum_test.pkl\")"
   ]
  },
  {
   "cell_type": "code",
   "execution_count": 29,
   "metadata": {},
   "outputs": [
    {
     "data": {
      "text/plain": [
       "count    158.000000\n",
       "mean      35.778481\n",
       "std       13.713921\n",
       "min       12.000000\n",
       "25%       26.250000\n",
       "50%       34.000000\n",
       "75%       44.000000\n",
       "max       90.000000\n",
       "Name: extracted_full_func, dtype: float64"
      ]
     },
     "execution_count": 29,
     "metadata": {},
     "output_type": "execute_result"
    }
   ],
   "source": [
    "def line_cnt(x):\n",
    "    return len(x.split(\"\\n\"))\n",
    "\n",
    "gen_df['extracted_full_func'].apply(line_cnt).describe()"
   ]
  },
  {
   "cell_type": "code",
   "execution_count": 30,
   "metadata": {},
   "outputs": [
    {
     "data": {
      "text/plain": [
       "count    158.000000\n",
       "mean      49.949367\n",
       "std       16.261712\n",
       "min       14.000000\n",
       "25%       38.250000\n",
       "50%       48.500000\n",
       "75%       63.000000\n",
       "max       80.000000\n",
       "Name: extracted_full_func, dtype: float64"
      ]
     },
     "execution_count": 30,
     "metadata": {},
     "output_type": "execute_result"
    }
   ],
   "source": [
    "hum_df['extracted_full_func'].apply(line_cnt).describe()"
   ]
  },
  {
   "cell_type": "markdown",
   "metadata": {},
   "source": [
    "## CodeLlama Gen"
   ]
  },
  {
   "cell_type": "code",
   "execution_count": 3,
   "metadata": {},
   "outputs": [],
   "source": [
    "import json\n",
    "import pandas as pd\n",
    "\n",
    "df = pd.read_json(\"dataset/code_contest_cpp.json\")\n",
    "gen_resp = [json.loads(line)['code'] for line in open(\"prompt_gpt/code_contest_cpp_codellama_gen_resp.jsonl\")]"
   ]
  },
  {
   "cell_type": "code",
   "execution_count": 27,
   "metadata": {},
   "outputs": [],
   "source": [
    "from response_extraction import CodeExtractor\n",
    "extracor = CodeExtractor(\"C++\")\n",
    "gen_df = df[['pid','question']]\n",
    "gen_df['raw_code'] = gen_resp\n",
    "gen_df['extracted_full_func'] = \"#include <bits/stdc++.h>\\n\" + gen_df['raw_code']\n",
    "def truncate_after_last_brace(input_string):\n",
    "    # 找到最后一个'}'的位置\n",
    "    last_brace_position = input_string.rfind('}')\n",
    "\n",
    "    # 如果找到了'}'，则截断字符串；否则返回原字符串\n",
    "    if last_brace_position != -1:\n",
    "        return input_string[:last_brace_position + 1]\n",
    "    else:\n",
    "        return input_string\n",
    "\n",
    "gen_df['extracted_full_func'] = gen_df['extracted_full_func'].apply(truncate_after_last_brace)\n",
    "gen_df.to_pickle(\"dataset/code_contest_cpp_gen_codellama_test.pkl\")"
   ]
  },
  {
   "cell_type": "code",
   "execution_count": 26,
   "metadata": {},
   "outputs": [
    {
     "name": "stderr",
     "output_type": "stream",
     "text": [
      "/tmp/ipykernel_1174816/2952299153.py:2: SettingWithCopyWarning: \n",
      "A value is trying to be set on a copy of a slice from a DataFrame.\n",
      "Try using .loc[row_indexer,col_indexer] = value instead\n",
      "\n",
      "See the caveats in the documentation: https://pandas.pydata.org/pandas-docs/stable/user_guide/indexing.html#returning-a-view-versus-a-copy\n",
      "  hum_df['extracted_full_func'] = \"#include <bits/stdc++.h>\\n\" + hum_df['solution'].apply(extracor._step2_code_filter)\n",
      "/tmp/ipykernel_1174816/2952299153.py:3: SettingWithCopyWarning: \n",
      "A value is trying to be set on a copy of a slice from a DataFrame.\n",
      "Try using .loc[row_indexer,col_indexer] = value instead\n",
      "\n",
      "See the caveats in the documentation: https://pandas.pydata.org/pandas-docs/stable/user_guide/indexing.html#returning-a-view-versus-a-copy\n",
      "  hum_df['extracted_full_func'] = hum_df['extracted_full_func'].apply(truncate_after_last_brace)\n"
     ]
    }
   ],
   "source": [
    "hum_df = df[['pid','question','solution']]\n",
    "hum_df['extracted_full_func'] = \"#include <bits/stdc++.h>\\n\" + hum_df['solution'].apply(extracor._step2_code_filter)\n",
    "hum_df['extracted_full_func'] = hum_df['extracted_full_func'].apply(truncate_after_last_brace)"
   ]
  },
  {
   "cell_type": "code",
   "execution_count": 8,
   "metadata": {},
   "outputs": [
    {
     "data": {
      "text/plain": [
       "count    158.000000\n",
       "mean      31.588608\n",
       "std       14.291385\n",
       "min        2.000000\n",
       "25%       22.000000\n",
       "50%       29.000000\n",
       "75%       38.000000\n",
       "max      104.000000\n",
       "Name: extracted_full_func, dtype: float64"
      ]
     },
     "execution_count": 8,
     "metadata": {},
     "output_type": "execute_result"
    }
   ],
   "source": [
    "def line_cnt(x):\n",
    "    return len(x.split(\"\\n\"))\n",
    "\n",
    "gen_df['extracted_full_func'].apply(line_cnt).describe()"
   ]
  },
  {
   "cell_type": "code",
   "execution_count": 9,
   "metadata": {},
   "outputs": [
    {
     "data": {
      "text/plain": [
       "count    158.000000\n",
       "mean      49.949367\n",
       "std       16.261712\n",
       "min       14.000000\n",
       "25%       38.250000\n",
       "50%       48.500000\n",
       "75%       63.000000\n",
       "max       80.000000\n",
       "Name: extracted_full_func, dtype: float64"
      ]
     },
     "execution_count": 9,
     "metadata": {},
     "output_type": "execute_result"
    }
   ],
   "source": [
    "hum_df['extracted_full_func'].apply(line_cnt).describe()"
   ]
  },
  {
   "cell_type": "markdown",
   "metadata": {},
   "source": [
    "## StarChat Gen"
   ]
  },
  {
   "cell_type": "code",
   "execution_count": 6,
   "metadata": {},
   "outputs": [],
   "source": [
    "import json\n",
    "import pandas as pd\n",
    "\n",
    "df = pd.read_pickle(\"dataset/apps_gen_test100.pkl\")\n",
    "gen_resp = [json.loads(line)['code'] for line in open(\"prompt_gpt/apps_gen_test100_starchat_direct_resp.jsonl\")]"
   ]
  },
  {
   "cell_type": "code",
   "execution_count": 8,
   "metadata": {},
   "outputs": [
    {
     "name": "stderr",
     "output_type": "stream",
     "text": [
      "/tmp/ipykernel_3884535/2684215429.py:2: SettingWithCopyWarning: \n",
      "A value is trying to be set on a copy of a slice from a DataFrame.\n",
      "Try using .loc[row_indexer,col_indexer] = value instead\n",
      "\n",
      "See the caveats in the documentation: https://pandas.pydata.org/pandas-docs/stable/user_guide/indexing.html#returning-a-view-versus-a-copy\n",
      "  gen_df['extracted_full_func'] = gen_resp\n"
     ]
    },
    {
     "data": {
      "text/html": [
       "<div>\n",
       "<style scoped>\n",
       "    .dataframe tbody tr th:only-of-type {\n",
       "        vertical-align: middle;\n",
       "    }\n",
       "\n",
       "    .dataframe tbody tr th {\n",
       "        vertical-align: top;\n",
       "    }\n",
       "\n",
       "    .dataframe thead th {\n",
       "        text-align: right;\n",
       "    }\n",
       "</style>\n",
       "<table border=\"1\" class=\"dataframe\">\n",
       "  <thead>\n",
       "    <tr style=\"text-align: right;\">\n",
       "      <th></th>\n",
       "      <th>problem_id</th>\n",
       "      <th>question</th>\n",
       "      <th>extracted_full_func</th>\n",
       "    </tr>\n",
       "  </thead>\n",
       "  <tbody>\n",
       "    <tr>\n",
       "      <th>3745</th>\n",
       "      <td>3745</td>\n",
       "      <td># Introduction\\n\\nThe Condi (Consecutive Digra...</td>\n",
       "      <td>message = \"Hello World!\"\\nkey = \"cryptogram\"\\n...</td>\n",
       "    </tr>\n",
       "    <tr>\n",
       "      <th>9210</th>\n",
       "      <td>9210</td>\n",
       "      <td>You are given an array $a$, consisting of $n$ ...</td>\n",
       "      <td>n, k = map(int, input().split())\\na = list(map...</td>\n",
       "    </tr>\n",
       "    <tr>\n",
       "      <th>9287</th>\n",
       "      <td>9287</td>\n",
       "      <td>Polycarp lives on a coordinate line at the poi...</td>\n",
       "      <td>def polycarp_journey(a, rain_segments, umbrell...</td>\n",
       "    </tr>\n",
       "    <tr>\n",
       "      <th>5679</th>\n",
       "      <td>5679</td>\n",
       "      <td>When the curtains are opened, a canvas unfolds...</td>\n",
       "      <td>s = input()\\nchar_set = set(s)\\nif char_set ==...</td>\n",
       "    </tr>\n",
       "    <tr>\n",
       "      <th>5100</th>\n",
       "      <td>5100</td>\n",
       "      <td>Innocentius has a problem — his computer monit...</td>\n",
       "      <td>import sys\\nn, m = map(int, input().split())\\n...</td>\n",
       "    </tr>\n",
       "    <tr>\n",
       "      <th>...</th>\n",
       "      <td>...</td>\n",
       "      <td>...</td>\n",
       "      <td>...</td>\n",
       "    </tr>\n",
       "    <tr>\n",
       "      <th>7317</th>\n",
       "      <td>7317</td>\n",
       "      <td>Two villages are separated by a river that flo...</td>\n",
       "      <td>import sys\\nfrom itertools import permutations...</td>\n",
       "    </tr>\n",
       "    <tr>\n",
       "      <th>4862</th>\n",
       "      <td>4862</td>\n",
       "      <td>The cat wants to lay down on the table, but th...</td>\n",
       "      <td>def get_adjacent_value(row, col, direction, ma...</td>\n",
       "    </tr>\n",
       "    <tr>\n",
       "      <th>4633</th>\n",
       "      <td>4633</td>\n",
       "      <td>You have to create a function that converts in...</td>\n",
       "      <td>def to_upper_ascii(s):\\n    return ''.join(chr...</td>\n",
       "    </tr>\n",
       "    <tr>\n",
       "      <th>715</th>\n",
       "      <td>715</td>\n",
       "      <td>Recently Rocky had participated in coding comp...</td>\n",
       "      <td>python\\n\\</td>\n",
       "    </tr>\n",
       "    <tr>\n",
       "      <th>3096</th>\n",
       "      <td>3096</td>\n",
       "      <td>This problem takes its name by arguably the mo...</td>\n",
       "      <td>def josephus(items: list, k: int) -&gt; list:\\n  ...</td>\n",
       "    </tr>\n",
       "  </tbody>\n",
       "</table>\n",
       "<p>100 rows × 3 columns</p>\n",
       "</div>"
      ],
      "text/plain": [
       "      problem_id                                           question  \\\n",
       "3745        3745  # Introduction\\n\\nThe Condi (Consecutive Digra...   \n",
       "9210        9210  You are given an array $a$, consisting of $n$ ...   \n",
       "9287        9287  Polycarp lives on a coordinate line at the poi...   \n",
       "5679        5679  When the curtains are opened, a canvas unfolds...   \n",
       "5100        5100  Innocentius has a problem — his computer monit...   \n",
       "...          ...                                                ...   \n",
       "7317        7317  Two villages are separated by a river that flo...   \n",
       "4862        4862  The cat wants to lay down on the table, but th...   \n",
       "4633        4633  You have to create a function that converts in...   \n",
       "715          715  Recently Rocky had participated in coding comp...   \n",
       "3096        3096  This problem takes its name by arguably the mo...   \n",
       "\n",
       "                                    extracted_full_func  \n",
       "3745  message = \"Hello World!\"\\nkey = \"cryptogram\"\\n...  \n",
       "9210  n, k = map(int, input().split())\\na = list(map...  \n",
       "9287  def polycarp_journey(a, rain_segments, umbrell...  \n",
       "5679  s = input()\\nchar_set = set(s)\\nif char_set ==...  \n",
       "5100  import sys\\nn, m = map(int, input().split())\\n...  \n",
       "...                                                 ...  \n",
       "7317  import sys\\nfrom itertools import permutations...  \n",
       "4862  def get_adjacent_value(row, col, direction, ma...  \n",
       "4633  def to_upper_ascii(s):\\n    return ''.join(chr...  \n",
       "715                                           python\\n\\  \n",
       "3096  def josephus(items: list, k: int) -> list:\\n  ...  \n",
       "\n",
       "[100 rows x 3 columns]"
      ]
     },
     "execution_count": 8,
     "metadata": {},
     "output_type": "execute_result"
    }
   ],
   "source": [
    "gen_df = df[['problem_id','question']]\n",
    "gen_df['extracted_full_func'] = gen_resp\n",
    "# gen_df.to_pickle(\"dataset/apps_gen_test100_starchat.pkl\")"
   ]
  },
  {
   "cell_type": "code",
   "execution_count": 4,
   "metadata": {},
   "outputs": [],
   "source": [
    "from response_extraction import CodeExtractor\n",
    "extracor = CodeExtractor(\"C++\")\n",
    "gen_df = df[['pid','question']]\n",
    "gen_df['raw_code'] = gen_resp\n",
    "gen_df['extracted_full_func'] = \"#include <bits/stdc++.h>\\n\" + gen_df['raw_code']\n",
    "def truncate_after_last_brace(input_string):\n",
    "    # 找到最后一个'}'的位置\n",
    "    last_brace_position = input_string.rfind('}')\n",
    "\n",
    "    # 如果找到了'}'，则截断字符串；否则返回原字符串\n",
    "    if last_brace_position != -1:\n",
    "        return input_string[:last_brace_position + 1]\n",
    "    else:\n",
    "        return input_string\n",
    "\n",
    "gen_df['extracted_full_func'] = gen_df['extracted_full_func'].apply(truncate_after_last_brace)\n",
    "gen_df.to_pickle(\"dataset/code_contest_cpp_gen_starchat_test.pkl\")"
   ]
  },
  {
   "cell_type": "code",
   "execution_count": 5,
   "metadata": {},
   "outputs": [
    {
     "name": "stderr",
     "output_type": "stream",
     "text": [
      "/tmp/ipykernel_283834/2952299153.py:2: SettingWithCopyWarning: \n",
      "A value is trying to be set on a copy of a slice from a DataFrame.\n",
      "Try using .loc[row_indexer,col_indexer] = value instead\n",
      "\n",
      "See the caveats in the documentation: https://pandas.pydata.org/pandas-docs/stable/user_guide/indexing.html#returning-a-view-versus-a-copy\n",
      "  hum_df['extracted_full_func'] = \"#include <bits/stdc++.h>\\n\" + hum_df['solution'].apply(extracor._step2_code_filter)\n",
      "/tmp/ipykernel_283834/2952299153.py:3: SettingWithCopyWarning: \n",
      "A value is trying to be set on a copy of a slice from a DataFrame.\n",
      "Try using .loc[row_indexer,col_indexer] = value instead\n",
      "\n",
      "See the caveats in the documentation: https://pandas.pydata.org/pandas-docs/stable/user_guide/indexing.html#returning-a-view-versus-a-copy\n",
      "  hum_df['extracted_full_func'] = hum_df['extracted_full_func'].apply(truncate_after_last_brace)\n"
     ]
    }
   ],
   "source": [
    "hum_df = df[['pid','question','solution']]\n",
    "hum_df['extracted_full_func'] = \"#include <bits/stdc++.h>\\n\" + hum_df['solution'].apply(extracor._step2_code_filter)\n",
    "hum_df['extracted_full_func'] = hum_df['extracted_full_func'].apply(truncate_after_last_brace)"
   ]
  },
  {
   "cell_type": "code",
   "execution_count": 7,
   "metadata": {},
   "outputs": [
    {
     "data": {
      "text/plain": [
       "count    158.000000\n",
       "mean      48.949367\n",
       "std       16.261712\n",
       "min       13.000000\n",
       "25%       37.250000\n",
       "50%       47.500000\n",
       "75%       62.000000\n",
       "max       79.000000\n",
       "Name: extracted_full_func, dtype: float64"
      ]
     },
     "execution_count": 7,
     "metadata": {},
     "output_type": "execute_result"
    }
   ],
   "source": [
    "hum_df['extracted_full_func'].apply(line_cnt).describe()"
   ]
  },
  {
   "cell_type": "markdown",
   "metadata": {},
   "source": [
    "## APPS vary temperature"
   ]
  },
  {
   "cell_type": "code",
   "execution_count": 16,
   "metadata": {},
   "outputs": [],
   "source": [
    "import json\n",
    "import pandas as pd\n",
    "\n",
    "gen_df = pd.read_pickle(\"dataset/mbpp_gen_test100.pkl\")\n",
    "gen_resp = [json.loads(line)['choices'][0]['message']['content'] for line in open(\"prompt_gpt/mbpp_gen_test100_gpt35_temp04_direct_resp.jsonl\")]"
   ]
  },
  {
   "cell_type": "code",
   "execution_count": 17,
   "metadata": {},
   "outputs": [],
   "source": [
    "from response_extraction import CodeExtractor\n",
    "extracor = CodeExtractor(\"python\")\n",
    "gen_df = gen_df[['problem_id','prompt']]\n",
    "gen_df['raw_response'] = gen_resp\n",
    "gen_df['extracted_full_func'] = gen_df['raw_response'].apply(extracor.extract)\n",
    "# gen_df\n",
    "gen_df.to_pickle(\"dataset/mbpp_gen_test100temp04.pkl\")"
   ]
  },
  {
   "cell_type": "code",
   "execution_count": 19,
   "metadata": {},
   "outputs": [],
   "source": [
    "gen_df.to_pickle(\"dataset/apps_gen_test100temp04_starchat.pkl\")"
   ]
  },
  {
   "cell_type": "markdown",
   "metadata": {},
   "source": [
    "## APPS Wizard"
   ]
  },
  {
   "cell_type": "code",
   "execution_count": 10,
   "metadata": {},
   "outputs": [],
   "source": [
    "import json\n",
    "import pandas as pd\n",
    "\n",
    "gen_df = pd.read_pickle(\"dataset/mbpp_gen_test.pkl\")\n",
    "gen_resp = [json.loads(line)['code'] for line in open(\"prompt_gpt/mbpp_gen_test_wizard_direct_resp.jsonl\")]"
   ]
  },
  {
   "cell_type": "code",
   "execution_count": 12,
   "metadata": {},
   "outputs": [
    {
     "name": "stderr",
     "output_type": "stream",
     "text": [
      "/tmp/ipykernel_1467839/2780778573.py:2: SettingWithCopyWarning: \n",
      "A value is trying to be set on a copy of a slice from a DataFrame.\n",
      "Try using .loc[row_indexer,col_indexer] = value instead\n",
      "\n",
      "See the caveats in the documentation: https://pandas.pydata.org/pandas-docs/stable/user_guide/indexing.html#returning-a-view-versus-a-copy\n",
      "  gen_df['extracted_full_func'] = gen_resp\n"
     ]
    }
   ],
   "source": [
    "gen_df = gen_df[['problem_id','prompt']]\n",
    "gen_df['extracted_full_func'] = gen_resp"
   ]
  },
  {
   "cell_type": "code",
   "execution_count": 16,
   "metadata": {},
   "outputs": [],
   "source": [
    "# gen_df.extracted_full_func.apply(print)"
   ]
  },
  {
   "cell_type": "code",
   "execution_count": 17,
   "metadata": {},
   "outputs": [],
   "source": [
    "gen_df.to_pickle(\"dataset/mbpp_gen_test_wizard.pkl\")"
   ]
  }
 ],
 "metadata": {
  "kernelspec": {
   "display_name": "torch20-cu117",
   "language": "python",
   "name": "python3"
  },
  "language_info": {
   "codemirror_mode": {
    "name": "ipython",
    "version": 3
   },
   "file_extension": ".py",
   "mimetype": "text/x-python",
   "name": "python",
   "nbconvert_exporter": "python",
   "pygments_lexer": "ipython3",
   "version": "3.9.16"
  }
 },
 "nbformat": 4,
 "nbformat_minor": 2
}
