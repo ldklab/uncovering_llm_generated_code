{
 "cells": [
  {
   "cell_type": "code",
   "execution_count": 1,
   "metadata": {},
   "outputs": [],
   "source": [
    "import pandas as pd\n",
    "import numpy as np\n",
    "import matplotlib.pyplot as plt\n",
    "\n",
    "# Data from the provided table\n",
    "data = {\n",
    "    'Methods': ['LogProb', \"Rank\" ,'LogRank', 'Entropy', 'DetectGPT', 'Ours,m=8'],\n",
    "    'Correct': [62.57, 36.58, 57.54, 52.14, 70.10, 79.36],\n",
    "    'Incorrect': [62.14, 44.41, 58.81, 49.00, 65.10, 86.05]\n",
    "}\n",
    "\n",
    "fill_colors = ['#2878B5', '#9AC9DB', \"#F8AC8C\", '#E7DAD2', '#FFBE7A', '#C82423']\n",
    "edge_colors = ['black'] * 6\n",
    "# Creating a DataFrame\n",
    "df = pd.DataFrame(data)\n",
    "# Adjusting the plot to have two bars for each method consecutively\n",
    "\n",
    "# Set figure size\n",
    "plt.figure(figsize=(10, 4))\n",
    "\n",
    "# Set the positions of the bars\n",
    "bar_width = 0.35\n",
    "index = np.arange(len(df))\n",
    "\n",
    "# Plotting 'Correct' and 'Incorrect' bars consecutively\n",
    "correct_bars = plt.bar(index, df['Correct'], bar_width, label='Correct', alpha=0.8, color=fill_colors,hatch=\"..\",edgecolor=edge_colors)\n",
    "incorrect_bars = plt.bar(index + bar_width, df['Incorrect'], bar_width, label='Incorrect', alpha=0.8, color=fill_colors,hatch=\"xx\",edgecolor=edge_colors)\n",
    "\n",
    "# plt.xlabel('Methods',fontweight='bold',fontsize=16)\n",
    "# plt.title('Impact of Code Correctness',fontsize=16)\n",
    "plt.xticks(index + bar_width / 2, df['Methods'],fontsize=14,fontweight='heavy')\n",
    "lgd = plt.legend(fontsize=14,frameon=True)\n",
    "# Set the legend sample markers to be transparent\n",
    "for handle in lgd.legendHandles:\n",
    "    handle.set_color('none')  # Set the color of the marker to none (transparent)\n",
    "    handle.set_edgecolor('black')  # Keep the edge color to make the hatch visible\n",
    "plt.ylim(20,90)\n",
    "plt.tight_layout()\n",
    "# Display the plot\n",
    "ax=plt.gca()\n",
    "ax.spines['top'].set_visible(False)\n",
    "ax.spines['right'].set_visible(False)\n",
    "for label in ax.get_yticklabels():\n",
    "    label.set_fontsize(15)\n",
    "\n",
    "\n",
    "plt.savefig(\"visuals/code_correctness.pdf\",dpi=300,format='pdf')\n",
    "plt.show()"
   ]
  },
  {
   "cell_type": "code",
   "execution_count": 37,
   "metadata": {},
   "outputs": [],
   "source": [
    "import os\n",
    "os.chdir(\"/home/yangkai/codegen-detection/\")"
   ]
  }
 ],
 "metadata": {
  "kernelspec": {
   "display_name": "torch20-cu117",
   "language": "python",
   "name": "python3"
  },
  "language_info": {
   "codemirror_mode": {
    "name": "ipython",
    "version": 3
   },
   "file_extension": ".py",
   "mimetype": "text/x-python",
   "name": "python",
   "nbconvert_exporter": "python",
   "pygments_lexer": "ipython3",
   "version": "3.9.16"
  }
 },
 "nbformat": 4,
 "nbformat_minor": 2
}
