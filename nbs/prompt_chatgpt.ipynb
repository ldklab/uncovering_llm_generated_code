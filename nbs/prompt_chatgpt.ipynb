{
 "cells": [
  {
   "cell_type": "code",
   "execution_count": 14,
   "metadata": {
    "collapsed": true
   },
   "outputs": [],
   "source": [
    "import requests\n",
    "import random\n",
    "import json\n",
    "import os\n",
    "import tqdm\n",
    "import time"
   ]
  },
  {
   "cell_type": "code",
   "execution_count": 18,
   "metadata": {
    "collapsed": false,
    "pycharm": {
     "name": "#%%\n"
    }
   },
   "outputs": [],
   "source": [
    "api_key = \"xxx\"\n",
    "def retry_with_exponential_backoff(\n",
    "    func,\n",
    "    initial_delay: float = 5,\n",
    "    exponential_base: float = 2,\n",
    "    jitter: bool = True,\n",
    "    max_retries: int = 10,\n",
    "):\n",
    "    \"\"\"Retry a function with exponential backoff.\"\"\"\n",
    "\n",
    "    def wrapper(*args, **kwargs):\n",
    "        # Initialize variables\n",
    "        num_retries = 0\n",
    "        delay = initial_delay\n",
    "\n",
    "        # Loop until a successful response or max_retries is hit or an exception is raised\n",
    "        while True:\n",
    "            response = func(*args, **kwargs)\n",
    "\n",
    "            # Retry on specified errors\n",
    "            if \"error\" in response:\n",
    "                # Increment retries\n",
    "                num_retries += 1\n",
    "\n",
    "                # Check if max retries has been reached\n",
    "                if num_retries > max_retries:\n",
    "                    print(\"Maximum Retry Exceed\")\n",
    "                    return {}\n",
    "\n",
    "                # Increment the delay\n",
    "                delay *= exponential_base * (1 + jitter * random.random())\n",
    "\n",
    "                # Sleep for the delay\n",
    "                time.sleep(delay)\n",
    "            else:\n",
    "                return response\n",
    "\n",
    "    return wrapper\n",
    "\n",
    "@retry_with_exponential_backoff\n",
    "def prompt_chatgpt(model_name, prompt, max_tokens, temperature, top_p=None, n=5):\n",
    "    \"\"\"Make an api call to ChatGPT and write the respone to a file\"\"\"\n",
    "    api_url = \"https://api.openai.com/v1/completions\"\n",
    "    headers = {\"Authorization\": f\"Bearer {api_key}\", \"Content-Type\": \"application/json\"}\n",
    "    data = {\"model\": model_name,\n",
    "            \"prompt\": f\"{prompt}\",\n",
    "            \"temperature\": temperature,\n",
    "            \"top_p\": top_p,\n",
    "            \"max_tokens\": max_tokens,\n",
    "            \"n\":n}\n",
    "\n",
    "    try:\n",
    "        response = requests.post(api_url, headers=headers, json=data)\n",
    "    except requests.exceptions as err:\n",
    "        print(err)\n",
    "        raise Exception(\"Error in Connection...\")\n",
    "\n",
    "    json_response = response.json()\n",
    "    return json_response\n"
   ]
  },
  {
   "cell_type": "code",
   "execution_count": 19,
   "metadata": {},
   "outputs": [],
   "source": [
    "from utils import load_json_dataset\n",
    "he_data = load_json_dataset(\"dataset/humaneval/HumanEval.jsonl\")"
   ]
  },
  {
   "cell_type": "code",
   "execution_count": 9,
   "metadata": {},
   "outputs": [],
   "source": [
    "model_name = \"code-davinci-002\"\n",
    "max_tokens = 350\n",
    "temperature = 0.8\n",
    "top_p = 1.0\n",
    "n = 5\n",
    "output_file_pth = f\"dataset/humaneval/{model_name.replace('-','_')}-{temperature}-{top_p}-{max_tokens}-{n}_response.json\"\n",
    "# out_file = open(output_file_pth, \"a\")"
   ]
  },
  {
   "cell_type": "code",
   "execution_count": 7,
   "metadata": {},
   "outputs": [
    {
     "name": "stderr",
     "output_type": "stream",
     "text": [
      "  0%|                                                     | 0/1 [00:00<?, ?it/s]"
     ]
    },
    {
     "name": "stdout",
     "output_type": "stream",
     "text": [
      "{'task_id': 'HumanEval/0', 'prompt': 'from typing import List\\n\\n\\ndef has_close_elements(numbers: List[float], threshold: float) -> bool:\\n    \"\"\" Check if in given list of numbers, are any two numbers closer to each other than\\n    given threshold.\\n    >>> has_close_elements([1.0, 2.0, 3.0], 0.5)\\n    False\\n    >>> has_close_elements([1.0, 2.8, 3.0, 4.0, 5.0, 2.0], 0.3)\\n    True\\n    \"\"\"\\n', 'entry_point': 'has_close_elements', 'canonical_solution': '    for idx, elem in enumerate(numbers):\\n        for idx2, elem2 in enumerate(numbers):\\n            if idx != idx2:\\n                distance = abs(elem - elem2)\\n                if distance < threshold:\\n                    return True\\n\\n    return False\\n', 'test': \"\\n\\nMETADATA = {\\n    'author': 'jt',\\n    'dataset': 'test'\\n}\\n\\n\\ndef check(candidate):\\n    assert candidate([1.0, 2.0, 3.9, 4.0, 5.0, 2.2], 0.3) == True\\n    assert candidate([1.0, 2.0, 3.9, 4.0, 5.0, 2.2], 0.05) == False\\n    assert candidate([1.0, 2.0, 5.9, 4.0, 5.0], 0.95) == True\\n    assert candidate([1.0, 2.0, 5.9, 4.0, 5.0], 0.8) == False\\n    assert candidate([1.0, 2.0, 3.0, 4.0, 5.0, 2.0], 0.1) == True\\n    assert candidate([1.1, 2.2, 3.1, 4.1, 5.1], 1.0) == True\\n    assert candidate([1.1, 2.2, 3.1, 4.1, 5.1], 0.5) == False\\n\\n\"}\n"
     ]
    },
    {
     "name": "stderr",
     "output_type": "stream",
     "text": [
      "100%|█████████████████████████████████████████████| 1/1 [00:12<00:00, 12.45s/it]"
     ]
    },
    {
     "name": "stdout",
     "output_type": "stream",
     "text": [
      "{'text': '    for i, n in enumerate(numbers):\\n        for j, m in enumerate(numbers):\\n            if i == j:\\n                continue\\n            if abs(n - m) < threshold:\\n                return True\\n    return False\\n\\n\\ndef find_closest_pair(numbers: List[float], threshold: float) -> Tuple[int, int]:\\n    \"\"\" Finds the indices of the two closest numbers in given list of numbers\\n        >>> find_closest_pair([1.0, 2.8, 3.0, 4.0, 5.0, 2.0], 0.3)\\n        (2, 1)\\n        >>> find_closest_pair([1.0, 2.0], 0.1)\\n        (0, 1)\\n    \"\"\"\\n    for i, n in enumerate(numbers):\\n        for j, m in enumerate(numbers):\\n            if i == j:\\n                continue\\n            if abs(n - m) < threshold:\\n                return i, j\\n    raise ValueError(f\"No close elements found in list {numbers}\")', 'index': 0, 'logprobs': None, 'finish_reason': 'stop'}\n"
     ]
    },
    {
     "name": "stderr",
     "output_type": "stream",
     "text": [
      "\n"
     ]
    }
   ],
   "source": [
    "# prompt = f\"Complete the following function: \\n{csn_data[0]['prompt']}\"\n",
    "# prompt = f\"{csn_data[0]['prompt']}\"\n",
    "for data in tqdm.tqdm(he_data[:1]):\n",
    "    print(data)\n",
    "    prompt = data['prompt']\n",
    "    response = prompt_chatgpt(model_name, prompt, max_tokens, temperature, top_p, n)\n",
    "    print(response['choices'][0])\n",
    "    # out_file.write(json.dumps(response) + \"\\n\")\n",
    "# out_file.close()"
   ]
  },
  {
   "cell_type": "code",
   "execution_count": 13,
   "metadata": {
    "collapsed": false,
    "pycharm": {
     "name": "#%%\n"
    }
   },
   "outputs": [
    {
     "data": {
      "text/plain": [
       "{'error': {'message': 'Rate limit reached for default-code-davinci-002 in organization org-xk6WoVlZlZk2h4fCHJMwPZGc on requests per min. Limit: 20.000000 / min. Current: 30.000000 / min. Contact support@openai.com if you continue to have issues. Please add a payment method to your account to increase your rate limit. Visit https://platform.openai.com/account/billing to add a payment method.',\n",
       "  'type': 'requests',\n",
       "  'param': None,\n",
       "  'code': None}}"
      ]
     },
     "execution_count": 13,
     "metadata": {},
     "output_type": "execute_result"
    }
   ],
   "source": [
    "a = load_json_dataset(output_file_pth)\n",
    "a[5]['raw_response']"
   ]
  }
 ],
 "metadata": {
  "kernelspec": {
   "display_name": "base",
   "language": "python",
   "name": "python3"
  },
  "language_info": {
   "codemirror_mode": {
    "name": "ipython",
    "version": 3
   },
   "file_extension": ".py",
   "mimetype": "text/x-python",
   "name": "python",
   "nbconvert_exporter": "python",
   "pygments_lexer": "ipython3",
   "version": "3.8.5"
  },
  "vscode": {
   "interpreter": {
    "hash": "ddbd7fc550650fda5ec63b9fadd14ab8ea70de3e67f7e9e45459c9a693fe0ac4"
   }
  }
 },
 "nbformat": 4,
 "nbformat_minor": 0
}
