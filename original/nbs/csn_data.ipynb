{
 "cells": [
  {
   "cell_type": "code",
   "execution_count": 1,
   "metadata": {},
   "outputs": [],
   "source": [
    "import pandas as pd\n",
    "hum_train_data = pd.read_pickle(\"../dataset/all_human_train_prompt_split.pkl\")\n",
    "gen_train_data = pd.read_pickle(\"../dataset/all_human_train_prompt_split.pkl\")\n",
    "hum_test_data = pd.read_pickle(\"../dataset/all_human_test_prompt_split.pkl\")\n",
    "gen_test_data = pd.read_pickle(\"../dataset/all_gen_test_prompt_split.pkl\")\n",
    "\n",
    "test_data = pd.concat([hum_test_data,gen_test_data])\n",
    "test_data = test_data[test_data['source'] == 'csn']"
   ]
  },
  {
   "cell_type": "code",
   "execution_count": 7,
   "metadata": {},
   "outputs": [],
   "source": [
    "sampled_hum_data = test_data[test_data['label'] == 0].sample(n=500,random_state=42)\n",
    "sampled_gen_data = test_data[test_data['label'] == 1].sample(n=500,random_state=42)"
   ]
  },
  {
   "cell_type": "code",
   "execution_count": 8,
   "metadata": {},
   "outputs": [
    {
     "data": {
      "text/plain": [
       "count                 500\n",
       "unique                  2\n",
       "top       codegen-2B-mono\n",
       "freq                  356\n",
       "Name: model_name, dtype: object"
      ]
     },
     "execution_count": 8,
     "metadata": {},
     "output_type": "execute_result"
    }
   ],
   "source": [
    "sampled_gen_data['model_name'].describe()"
   ]
  },
  {
   "cell_type": "code",
   "execution_count": 37,
   "metadata": {},
   "outputs": [],
   "source": [
    "sampled_data = pd.concat([sampled_hum_data,sampled_gen_data])"
   ]
  },
  {
   "cell_type": "code",
   "execution_count": 9,
   "metadata": {},
   "outputs": [],
   "source": [
    "sampled_hum_data.to_pickle(\"../dataset/csn_1k_hum_test.pkl\")\n",
    "sampled_gen_data.to_pickle(\"../dataset/csn_1k_gen_test.pkl\")"
   ]
  }
 ],
 "metadata": {
  "kernelspec": {
   "display_name": "py38-torch113",
   "language": "python",
   "name": "python3"
  },
  "language_info": {
   "codemirror_mode": {
    "name": "ipython",
    "version": 3
   },
   "file_extension": ".py",
   "mimetype": "text/x-python",
   "name": "python",
   "nbconvert_exporter": "python",
   "pygments_lexer": "ipython3",
   "version": "3.8.15"
  },
  "orig_nbformat": 4
 },
 "nbformat": 4,
 "nbformat_minor": 2
}
