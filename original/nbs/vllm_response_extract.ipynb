{
 "cells": [
  {
   "cell_type": "code",
   "execution_count": 16,
   "metadata": {},
   "outputs": [],
   "source": [
    "import json\n",
    "import os\n",
    "\n",
    "os.chdir(\"/home/yangkai/codegen-detection/\")\n",
    "f_name = \"prompt_gpt/mbpp_gen_test_starchat_direct_resp2.jsonl\"\n",
    "responses = [json.loads(line) for line in open(f_name).readlines()]"
   ]
  },
  {
   "cell_type": "code",
   "execution_count": 17,
   "metadata": {},
   "outputs": [],
   "source": [
    "from response_extraction import step1_extract_code, step2_code_filter\n",
    "# responses = [step2_code_filter(step1_extract_code(raw['choices'][0]['message']['content'])) for raw in responses]"
   ]
  },
  {
   "cell_type": "code",
   "execution_count": 18,
   "metadata": {},
   "outputs": [
    {
     "data": {
      "text/plain": [
       "(0, 233)"
      ]
     },
     "execution_count": 18,
     "metadata": {},
     "output_type": "execute_result"
    }
   ],
   "source": [
    "cnt = 0\n",
    "failed_ids = []\n",
    "for id,resp in enumerate(responses):\n",
    "    if len(resp) == 0:\n",
    "        cnt += 1\n",
    "        failed_ids.append(id)\n",
    "\n",
    "cnt,len(responses)"
   ]
  },
  {
   "cell_type": "code",
   "execution_count": 19,
   "metadata": {},
   "outputs": [],
   "source": [
    "import pandas as pd\n",
    "orig_data = pd.read_pickle(\"dataset/mbpp_gen_test.pkl\")\n",
    "problems = orig_data['prompt'].tolist()\n",
    "# orig_data"
   ]
  },
  {
   "cell_type": "code",
   "execution_count": 20,
   "metadata": {},
   "outputs": [
    {
     "name": "stderr",
     "output_type": "stream",
     "text": [
      "/tmp/ipykernel_1327371/4224116786.py:4: SettingWithCopyWarning: \n",
      "A value is trying to be set on a copy of a slice from a DataFrame.\n",
      "Try using .loc[row_indexer,col_indexer] = value instead\n",
      "\n",
      "See the caveats in the documentation: https://pandas.pydata.org/pandas-docs/stable/user_guide/indexing.html#returning-a-view-versus-a-copy\n",
      "  df['extracted_full_func'] = responses\n"
     ]
    }
   ],
   "source": [
    "# selected_cols = ['problem_id','question','solutions','difficulty','url','starter_code','apps_split','code_source','solution']\n",
    "selected_cols = [\"problem_id\",\"prompt\",\"solution\"]\n",
    "df = orig_data[selected_cols]\n",
    "df['extracted_full_func'] = responses"
   ]
  },
  {
   "cell_type": "code",
   "execution_count": 21,
   "metadata": {},
   "outputs": [
    {
     "data": {
      "text/html": [
       "<div>\n",
       "<style scoped>\n",
       "    .dataframe tbody tr th:only-of-type {\n",
       "        vertical-align: middle;\n",
       "    }\n",
       "\n",
       "    .dataframe tbody tr th {\n",
       "        vertical-align: top;\n",
       "    }\n",
       "\n",
       "    .dataframe thead th {\n",
       "        text-align: right;\n",
       "    }\n",
       "</style>\n",
       "<table border=\"1\" class=\"dataframe\">\n",
       "  <thead>\n",
       "    <tr style=\"text-align: right;\">\n",
       "      <th></th>\n",
       "      <th>problem_id</th>\n",
       "      <th>prompt</th>\n",
       "      <th>solution</th>\n",
       "      <th>extracted_full_func</th>\n",
       "    </tr>\n",
       "  </thead>\n",
       "  <tbody>\n",
       "    <tr>\n",
       "      <th>630</th>\n",
       "      <td>823</td>\n",
       "      <td>Write a function to check if the given string ...</td>\n",
       "      <td>import re \\r\\ndef check_substring(string, samp...</td>\n",
       "      <td>import re\\ndef starts_with_regex(text, start):...</td>\n",
       "    </tr>\n",
       "    <tr>\n",
       "      <th>917</th>\n",
       "      <td>953</td>\n",
       "      <td>Write a python function to find the minimun nu...</td>\n",
       "      <td>def subset(ar, n): \\r\\n    res = 0\\r\\n    ar.s...</td>\n",
       "      <td>def min_subsets(arr, target):\\n    arr.sort()\\...</td>\n",
       "    </tr>\n",
       "    <tr>\n",
       "      <th>626</th>\n",
       "      <td>321</td>\n",
       "      <td>Write a function to find the demlo number for ...</td>\n",
       "      <td>def find_demlo(s): \\r\\n\\tl = len(s) \\r\\n\\tres ...</td>\n",
       "      <td>def demlo(n):\\n    demlo = 0\\n    while n &gt; 0:...</td>\n",
       "    </tr>\n",
       "    <tr>\n",
       "      <th>511</th>\n",
       "      <td>941</td>\n",
       "      <td>Write a function to count the elements in a li...</td>\n",
       "      <td>def count_elim(num):\\r\\n  count_elim = 0\\r\\n  ...</td>\n",
       "      <td>def count_less_than(elements: list, target: in...</td>\n",
       "    </tr>\n",
       "    <tr>\n",
       "      <th>149</th>\n",
       "      <td>33</td>\n",
       "      <td>Write a python function to convert a decimal n...</td>\n",
       "      <td>def decimal_To_Binary(N): \\r\\n    B_Number = 0...</td>\n",
       "      <td>def decimal_to_binary(num):\\n    binary = \"\"\\n...</td>\n",
       "    </tr>\n",
       "    <tr>\n",
       "      <th>...</th>\n",
       "      <td>...</td>\n",
       "      <td>...</td>\n",
       "      <td>...</td>\n",
       "      <td>...</td>\n",
       "    </tr>\n",
       "    <tr>\n",
       "      <th>365</th>\n",
       "      <td>721</td>\n",
       "      <td>Write a function to find a path with the maxim...</td>\n",
       "      <td>M = 100\\r\\ndef maxAverageOfPath(cost, N): \\r\\n...</td>\n",
       "      <td>def max_avg_path(mat):\\n    n = len(mat)\\n    ...</td>\n",
       "    </tr>\n",
       "    <tr>\n",
       "      <th>801</th>\n",
       "      <td>442</td>\n",
       "      <td>Write a function to find the ration of positiv...</td>\n",
       "      <td>from array import array\\r\\ndef positive_count(...</td>\n",
       "      <td>py\\ndef positive_ratio(arr):\\n  # Write your c...</td>\n",
       "    </tr>\n",
       "    <tr>\n",
       "      <th>564</th>\n",
       "      <td>707</td>\n",
       "      <td>Write a python function to count the total set...</td>\n",
       "      <td>def count_Set_Bits(n) :  \\r\\n    n += 1; \\r\\n ...</td>\n",
       "      <td>def count_set_bits(n):\\n    count = 0\\n    for...</td>\n",
       "    </tr>\n",
       "    <tr>\n",
       "      <th>621</th>\n",
       "      <td>125</td>\n",
       "      <td>Write a function to find the maximum differenc...</td>\n",
       "      <td>def find_length(string, n): \\r\\n\\tcurrent_sum ...</td>\n",
       "      <td>def max_01_difference(binary_string):\\n    max...</td>\n",
       "    </tr>\n",
       "    <tr>\n",
       "      <th>944</th>\n",
       "      <td>355</td>\n",
       "      <td>Write a python function to count the number of...</td>\n",
       "      <td>def count_Rectangles(radius):  \\r\\n    rectang...</td>\n",
       "      <td>def count_rectangles(r):\\n    area = 3.14 * (r...</td>\n",
       "    </tr>\n",
       "  </tbody>\n",
       "</table>\n",
       "<p>233 rows × 4 columns</p>\n",
       "</div>"
      ],
      "text/plain": [
       "     problem_id                                             prompt  \\\n",
       "630         823  Write a function to check if the given string ...   \n",
       "917         953  Write a python function to find the minimun nu...   \n",
       "626         321  Write a function to find the demlo number for ...   \n",
       "511         941  Write a function to count the elements in a li...   \n",
       "149          33  Write a python function to convert a decimal n...   \n",
       "..          ...                                                ...   \n",
       "365         721  Write a function to find a path with the maxim...   \n",
       "801         442  Write a function to find the ration of positiv...   \n",
       "564         707  Write a python function to count the total set...   \n",
       "621         125  Write a function to find the maximum differenc...   \n",
       "944         355  Write a python function to count the number of...   \n",
       "\n",
       "                                              solution  \\\n",
       "630  import re \\r\\ndef check_substring(string, samp...   \n",
       "917  def subset(ar, n): \\r\\n    res = 0\\r\\n    ar.s...   \n",
       "626  def find_demlo(s): \\r\\n\\tl = len(s) \\r\\n\\tres ...   \n",
       "511  def count_elim(num):\\r\\n  count_elim = 0\\r\\n  ...   \n",
       "149  def decimal_To_Binary(N): \\r\\n    B_Number = 0...   \n",
       "..                                                 ...   \n",
       "365  M = 100\\r\\ndef maxAverageOfPath(cost, N): \\r\\n...   \n",
       "801  from array import array\\r\\ndef positive_count(...   \n",
       "564  def count_Set_Bits(n) :  \\r\\n    n += 1; \\r\\n ...   \n",
       "621  def find_length(string, n): \\r\\n\\tcurrent_sum ...   \n",
       "944  def count_Rectangles(radius):  \\r\\n    rectang...   \n",
       "\n",
       "                                   extracted_full_func  \n",
       "630  import re\\ndef starts_with_regex(text, start):...  \n",
       "917  def min_subsets(arr, target):\\n    arr.sort()\\...  \n",
       "626  def demlo(n):\\n    demlo = 0\\n    while n > 0:...  \n",
       "511  def count_less_than(elements: list, target: in...  \n",
       "149  def decimal_to_binary(num):\\n    binary = \"\"\\n...  \n",
       "..                                                 ...  \n",
       "365  def max_avg_path(mat):\\n    n = len(mat)\\n    ...  \n",
       "801  py\\ndef positive_ratio(arr):\\n  # Write your c...  \n",
       "564  def count_set_bits(n):\\n    count = 0\\n    for...  \n",
       "621  def max_01_difference(binary_string):\\n    max...  \n",
       "944  def count_rectangles(r):\\n    area = 3.14 * (r...  \n",
       "\n",
       "[233 rows x 4 columns]"
      ]
     },
     "execution_count": 21,
     "metadata": {},
     "output_type": "execute_result"
    }
   ],
   "source": [
    "df"
   ]
  },
  {
   "cell_type": "code",
   "execution_count": 22,
   "metadata": {},
   "outputs": [],
   "source": [
    "df.to_pickle(\"dataset/mbpp_gen_test_starchat.pkl\")"
   ]
  }
 ],
 "metadata": {
  "kernelspec": {
   "display_name": "torch20-cu117",
   "language": "python",
   "name": "python3"
  },
  "language_info": {
   "codemirror_mode": {
    "name": "ipython",
    "version": 3
   },
   "file_extension": ".py",
   "mimetype": "text/x-python",
   "name": "python",
   "nbconvert_exporter": "python",
   "pygments_lexer": "ipython3",
   "version": "3.8.18"
  },
  "orig_nbformat": 4
 },
 "nbformat": 4,
 "nbformat_minor": 2
}
