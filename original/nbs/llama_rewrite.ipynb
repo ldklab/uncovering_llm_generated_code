{
 "cells": [
  {
   "cell_type": "code",
   "execution_count": 1,
   "metadata": {},
   "outputs": [],
   "source": [
    "import os\n",
    "os.chdir(\"/home/yangkai/codegen-detection/prompt_gpt\")\n",
    "os.environ['CUDA_VISIBLE_DEVICES'] = '0'"
   ]
  },
  {
   "cell_type": "code",
   "execution_count": 2,
   "metadata": {},
   "outputs": [
    {
     "name": "stderr",
     "output_type": "stream",
     "text": [
      "/home/yangkai/anaconda3/envs/torch20-cu117/lib/python3.9/site-packages/tqdm/auto.py:21: TqdmWarning: IProgress not found. Please update jupyter and ipywidgets. See https://ipywidgets.readthedocs.io/en/stable/user_install.html\n",
      "  from .autonotebook import tqdm as notebook_tqdm\n"
     ]
    },
    {
     "name": "stdout",
     "output_type": "stream",
     "text": [
      "init_kwargs {'torch_dtype': torch.float16}\n"
     ]
    },
    {
     "name": "stderr",
     "output_type": "stream",
     "text": [
      "Loading checkpoint shards: 100%|██████████| 2/2 [00:06<00:00,  3.11s/it]\n"
     ]
    }
   ],
   "source": [
    "from vicuna_api import FastChatHFServe\n",
    "serve = FastChatHFServe(model_path=\"../../llm_checkpoints/vicuna-7b\",\n",
    "                                device='cuda',\n",
    "                                num_gpus=1,\n",
    "                                max_gpu_memory='14GiB',\n",
    "                                load_8bit=True,\n",
    "                                debug=False)"
   ]
  },
  {
   "cell_type": "code",
   "execution_count": 3,
   "metadata": {},
   "outputs": [],
   "source": [
    "import pandas as pd\n",
    "dataset = pd.read_pickle(\"../dataset/apps_gen_test100.pkl\")\n",
    "data = dataset['extracted_full_func'].tolist()"
   ]
  },
  {
   "cell_type": "code",
   "execution_count": 4,
   "metadata": {},
   "outputs": [],
   "source": [
    "generation_params = {'top_p':0.95,\n",
    "                     \"temperature\":0.8,\n",
    "                     \"do_sample\":True,\n",
    "                     \"max_new_tokens\":512}"
   ]
  },
  {
   "cell_type": "code",
   "execution_count": 5,
   "metadata": {},
   "outputs": [],
   "source": [
    "template = \"{}\\n\\nPlease first explain the functionality of the python code above.\""
   ]
  },
  {
   "cell_type": "code",
   "execution_count": 8,
   "metadata": {},
   "outputs": [],
   "source": [
    "msg = [[{'role':'USER','content':template.format(data[1])}]]\n",
    "out = serve.chat_completion(msg,generation_params)"
   ]
  },
  {
   "cell_type": "code",
   "execution_count": 12,
   "metadata": {},
   "outputs": [],
   "source": [
    "new_query = out[0]['content']"
   ]
  },
  {
   "cell_type": "code",
   "execution_count": 15,
   "metadata": {},
   "outputs": [],
   "source": [
    "msg[0].append({'role':'ASSISTANT','content':new_query})"
   ]
  },
  {
   "cell_type": "code",
   "execution_count": 18,
   "metadata": {},
   "outputs": [],
   "source": [
    "prompt2 = \"Now generate a possible rewrite for this python code according to your explanation. Please organize all the code in a single markdown code block.\"\n",
    "msg[0].append({'role':'USER','content':prompt2})\n",
    "out2 = serve.chat_completion(msg,generation_params)"
   ]
  },
  {
   "cell_type": "code",
   "execution_count": 21,
   "metadata": {},
   "outputs": [
    {
     "name": "stdout",
     "output_type": "stream",
     "text": [
      "```\n",
      "n, k = map(int, input().split())\n",
      "a = list(map(int, input().split()))\n",
      "freq = defaultdict(int)\n",
      "\n",
      "# initialize frequency dictionary\n",
      "for num in a:\n",
      "    freq[num % k] += 1\n",
      "\n",
      "# count multiples of k and k+1\n",
      "count = 0\n",
      "for i in range(n):\n",
      "    num = a[i]\n",
      "    if num % k == 0:\n",
      "        count += freq[num % k] - 1\n",
      "    elif num % k + 1 == 0:\n",
      "        count += freq[num % k + 1] - 1\n",
      "    else:\n",
      "        count += freq[num]\n",
      "\n",
      "print(count)\n",
      "```\n",
      "This code follows the same logic as the original code but is organized in a single markdown code block. The function `input()` is used to read the input from the user and the variables `n` and `k` are stored in separate variables. The `a` input is also read and stored in a variable and the frequency dictionary is created by iterating over the input list `a` and incrementing the value for the key that is the remainder of the current number when divided by `k`.\n",
      "\n",
      "The rest of the code is similar to the original code, it counts the number of multiples of `k` and `k+1` and prints the count at the end.\n"
     ]
    }
   ],
   "source": [
    "print(out2[0]['content'])"
   ]
  }
 ],
 "metadata": {
  "kernelspec": {
   "display_name": "torch20-cu117",
   "language": "python",
   "name": "python3"
  },
  "language_info": {
   "codemirror_mode": {
    "name": "ipython",
    "version": 3
   },
   "file_extension": ".py",
   "mimetype": "text/x-python",
   "name": "python",
   "nbconvert_exporter": "python",
   "pygments_lexer": "ipython3",
   "version": "3.9.16"
  },
  "orig_nbformat": 4
 },
 "nbformat": 4,
 "nbformat_minor": 2
}
