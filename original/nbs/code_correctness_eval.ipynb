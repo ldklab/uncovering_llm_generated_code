{
 "cells": [
  {
   "cell_type": "code",
   "execution_count": 1,
   "metadata": {},
   "outputs": [],
   "source": [
    "import os\n",
    "os.chdir(\"/home/yangkai/codegen-detection/\")"
   ]
  },
  {
   "cell_type": "code",
   "execution_count": 2,
   "metadata": {},
   "outputs": [],
   "source": [
    "import pandas as pd\n",
    "df = pd.read_pickle(\"dataset/mbpp_gen_test.pkl\")[['problem_id','solution','prompt','extracted_full_func']]\n",
    "df_test = pd.read_json(\"dataset/mbpp_with_test.json\",lines=True)\n",
    "df_test = df_test[['problem_id','test_list','test_setup_code']]"
   ]
  },
  {
   "cell_type": "code",
   "execution_count": 3,
   "metadata": {},
   "outputs": [],
   "source": [
    "import re\n",
    "for_test_df = pd.merge(df,df_test,on='problem_id',how='left')\n",
    "\n",
    "def extract_function_name(code):\n",
    "    pattern = r\"def\\s+([\\w_]+)\\s*\\(\"\n",
    "    function_names = re.findall(pattern, code)\n",
    "    return function_names\n",
    "\n",
    "gen_names = for_test_df.extracted_full_func.apply(extract_function_name)\n",
    "orig_names = for_test_df.solution.apply(extract_function_name).tolist()\n",
    "tests = for_test_df.test_list.tolist()\n",
    "\n",
    "filter_orig_names = []\n",
    "for names,test in zip(orig_names,tests):\n",
    "    for name in names:\n",
    "        if name in test[0]:\n",
    "            filter_orig_names.append(name)\n",
    "            break\n",
    "\n",
    "for_test_df['entry_point_name'] = filter_orig_names\n",
    "for_test_df['gen_names'] = gen_names"
   ]
  },
  {
   "cell_type": "code",
   "execution_count": 4,
   "metadata": {},
   "outputs": [
    {
     "name": "stderr",
     "output_type": "stream",
     "text": [
      " 98%|█████████▊| 229/233 [00:38<00:00, 16.98it/s]"
     ]
    }
   ],
   "source": [
    "from excution import check_correctness\n",
    "import tqdm\n",
    "\n",
    "correct_ids = []\n",
    "bar = tqdm.tqdm(total=len(for_test_df))\n",
    "for _,p in for_test_df.iterrows():\n",
    "    input = {'prompt':'','test':\"\\n\".join(p['test_list']),'task_id':p['problem_id']}\n",
    "    completion = p['extracted_full_func']\n",
    "    entry_point = p['entry_point_name']\n",
    "    is_pass = False\n",
    "    for gen_name in p['gen_names']:\n",
    "        norm_completion = completion.replace(gen_name,entry_point)\n",
    "        res = check_correctness(input,norm_completion,5)\n",
    "        if res['passed']:\n",
    "            is_pass = True\n",
    "            break\n",
    "    \n",
    "    if is_pass:\n",
    "        correct_ids.append(p['problem_id'])\n",
    "    bar.update(1)"
   ]
  },
  {
   "cell_type": "code",
   "execution_count": 11,
   "metadata": {},
   "outputs": [],
   "source": [
    "df = pd.read_pickle(\"dataset/mbpp_gen_test.pkl\")\n",
    "correct_df = df[df['problem_id'].isin(correct_ids)]\n",
    "correct_df.to_pickle(\"dataset/mbpp_gen_test_correct.pkl\")"
   ]
  }
 ],
 "metadata": {
  "kernelspec": {
   "display_name": "vllm",
   "language": "python",
   "name": "python3"
  },
  "language_info": {
   "codemirror_mode": {
    "name": "ipython",
    "version": 3
   },
   "file_extension": ".py",
   "mimetype": "text/x-python",
   "name": "python",
   "nbconvert_exporter": "python",
   "pygments_lexer": "ipython3",
   "version": "3.8.18"
  }
 },
 "nbformat": 4,
 "nbformat_minor": 2
}
