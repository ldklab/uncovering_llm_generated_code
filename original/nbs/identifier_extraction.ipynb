{
 "cells": [
  {
   "cell_type": "code",
   "execution_count": 1,
   "outputs": [],
   "source": [
    "%load_ext autoreload\n",
    "%autoreload 2"
   ],
   "metadata": {
    "collapsed": false,
    "pycharm": {
     "name": "#%%\n"
    }
   }
  },
  {
   "cell_type": "code",
   "execution_count": 2,
   "outputs": [],
   "source": [
    "import pandas as pd\n",
    "import numpy as np\n",
    "import os\n",
    "os.chdir(\"../\")"
   ],
   "metadata": {
    "collapsed": false,
    "pycharm": {
     "name": "#%%\n"
    }
   }
  },
  {
   "cell_type": "code",
   "execution_count": 3,
   "outputs": [],
   "source": [
    "train_gen_data = pd.read_pickle(\"dataset/all_gen_test_prompt_split.pkl\")\n",
    "train_human_data = pd.read_pickle(\"dataset/all_human_test_prompt_split.pkl\")\n",
    "all_data = pd.concat([train_gen_data,train_human_data])"
   ],
   "metadata": {
    "collapsed": false,
    "pycharm": {
     "name": "#%%\n"
    }
   }
  },
  {
   "cell_type": "code",
   "execution_count": 4,
   "outputs": [],
   "source": [
    "from utils import ASTGraph,ASTNode\n",
    "from tree_sitter import Language, Parser\n",
    "PY_LANGUAGE = Language('parser/build/python.so', 'python')\n",
    "parser = Parser()\n",
    "parser.set_language(PY_LANGUAGE)"
   ],
   "metadata": {
    "collapsed": false,
    "pycharm": {
     "name": "#%%\n"
    }
   }
  },
  {
   "cell_type": "code",
   "execution_count": 24,
   "outputs": [],
   "source": [
    "from utils import PygmentsTokenizer\n",
    "pygments_tokenizer = PygmentsTokenizer('Python')\n",
    "\n",
    "def ast_parse(func_str):\n",
    "    tree = parser.parse(bytes(func_str,'utf-8'))\n",
    "    ast = ASTGraph.from_tree_sitter(tree)\n",
    "    return ast\n",
    "\n",
    "def get_identifier_map(func_str):\n",
    "    ast_tree = ast_parse(func_str)\n",
    "    token_list = pygments_tokenizer.tokenize(func_str)\n",
    "\n",
    "    identifier_map = {}\n",
    "    for token_id,token in enumerate(token_list):\n",
    "        if \"token.name\" in str(token.token_type).lower() and ('builtin' not in str(token.token_type).lower()):\n",
    "            ast_node_id = ast_tree.find_smallest_encompassing_interval(token.source_span)\n",
    "            if token.string not in identifier_map:\n",
    "                identifier_map[token.string] = [(token_id,ast_node_id)]\n",
    "            else:\n",
    "                identifier_map[token.string].append((token_id,ast_node_id))\n",
    "\n",
    "    func_identifier_map = {}\n",
    "    var_identifier_map = {}\n",
    "    for ident_name,ident_list in identifier_map.items():\n",
    "        # for (token_id,ast_node_id) in ident_list:\n",
    "        token_id,ast_node_id = ident_list[0]\n",
    "        cur_node_id = ast_node_id\n",
    "        parent_node_id = ast_tree.nodes[cur_node_id].parent\n",
    "        parent_node = ast_tree.nodes[parent_node_id]\n",
    "        # print(token_list[token_id],parent_node.node_type,ast_tree.nodes[ast_node_id].node_type)\n",
    "        if parent_node.node_type in ['assignment','for_statement','parameters','typed_parameter',\"pattern_list\",\"for_in_clause\"]:\n",
    "            var_identifier_map[ident_name] = [token_list[item[0]].orig_pos for item in ident_list]\n",
    "        elif parent_node.node_type in ['function_definition']:\n",
    "            func_identifier_map[ident_name] = [token_list[item[0]].orig_pos for item in ident_list]\n",
    "\n",
    "    return {'func':func_identifier_map,'var':var_identifier_map}\n",
    "\n",
    "        # if str(token_list[token_id].token_type) == \"Token.Name.Function\":\n",
    "        #     if token_list[token_id].string not in ['!','<=>','initialize','==']:\n",
    "        #         func_identifier_map[ident_name] = [item[0] for item in ident_list]\n",
    "        # elif parent_node.node_type == 'call':\n",
    "        #     continue\n",
    "        # else:\n",
    "        #     var_identifier_map[ident_name] = [item[0] for item in ident_list]\n",
    "    #\n",
    "    # return func_identifier_map,var_identifier_map\n"
   ],
   "metadata": {
    "collapsed": false,
    "pycharm": {
     "name": "#%%\n"
    }
   }
  },
  {
   "cell_type": "code",
   "execution_count": 6,
   "outputs": [],
   "source": [
    "gen_identifier_map = train_gen_data['full_code'].apply(get_identifier_map)\n",
    "human_identifier_map = train_human_data['full_code'].apply(get_identifier_map)"
   ],
   "metadata": {
    "collapsed": false,
    "pycharm": {
     "name": "#%%\n"
    }
   }
  },
  {
   "cell_type": "code",
   "execution_count": 7,
   "outputs": [],
   "source": [
    "train_gen_data['identifier_map'] = gen_identifier_map\n",
    "train_human_data['identifier_map'] = human_identifier_map"
   ],
   "metadata": {
    "collapsed": false,
    "pycharm": {
     "name": "#%%\n"
    }
   }
  },
  {
   "cell_type": "code",
   "execution_count": 8,
   "outputs": [],
   "source": [
    "train_gen_data.to_pickle(\"dataset/all_gen_test_prompt_split.pkl\")"
   ],
   "metadata": {
    "collapsed": false,
    "pycharm": {
     "name": "#%%\n"
    }
   }
  },
  {
   "cell_type": "code",
   "execution_count": 9,
   "outputs": [],
   "source": [
    "train_human_data.to_pickle(\"dataset/all_human_test_prompt_split.pkl\")"
   ],
   "metadata": {
    "collapsed": false,
    "pycharm": {
     "name": "#%%\n"
    }
   }
  },
  {
   "cell_type": "code",
   "execution_count": 11,
   "outputs": [
    {
     "data": {
      "text/plain": "33467    {'func': {'sphere_pick_polar': [4]}, 'var': {'...\n27868    {'func': {'poly': [18], 'find_zero': [257]}, '...\n35734    {'func': {'median': [4]}, 'var': {'cols': [342...\n8191     {'func': {'multiply': [4], 'transpose': [1075,...\n5453     {'func': {'compile_geometry': [4]}, 'var': {'l...\n                               ...                        \n27300    {'func': {'compare_one': [5]}, 'var': {'a': [1...\n42139    {'func': {'_file_size': [4]}, 'var': {'file_pa...\n8258     {'func': {'find_windows_executable': [4]}, 'va...\n32160    {'func': {'_file_size': [4, 226]}, 'var': {'fi...\n21995    {'func': {'median': [4]}, 'var': {'values': [1...\nName: full_code, Length: 10758, dtype: object"
     },
     "execution_count": 11,
     "metadata": {},
     "output_type": "execute_result"
    }
   ],
   "source": [
    "gen_identifier_map"
   ],
   "metadata": {
    "collapsed": false,
    "pycharm": {
     "name": "#%%\n"
    }
   }
  },
  {
   "cell_type": "markdown",
   "source": [
    "## APPS Extract"
   ],
   "metadata": {
    "collapsed": false,
    "pycharm": {
     "name": "#%% md\n"
    }
   }
  },
  {
   "cell_type": "code",
   "execution_count": 3,
   "outputs": [],
   "source": [
    "import pandas as pd\n",
    "hum_data = pd.read_pickle(\"dataset/apps_hum.pkl\")\n",
    "gen_data = pd.read_pickle(\"dataset/apps_gen.pkl\")"
   ],
   "metadata": {
    "collapsed": false,
    "pycharm": {
     "name": "#%%\n"
    }
   }
  },
  {
   "cell_type": "code",
   "execution_count": 25,
   "outputs": [],
   "source": [
    "human_identifier_map = hum_data.extracted_full_func.apply(get_identifier_map)"
   ],
   "metadata": {
    "collapsed": false,
    "pycharm": {
     "name": "#%%\n"
    }
   }
  },
  {
   "cell_type": "code",
   "execution_count": 26,
   "outputs": [],
   "source": [
    "hum_data['identifier_map'] = human_identifier_map"
   ],
   "metadata": {
    "collapsed": false,
    "pycharm": {
     "name": "#%%\n"
    }
   }
  },
  {
   "cell_type": "code",
   "execution_count": 27,
   "outputs": [],
   "source": [
    "def is_empty(x):\n",
    "    return len(x['func']) + len(x['var']) == 0\n",
    "failed_cases = hum_data[hum_data['identifier_map'].apply(is_empty)].extracted_full_func.tolist()"
   ],
   "metadata": {
    "collapsed": false,
    "pycharm": {
     "name": "#%%\n"
    }
   }
  },
  {
   "cell_type": "code",
   "execution_count": 28,
   "outputs": [
    {
     "data": {
      "text/plain": "[\"print(input().replace('2017','2018'))\",\n 'print(\"x\"*len(input()))',\n 'input()\\nprint(int(\\'\\'.join(\"0\" if c == \"R\" else \"1\" for c in input()[::-1]), 2))\\n',\n 'print(\"A\" if input().isupper() else \"a\")',\n 'if int(input()) == 0:\\n    print((1))\\nelse:\\n    print((0))\\n',\n 'input();print(\"Four\"if\"Y\"in input()else\"Three\")',\n \"print('YNeos'[len(set(input()))==1::2])\"]"
     },
     "execution_count": 28,
     "metadata": {},
     "output_type": "execute_result"
    }
   ],
   "source": [
    "failed_cases"
   ],
   "metadata": {
    "collapsed": false,
    "pycharm": {
     "name": "#%%\n"
    }
   }
  },
  {
   "cell_type": "code",
   "execution_count": 29,
   "outputs": [],
   "source": [
    "gen_identifier_map = gen_data.extracted_full_func.apply(get_identifier_map)"
   ],
   "metadata": {
    "collapsed": false,
    "pycharm": {
     "name": "#%%\n"
    }
   }
  },
  {
   "cell_type": "code",
   "execution_count": 30,
   "outputs": [],
   "source": [
    "gen_data['identifier_map'] = gen_identifier_map"
   ],
   "metadata": {
    "collapsed": false,
    "pycharm": {
     "name": "#%%\n"
    }
   }
  },
  {
   "cell_type": "code",
   "execution_count": 31,
   "outputs": [],
   "source": [
    "def is_empty(x):\n",
    "    return len(x['func']) + len(x['var']) == 0\n",
    "failed_cases = gen_data[gen_data['identifier_map'].apply(is_empty)].extracted_full_func.tolist()"
   ],
   "metadata": {
    "collapsed": false,
    "pycharm": {
     "name": "#%%\n"
    }
   }
  },
  {
   "cell_type": "code",
   "execution_count": 40,
   "outputs": [],
   "source": [
    "hum_data.to_pickle(\"dataset/apps_hum.pkl\")\n",
    "gen_data.to_pickle(\"dataset/apps_gen.pkl\")"
   ],
   "metadata": {
    "collapsed": false,
    "pycharm": {
     "name": "#%%\n"
    }
   }
  }
 ],
 "metadata": {
  "kernelspec": {
   "display_name": "Python 3",
   "language": "python",
   "name": "python3"
  },
  "language_info": {
   "codemirror_mode": {
    "name": "ipython",
    "version": 2
   },
   "file_extension": ".py",
   "mimetype": "text/x-python",
   "name": "python",
   "nbconvert_exporter": "python",
   "pygments_lexer": "ipython2",
   "version": "2.7.6"
  }
 },
 "nbformat": 4,
 "nbformat_minor": 0
}